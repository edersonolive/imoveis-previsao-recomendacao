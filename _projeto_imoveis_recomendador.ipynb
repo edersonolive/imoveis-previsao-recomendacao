{
  "nbformat": 4,
  "nbformat_minor": 0,
  "metadata": {
    "colab": {
      "provenance": [],
      "collapsed_sections": [
        "uV-inmwOx58m"
      ]
    },
    "kernelspec": {
      "name": "python3",
      "display_name": "Python 3"
    },
    "language_info": {
      "name": "python"
    }
  },
  "cells": [
    {
      "cell_type": "markdown",
      "metadata": {
        "id": "uV-inmwOx58m"
      },
      "source": [
        "## **Importando as dependências, OS e iniciando SparkSession**"
      ]
    },
    {
      "cell_type": "code",
      "execution_count": 1,
      "metadata": {
        "id": "Xd6qAbD4x8cc",
        "colab": {
          "base_uri": "https://localhost:8080/"
        },
        "outputId": "5b0c040b-0b23-48a6-d2c7-1351867b56c9"
      },
      "outputs": [
        {
          "output_type": "stream",
          "name": "stdout",
          "text": [
            "Looking in indexes: https://pypi.org/simple, https://us-python.pkg.dev/colab-wheels/public/simple/\n",
            "Collecting pyspark==3.3.1\n",
            "  Downloading pyspark-3.3.1.tar.gz (281.4 MB)\n",
            "\u001b[K     |████████████████████████████████| 281.4 MB 45 kB/s \n",
            "\u001b[?25hCollecting py4j==0.10.9.5\n",
            "  Downloading py4j-0.10.9.5-py2.py3-none-any.whl (199 kB)\n",
            "\u001b[K     |████████████████████████████████| 199 kB 51.2 MB/s \n",
            "\u001b[?25hBuilding wheels for collected packages: pyspark\n",
            "  Building wheel for pyspark (setup.py) ... \u001b[?25l\u001b[?25hdone\n",
            "  Created wheel for pyspark: filename=pyspark-3.3.1-py2.py3-none-any.whl size=281845512 sha256=afa6e30aee409a88fd97ebe00269b5d6c0cd2821e373da8cc59d1d7abf71a778\n",
            "  Stored in directory: /root/.cache/pip/wheels/43/dc/11/ec201cd671da62fa9c5cc77078235e40722170ceba231d7598\n",
            "Successfully built pyspark\n",
            "Installing collected packages: py4j, pyspark\n",
            "Successfully installed py4j-0.10.9.5 pyspark-3.3.1\n"
          ]
        }
      ],
      "source": [
        "#instalação da biblioteca pyspark\n",
        "!pip install pyspark==3.3.1"
      ]
    },
    {
      "cell_type": "code",
      "source": [
        "#importando a função SparkSession da biblioteca pyspark.sql\n",
        "from pyspark.sql import SparkSession"
      ],
      "metadata": {
        "id": "ikbXBiAXXAy1"
      },
      "execution_count": 2,
      "outputs": []
    },
    {
      "cell_type": "code",
      "source": [
        "#criando a sessão spark\n",
        "spark = SparkSession.builder \\\n",
        "    .master('local[*]') \\\n",
        "    .appName(\"Iniciando com Spark\") \\\n",
        "    .config('spark.ui.port', '4050') \\\n",
        "    .getOrCreate()"
      ],
      "metadata": {
        "id": "53O4DWx0XHyj"
      },
      "execution_count": 3,
      "outputs": []
    },
    {
      "cell_type": "code",
      "execution_count": 4,
      "metadata": {
        "id": "Jmyci098yAog"
      },
      "outputs": [],
      "source": [
        "import os\n",
        "os.environ[\"JAVA_HOME\"] = \"/usr/lib/jvm/java-8-openjdk-amd64\"\n",
        "os.environ[\"SPARK_HOME\"] = \"https://archive.apache.org/dist/spark/spark-3.3.1/spark-3.3.1-bin-hadoop2.tgz\"\n"
      ]
    },
    {
      "cell_type": "code",
      "execution_count": 5,
      "metadata": {
        "id": "IvAeosJRyFIL",
        "colab": {
          "base_uri": "https://localhost:8080/",
          "height": 219
        },
        "outputId": "bdf5c787-2e30-4e3d-d2b0-e44a090294f1"
      },
      "outputs": [
        {
          "output_type": "execute_result",
          "data": {
            "text/plain": [
              "<pyspark.sql.session.SparkSession at 0x7f5298bc7100>"
            ],
            "text/html": [
              "\n",
              "            <div>\n",
              "                <p><b>SparkSession - in-memory</b></p>\n",
              "                \n",
              "        <div>\n",
              "            <p><b>SparkContext</b></p>\n",
              "\n",
              "            <p><a href=\"http://4703556a956d:4050\">Spark UI</a></p>\n",
              "\n",
              "            <dl>\n",
              "              <dt>Version</dt>\n",
              "                <dd><code>v3.3.1</code></dd>\n",
              "              <dt>Master</dt>\n",
              "                <dd><code>local[*]</code></dd>\n",
              "              <dt>AppName</dt>\n",
              "                <dd><code>Iniciando com Spark</code></dd>\n",
              "            </dl>\n",
              "        </div>\n",
              "        \n",
              "            </div>\n",
              "        "
            ]
          },
          "metadata": {},
          "execution_count": 5
        }
      ],
      "source": [
        "spark"
      ]
    },
    {
      "cell_type": "code",
      "execution_count": 6,
      "metadata": {
        "id": "3-hm-DstzP2P",
        "colab": {
          "base_uri": "https://localhost:8080/"
        },
        "outputId": "7e2549a9-3b56-45ef-b9fa-b490d8a55639"
      },
      "outputs": [
        {
          "output_type": "stream",
          "name": "stdout",
          "text": [
            "Archive:  ngrok-stable-linux-amd64.zip\n",
            "  inflating: ngrok                   \n"
          ]
        }
      ],
      "source": [
        "!wget -q https://bin.equinox.io/c/4VmDzA7iaHb/ngrok-stable-linux-amd64.zip\n",
        "!unzip ngrok-stable-linux-amd64.zip"
      ]
    },
    {
      "cell_type": "code",
      "execution_count": 7,
      "metadata": {
        "id": "Yp6SZMrzza9a"
      },
      "outputs": [],
      "source": [
        "get_ipython().system_raw('./ngrok authtoken 2IAzSgOhNxfkxrV1MQEmNqrHBRS_2PDkj8UN4X5gPJWnHXhrq')\n",
        "get_ipython().system_raw('./ngrok http 4050 &')"
      ]
    },
    {
      "cell_type": "code",
      "execution_count": 8,
      "metadata": {
        "id": "DgkBhyQUzdEb",
        "colab": {
          "base_uri": "https://localhost:8080/"
        },
        "outputId": "28e8bf9d-93a4-4abc-865c-9695ec8eb29b"
      },
      "outputs": [
        {
          "output_type": "stream",
          "name": "stdout",
          "text": [
            "{\"tunnels\":[],\"uri\":\"/api/tunnels\"}\n"
          ]
        }
      ],
      "source": [
        "!curl -s http://localhost:4040/api/tunnels"
      ]
    },
    {
      "cell_type": "code",
      "execution_count": 9,
      "metadata": {
        "id": "rDgRwqfUzkD7",
        "colab": {
          "base_uri": "https://localhost:8080/"
        },
        "outputId": "08684151-4878-47b4-ea3d-5e5250ed5c40"
      },
      "outputs": [
        {
          "output_type": "stream",
          "name": "stdout",
          "text": [
            "Mounted at /content/drive\n"
          ]
        }
      ],
      "source": [
        "# carregando o arquivo\n",
        "\n",
        "from google.colab import drive\n",
        "drive.mount('/content/drive')"
      ]
    },
    {
      "cell_type": "markdown",
      "metadata": {
        "id": "5eND1Erhz53Q"
      },
      "source": [
        "## **Carregando e visualizando os dados**"
      ]
    },
    {
      "cell_type": "code",
      "execution_count": 10,
      "metadata": {
        "id": "HD17cf_Gz_N8"
      },
      "outputs": [],
      "source": [
        "#importando os dados\n",
        "dados = spark.read.parquet('/content/drive/MyDrive/Imoveis/Dados')"
      ]
    },
    {
      "cell_type": "code",
      "source": [
        "dados.show()"
      ],
      "metadata": {
        "colab": {
          "base_uri": "https://localhost:8080/"
        },
        "id": "i1_90MItX3pz",
        "outputId": "db3e081e-c800-4960-bed6-637c351a68ef"
      },
      "execution_count": 11,
      "outputs": [
        {
          "output_type": "stream",
          "name": "stdout",
          "text": [
            "+--------------------+-----+---------+---------+-------+------+----+--------------------+----------+------+---------+------------+----------+----------+--------+--------+------------------+-------------+------------------+--------+-------+----------+------------+-----------------+---------------+\n",
            "|                  id|andar|area_util|banheiros|quartos|suites|vaga|              bairro|condominio|  iptu|    valor|Zona Central|Zona Norte|Zona Oeste|Zona Sul|Academia|Animais permitidos|Churrasqueira|Condomínio fechado|Elevador|Piscina|Playground|Portaria 24h|Portão eletrônico|Salão de festas|\n",
            "+--------------------+-----+---------+---------+-------+------+----+--------------------+----------+------+---------+------------+----------+----------+--------+--------+------------------+-------------+------------------+--------+-------+----------+------------+-----------------+---------------+\n",
            "|00002dd9-cc74-480...|    2|       35|        1|      1|   0.0| 0.0|        Santo Cristo|     100.0| 100.0| 245000.0|           1|         0|         0|       0|       1|                 1|            1|                 1|       1|      1|         1|           1|                1|              1|\n",
            "|0009ca94-2b37-438...|    1|       84|        2|      2|   0.0| 1.0|              Tijuca|     770.0| 105.0| 474980.0|           0|         1|         0|       0|       0|                 0|            1|                 0|       1|      0|         1|           1|                0|              1|\n",
            "|000e3d28-e3e5-411...|    0|       85|        2|      2|   0.0| 0.0|        Santa Teresa|     460.0| 661.0| 290000.0|           0|         0|         0|       1|       0|                 1|            0|                 0|       1|      0|         0|           0|                0|              0|\n",
            "|000fb707-6cad-496...|    0|       58|        1|      2|   0.0| 1.0|           Pechincha|     550.0| 550.0| 249000.0|           0|         0|         1|       0|       0|                 0|            0|                 0|       0|      1|         1|           0|                0|              0|\n",
            "|001b6db0-e88d-4eb...|    0|       64|        2|      2|   1.0| 1.0|              Tijuca|     850.0|   0.0| 530000.0|           0|         1|         0|       0|       0|                 0|            0|                 0|       0|      0|         0|           0|                0|              0|\n",
            "|002db67e-52cc-480...|    0|      200|        6|      4|   4.0| 2.0|     Barra da Tijuca|    2500.0| 420.0|2900000.0|           0|         0|         1|       0|       1|                 1|            1|                 1|       1|      1|         1|           0|                0|              1|\n",
            "|002dc4e0-f1a5-4ad...|    0|       70|        2|      2|   0.0| 0.0|         Vila Isabel|     570.0|   0.0| 389000.0|           0|         1|         0|       0|       0|                 0|            0|                 0|       1|      0|         0|           0|                0|              0|\n",
            "|0030dd84-f657-41f...|    3|       70|        2|      2|   1.0| 1.0|        Pitangueiras|     670.0| 107.0| 470000.0|           0|         1|         0|       0|       0|                 0|            0|                 0|       1|      0|         0|           0|                1|              0|\n",
            "|003213bb-ec21-4ad...|    0|      302|        7|      4|   4.0| 2.0|     Barra da Tijuca|       0.0|   0.0|4400000.0|           0|         0|         1|       0|       1|                 0|            1|                 1|       0|      1|         1|           0|                0|              1|\n",
            "|0032884c-aa5f-455...|    0|       41|        1|      1|   1.0| 1.0|            Cachambi|     450.0|  40.0| 269900.0|           0|         1|         0|       0|       1|                 1|            1|                 1|       1|      1|         1|           1|                1|              1|\n",
            "|00348cd1-923a-4db...|    5|       78|        1|      2|   1.0| 1.0|     Barra da Tijuca|       1.0|   1.0|1050300.0|           0|         0|         1|       0|       1|                 1|            1|                 1|       1|      1|         1|           1|                1|              1|\n",
            "|0034df72-124a-438...|    0|      170|        3|      3|   2.0| 2.0|Recreio dos Bande...|    1300.0|4100.0| 950000.0|           0|         0|         1|       0|       1|                 0|            1|                 1|       0|      1|         0|           0|                0|              1|\n",
            "|0036114a-4a0f-492...|    0|      173|        3|      3|   1.0| 2.0|         Jacarepaguá|    1750.0|4600.0|1300000.0|           0|         0|         1|       0|       1|                 0|            1|                 0|       0|      1|         1|           0|                0|              1|\n",
            "|00370d62-f774-405...|    0|       82|        1|      3|   1.0| 1.0|Recreio dos Bande...|     650.0| 200.0| 650000.0|           0|         0|         1|       0|       0|                 0|            0|                 0|       0|      0|         0|           0|                0|              0|\n",
            "|00396d9d-2d0e-4b5...|    9|      120|        2|      2|   1.0| 2.0|          Copacabana|     950.0| 200.0| 970000.0|           0|         0|         0|       1|       0|                 1|            0|                 1|       1|      0|         0|           1|                1|              0|\n",
            "|003cb63c-a666-458...|   20|      341|        2|      3|   1.0| 2.0|          Copacabana|      20.0|  20.0|4800000.0|           0|         0|         0|       1|       0|                 1|            0|                 1|       1|      0|         0|           1|                1|              0|\n",
            "|0040f5a7-6c6a-40e...|    0|      194|        5|      4|   4.0| 3.0|     Barra da Tijuca|       0.0|   0.0|2750000.0|           0|         0|         1|       0|       1|                 0|            1|                 1|       1|      1|         1|           1|                1|              1|\n",
            "|00529a9d-d876-4dc...|    0|       32|        1|      1|   0.0| 0.0|             Piedade|       0.0|   0.0| 194687.0|           0|         1|         0|       0|       0|                 0|            0|                 0|       0|      0|         0|           0|                0|              1|\n",
            "|00584813-33b4-477...|    1|       70|        1|      2|   0.0| 0.0|          Bonsucesso|       0.0|   0.0| 220000.0|           0|         1|         0|       0|       0|                 0|            0|                 0|       0|      0|         0|           0|                0|              0|\n",
            "|005b5441-16b2-483...|   10|       72|        1|      2|   0.0| 1.0|            Botafogo|    1086.0|1498.0|1000000.0|           0|         0|         0|       1|       0|                 1|            0|                 1|       1|      0|         0|           1|                1|              0|\n",
            "+--------------------+-----+---------+---------+-------+------+----+--------------------+----------+------+---------+------------+----------+----------+--------+--------+------------------+-------------+------------------+--------+-------+----------+------------+-----------------+---------------+\n",
            "only showing top 20 rows\n",
            "\n"
          ]
        }
      ]
    },
    {
      "cell_type": "code",
      "source": [
        "#verificando quantos bairros existem na base de dados\n",
        "dados.select('bairro').distinct().count()"
      ],
      "metadata": {
        "colab": {
          "base_uri": "https://localhost:8080/"
        },
        "id": "02L4GHzMs408",
        "outputId": "3d19a069-8b84-4928-872b-d19d66861420"
      },
      "execution_count": 12,
      "outputs": [
        {
          "output_type": "execute_result",
          "data": {
            "text/plain": [
              "150"
            ]
          },
          "metadata": {},
          "execution_count": 12
        }
      ]
    },
    {
      "cell_type": "code",
      "source": [
        "#verificando quantos imóveis existem em cada bairro\n",
        "dados.groupBy('bairro').count().sort('count', ascending=False).show()"
      ],
      "metadata": {
        "colab": {
          "base_uri": "https://localhost:8080/"
        },
        "id": "kQHkb-g3j1mK",
        "outputId": "1f087600-198e-415d-f2aa-4e01aa7f56cc"
      },
      "execution_count": 13,
      "outputs": [
        {
          "output_type": "stream",
          "name": "stdout",
          "text": [
            "+--------------------+-----+\n",
            "|              bairro|count|\n",
            "+--------------------+-----+\n",
            "|     Barra da Tijuca|12788|\n",
            "|Recreio dos Bande...| 7792|\n",
            "|          Copacabana| 6784|\n",
            "|         Jacarepaguá| 4437|\n",
            "|              Tijuca| 3638|\n",
            "|            Botafogo| 3498|\n",
            "|Freguesia (Jacare...| 2267|\n",
            "|             Ipanema| 2113|\n",
            "|              Leblon| 1893|\n",
            "|            Flamengo| 1377|\n",
            "|             Taquara| 1247|\n",
            "|               Lagoa| 1218|\n",
            "|           Pechincha| 1199|\n",
            "|         Laranjeiras|  950|\n",
            "|         Vila Isabel|  913|\n",
            "|              Centro|  708|\n",
            "|                Anil|  672|\n",
            "|        Campo Grande|  639|\n",
            "|            Cachambi|  613|\n",
            "|               Gávea|  597|\n",
            "+--------------------+-----+\n",
            "only showing top 20 rows\n",
            "\n"
          ]
        }
      ]
    },
    {
      "cell_type": "code",
      "source": [
        "#iniciando uma lista que irá incorporar as colunas que serão utiizadas como features\n",
        "X = dados.columns\n",
        "X.remove('bairro')\n",
        "X.remove('id')"
      ],
      "metadata": {
        "id": "a94mABZ-j_RF"
      },
      "execution_count": 14,
      "outputs": []
    },
    {
      "cell_type": "markdown",
      "source": [
        "## **Vetorizando e padronizando, escalando os dados e PCA**"
      ],
      "metadata": {
        "id": "_lq_x0mwCPnd"
      }
    },
    {
      "cell_type": "code",
      "source": [
        "#PCA é sensível a escalas discrepantes, por isso o VectorAssembler é utilizado para padronização\n",
        "\n",
        "from pyspark.ml.feature import VectorAssembler"
      ],
      "metadata": {
        "id": "MBF5aq0ICXqP"
      },
      "execution_count": 15,
      "outputs": []
    },
    {
      "cell_type": "code",
      "source": [
        "#apenas para conferência, gerando um modelo sem redução das dimensões\n",
        "dados_vector = VectorAssembler(inputCols=X, outputCol='features').transform(dados)"
      ],
      "metadata": {
        "id": "BBsWqGdyDrKY"
      },
      "execution_count": 16,
      "outputs": []
    },
    {
      "cell_type": "code",
      "source": [
        "from pyspark.ml.feature import StandardScaler\n",
        "scaler = StandardScaler(inputCol='features', outputCol='features_scaled')\n",
        "model_scaler = scaler.fit(dados_vector)\n",
        "dados_scaler = model_scaler.transform(dados_vector)"
      ],
      "metadata": {
        "id": "VsKHA76MDQi-"
      },
      "execution_count": 17,
      "outputs": []
    },
    {
      "cell_type": "code",
      "source": [
        "from pyspark.ml.feature import PCA\n",
        "pca = PCA(k=len(X), inputCol='features_scaled', outputCol='pca_features')\n",
        "model_pca = pca.fit(dados_scaler)"
      ],
      "metadata": {
        "id": "1OT6Z1HSkpFQ"
      },
      "execution_count": 18,
      "outputs": []
    },
    {
      "cell_type": "code",
      "source": [
        "#verificando que o modelo não reduz dimensões\n",
        "sum(model_pca.explainedVariance) * 100"
      ],
      "metadata": {
        "colab": {
          "base_uri": "https://localhost:8080/"
        },
        "id": "ER4i8mExkxyG",
        "outputId": "a7f4fb3b-efa0-4986-cfe3-514c59021e58"
      },
      "execution_count": 19,
      "outputs": [
        {
          "output_type": "execute_result",
          "data": {
            "text/plain": [
              "100.0"
            ]
          },
          "metadata": {},
          "execution_count": 19
        }
      ]
    },
    {
      "cell_type": "markdown",
      "source": [
        "## **Redução de dimensionalidade**\n",
        "\n",
        "Os dados precisam estar com as dimensões reduzidas para criar o modelo de recomendação, tarefa que será executada através da técnica PCA. Será gerado um conjunto novo de dados, com uma combinação das colunas originais."
      ],
      "metadata": {
        "id": "ZKL_B1Lyky_N"
      }
    },
    {
      "cell_type": "code",
      "source": [
        "lista_valores = [sum(model_pca.explainedVariance[0:i+1]) for i in range(len(X))]\n",
        "lista_valores"
      ],
      "metadata": {
        "colab": {
          "base_uri": "https://localhost:8080/"
        },
        "id": "LYdGTmJWlC9J",
        "outputId": "b3191306-6934-41d2-b884-c0e723b9aab1"
      },
      "execution_count": 20,
      "outputs": [
        {
          "output_type": "execute_result",
          "data": {
            "text/plain": [
              "[0.26545749360997034,\n",
              " 0.4375247949776184,\n",
              " 0.5287992767783259,\n",
              " 0.5831729986362391,\n",
              " 0.6354028103524717,\n",
              " 0.682023156221161,\n",
              " 0.7262890569978575,\n",
              " 0.7678911881686676,\n",
              " 0.8025730095613413,\n",
              " 0.8297996535128337,\n",
              " 0.854194399626073,\n",
              " 0.8742987112956476,\n",
              " 0.8935090265260494,\n",
              " 0.9111213166740558,\n",
              " 0.9266283824348652,\n",
              " 0.9405231608927351,\n",
              " 0.9525305733295567,\n",
              " 0.9638657310284791,\n",
              " 0.9739753651565556,\n",
              " 0.983205487506614,\n",
              " 0.9921039340092773,\n",
              " 0.9999999999999953,\n",
              " 1.0]"
            ]
          },
          "metadata": {},
          "execution_count": 20
        }
      ]
    },
    {
      "cell_type": "code",
      "source": [
        "#determinando a redução das dimensões, ajustando 70% como a taxa mínima de explicação para os componentes.\n",
        "# Ou seja: quero obter uma redução de dimensões que não gere muita perda de informação\n",
        "import numpy as np\n",
        "k = sum(np.array(lista_valores) <= 0.7)\n",
        "k"
      ],
      "metadata": {
        "colab": {
          "base_uri": "https://localhost:8080/"
        },
        "id": "olXkU2R6lKtr",
        "outputId": "fbed0d25-793a-4fb2-fa8f-12949a69f036"
      },
      "execution_count": 21,
      "outputs": [
        {
          "output_type": "execute_result",
          "data": {
            "text/plain": [
              "6"
            ]
          },
          "metadata": {},
          "execution_count": 21
        }
      ]
    },
    {
      "cell_type": "markdown",
      "source": [
        "## **Pipeline**"
      ],
      "metadata": {
        "id": "aj6G4gjulYEy"
      }
    },
    {
      "cell_type": "code",
      "source": [
        "#criando o pipeline, com o valor de k obtido da etapa de determinação das dimensões\n",
        "from pyspark.ml import Pipeline\n",
        "pca_pipeline = Pipeline(stages=[VectorAssembler(inputCols=X, outputCol='features'),\n",
        "                                StandardScaler(inputCol='features', outputCol='scaled_features'),\n",
        "                                PCA(k=k, inputCol='scaled_features', outputCol='pca_features')])"
      ],
      "metadata": {
        "id": "RttVajculaIT"
      },
      "execution_count": 22,
      "outputs": []
    },
    {
      "cell_type": "code",
      "source": [
        "#ajustando o pipeline\n",
        "pca_pipeline_model = pca_pipeline.fit(dados)"
      ],
      "metadata": {
        "id": "C5E5uwMhle_y"
      },
      "execution_count": 23,
      "outputs": []
    },
    {
      "cell_type": "code",
      "source": [
        "dados_pca = pca_pipeline_model.transform(dados)"
      ],
      "metadata": {
        "id": "FoW_qqtclpQU"
      },
      "execution_count": 24,
      "outputs": []
    },
    {
      "cell_type": "code",
      "source": [
        "dados_pca.select('pca_features').show(truncate=False)"
      ],
      "metadata": {
        "colab": {
          "base_uri": "https://localhost:8080/"
        },
        "id": "ViFPKh5rlrDD",
        "outputId": "c6b4cdc5-48bc-4b68-fd72-141c2093e8eb"
      },
      "execution_count": 25,
      "outputs": [
        {
          "output_type": "stream",
          "name": "stdout",
          "text": [
            "+---------------------------------------------------------------------------------------------------------------------------+\n",
            "|pca_features                                                                                                               |\n",
            "+---------------------------------------------------------------------------------------------------------------------------+\n",
            "|[-6.165125049533812,1.3380985269405696,-1.7052299823820158,-0.5338289630560162,0.08903815478581815,-0.3134396180129953]    |\n",
            "|[-3.2529111812184865,-1.1179591836228857,-0.2923895841501507,3.195538820020636,0.1528630698219846,1.302893049066197]       |\n",
            "|[-1.0611769329629537,-1.6685040058694294,-2.30759482783911,0.10553124125788461,-0.06914386452866851,0.7187181899556143]    |\n",
            "|[-1.995811900783872,-1.7655796610847843,1.3571962498672347,-0.16336519381168974,-0.021305227846957334,0.12808044918214828] |\n",
            "|[-0.4181406070145923,-2.131040791141693,-0.1026409926497008,2.809916415039177,-0.042956284698168964,-0.09449068767336455]  |\n",
            "|[-6.9015238649802715,-6.262240376053038,0.16910177737318188,0.9779688500381024,-0.137360477999322,0.8070938605611206]      |\n",
            "|[-0.7164221492881188,-1.4040232409557425,-0.5880227755977427,2.8308875117797396,0.013520135298654659,0.28321813330894896]  |\n",
            "|[-1.4856960209870214,-1.7808507073415798,-1.2578464949084176,3.019147069955898,-0.1230350650797674,-0.4086526496917688]    |\n",
            "|[-6.0456283208921535,-7.824880763294744,0.8818715068911896,0.8870883633126033,-0.11156730428617793,1.1534985495745893]     |\n",
            "|[-6.199240571378114,0.3124209223549341,-1.2536547599086167,2.8267834930573326,0.06487910654048239,0.8407164846741647]      |\n",
            "|[-6.884681111573802,-1.050675104927925,-0.7150385451991546,0.14081256728031682,-0.12293880480695774,-0.012785235241512927] |\n",
            "|[-4.613470387277003,-4.014655897062348,1.3861151450856486,0.25794041485945685,-0.06264532056065349,0.3151835602761643]     |\n",
            "|[-4.476327061805593,-3.8649262122150287,1.9543162471144324,0.3920283672793603,0.10537138955480366,1.245088515992784]       |\n",
            "|[-0.9935595784851534,-2.9244548608453225,0.5955403058697635,0.04903265999569473,-0.21477729308072419,-0.8898160995676627]  |\n",
            "|[-3.16451925334317,-2.145186138172188,-4.134482451280468,0.332366037558096,-0.3340019679627175,-0.7316863604413174]        |\n",
            "|[-3.546059940548585,-4.6557489577929845,-5.0478959419256455,0.5981869579153204,-0.3431190572550165,-0.6805477041334793]    |\n",
            "|[-7.507064348067576,-5.873363966077033,-0.4632190292126165,0.9640748873463345,-0.23757586245988377,0.4253795999856763]     |\n",
            "|[-0.65020079746698,-0.44347741220645925,0.21447012352131423,2.591531259942347,0.0986000664791115,0.5087564467428431]       |\n",
            "|[-0.12715321773623325,-1.19611485883027,-0.10466844621100192,2.64055524879081,-0.0014733730251071803,-0.010183626296166967]|\n",
            "|[-2.849363391484401,-1.0413877168058734,-4.116836754726095,0.10541530141944482,-0.2711338099799911,-0.5882902051997321]    |\n",
            "+---------------------------------------------------------------------------------------------------------------------------+\n",
            "only showing top 20 rows\n",
            "\n"
          ]
        }
      ]
    },
    {
      "cell_type": "markdown",
      "source": [
        "## **Criando os clusters - kMeans**"
      ],
      "metadata": {
        "id": "nizHmYyCl4LL"
      }
    },
    {
      "cell_type": "code",
      "source": [
        "#importando a função KMeans\n",
        "from pyspark.ml.clustering import KMeans"
      ],
      "metadata": {
        "id": "quk_8qUil6L-"
      },
      "execution_count": 26,
      "outputs": []
    },
    {
      "cell_type": "code",
      "source": [
        "#calculando a quantidade adequada de clusters para esse dataset, entre 2 e 50\n",
        "\n",
        "costs = {}\n",
        "for k in range(2, 50):\n",
        "    k_means = KMeans(featuresCol='pca_features', k=k, seed=101)\n",
        "    model = k_means.fit(dados_pca)\n",
        "    costs[k] = model.summary.trainingCost"
      ],
      "metadata": {
        "id": "0rkqLTS8cNim"
      },
      "execution_count": 27,
      "outputs": []
    },
    {
      "cell_type": "code",
      "source": [
        "import matplotlib.pyplot as plt\n",
        "\n",
        "fig, ax = plt.subplots(1, 1, figsize =(20, 8))\n",
        "\n",
        "ax.plot(list(costs.keys()), list(costs.values()),**{'color': 'lightsteelblue', 'marker': 'o'})\n",
        "ax.set_xlabel('k')\n",
        "ax.set_ylabel('cost')\n",
        "plt.show()"
      ],
      "metadata": {
        "colab": {
          "base_uri": "https://localhost:8080/",
          "height": 497
        },
        "id": "6GfSOEh_cjBu",
        "outputId": "204389d2-5390-403a-9620-b76fb6e13508"
      },
      "execution_count": 28,
      "outputs": [
        {
          "output_type": "display_data",
          "data": {
            "text/plain": [
              "<Figure size 1440x576 with 1 Axes>"
            ],
            "image/png": "[encoded data removed]"
          },
          "metadata": {
            "needs_background": "light"
          }
        }
      ]
    },
    {
      "cell_type": "markdown",
      "source": [
        "Analisando o gráfico, 13 parece ser um bom candidato para quantidade de clusters."
      ],
      "metadata": {
        "id": "Rs2kWIsMcm7Y"
      }
    },
    {
      "cell_type": "code",
      "source": [
        "#constante de aleatoriedade\n",
        "SEED = 1224"
      ],
      "metadata": {
        "id": "6Ayf2_Rgl8lN"
      },
      "execution_count": 29,
      "outputs": []
    },
    {
      "cell_type": "code",
      "source": [
        "#criando o kMean - ssetk() é usada para determinar quantos clusters serão empregados\n",
        "kmeans = KMeans(featuresCol='pca_features', predictionCol='cluster_pca').setK(13).setSeed(SEED)"
      ],
      "metadata": {
        "id": "cRZCCPSsl-Bu"
      },
      "execution_count": 30,
      "outputs": []
    },
    {
      "cell_type": "code",
      "source": [
        "model_kmeans = kmeans.fit(dados_pca)"
      ],
      "metadata": {
        "id": "kugJ38kVl_mU"
      },
      "execution_count": 31,
      "outputs": []
    },
    {
      "cell_type": "code",
      "source": [
        "prections_kmeans = model_kmeans.transform(dados_pca)"
      ],
      "metadata": {
        "id": "vul61S0xmBJl"
      },
      "execution_count": 32,
      "outputs": []
    },
    {
      "cell_type": "code",
      "source": [
        "prections_kmeans.select('pca_features', 'cluster_pca').show(truncate=False)"
      ],
      "metadata": {
        "colab": {
          "base_uri": "https://localhost:8080/"
        },
        "id": "o7O5kZbpmCg3",
        "outputId": "318190cd-4e6e-4d11-e6cd-8c3f04efe08b"
      },
      "execution_count": 33,
      "outputs": [
        {
          "output_type": "stream",
          "name": "stdout",
          "text": [
            "+---------------------------------------------------------------------------------------------------------------------------+-----------+\n",
            "|pca_features                                                                                                               |cluster_pca|\n",
            "+---------------------------------------------------------------------------------------------------------------------------+-----------+\n",
            "|[-6.165125049533812,1.3380985269405696,-1.7052299823820158,-0.5338289630560162,0.08903815478581815,-0.3134396180129953]    |7          |\n",
            "|[-3.2529111812184865,-1.1179591836228857,-0.2923895841501507,3.195538820020636,0.1528630698219846,1.302893049066197]       |5          |\n",
            "|[-1.0611769329629537,-1.6685040058694294,-2.30759482783911,0.10553124125788461,-0.06914386452866851,0.7187181899556143]    |10         |\n",
            "|[-1.995811900783872,-1.7655796610847843,1.3571962498672347,-0.16336519381168974,-0.021305227846957334,0.12808044918214828] |11         |\n",
            "|[-0.4181406070145923,-2.131040791141693,-0.1026409926497008,2.809916415039177,-0.042956284698168964,-0.09449068767336455]  |6          |\n",
            "|[-6.9015238649802715,-6.262240376053038,0.16910177737318188,0.9779688500381024,-0.137360477999322,0.8070938605611206]      |12         |\n",
            "|[-0.7164221492881188,-1.4040232409557425,-0.5880227755977427,2.8308875117797396,0.013520135298654659,0.28321813330894896]  |6          |\n",
            "|[-1.4856960209870214,-1.7808507073415798,-1.2578464949084176,3.019147069955898,-0.1230350650797674,-0.4086526496917688]    |6          |\n",
            "|[-6.0456283208921535,-7.824880763294744,0.8818715068911896,0.8870883633126033,-0.11156730428617793,1.1534985495745893]     |9          |\n",
            "|[-6.199240571378114,0.3124209223549341,-1.2536547599086167,2.8267834930573326,0.06487910654048239,0.8407164846741647]      |5          |\n",
            "|[-6.884681111573802,-1.050675104927925,-0.7150385451991546,0.14081256728031682,-0.12293880480695774,-0.012785235241512927] |7          |\n",
            "|[-4.613470387277003,-4.014655897062348,1.3861151450856486,0.25794041485945685,-0.06264532056065349,0.3151835602761643]     |8          |\n",
            "|[-4.476327061805593,-3.8649262122150287,1.9543162471144324,0.3920283672793603,0.10537138955480366,1.245088515992784]       |8          |\n",
            "|[-0.9935595784851534,-2.9244548608453225,0.5955403058697635,0.04903265999569473,-0.21477729308072419,-0.8898160995676627]  |11         |\n",
            "|[-3.16451925334317,-2.145186138172188,-4.134482451280468,0.332366037558096,-0.3340019679627175,-0.7316863604413174]        |2          |\n",
            "|[-3.546059940548585,-4.6557489577929845,-5.0478959419256455,0.5981869579153204,-0.3431190572550165,-0.6805477041334793]    |2          |\n",
            "|[-7.507064348067576,-5.873363966077033,-0.4632190292126165,0.9640748873463345,-0.23757586245988377,0.4253795999856763]     |12         |\n",
            "|[-0.65020079746698,-0.44347741220645925,0.21447012352131423,2.591531259942347,0.0986000664791115,0.5087564467428431]       |6          |\n",
            "|[-0.12715321773623325,-1.19611485883027,-0.10466844621100192,2.64055524879081,-0.0014733730251071803,-0.010183626296166967]|6          |\n",
            "|[-2.849363391484401,-1.0413877168058734,-4.116836754726095,0.10541530141944482,-0.2711338099799911,-0.5882902051997321]    |2          |\n",
            "+---------------------------------------------------------------------------------------------------------------------------+-----------+\n",
            "only showing top 20 rows\n",
            "\n"
          ]
        }
      ]
    },
    {
      "cell_type": "markdown",
      "source": [
        "# **Avaliando as informações de cada cluster**"
      ],
      "metadata": {
        "id": "1kZBfwaacyiH"
      }
    },
    {
      "cell_type": "code",
      "source": [
        "#aqui podemos notar que existe uma grande variação entre os clusters. Um com 27 imóveis e outros com mais de 11 mil,  por exemplo.\n",
        "prections_kmeans.groupBy('cluster_pca').count().orderBy('cluster_pca').show(13)"
      ],
      "metadata": {
        "colab": {
          "base_uri": "https://localhost:8080/"
        },
        "id": "fOp3HXi3c09H",
        "outputId": "2f217571-01f6-440a-dbc8-4f2b95a73d84"
      },
      "execution_count": 34,
      "outputs": [
        {
          "output_type": "stream",
          "name": "stdout",
          "text": [
            "+-----------+-----+\n",
            "|cluster_pca|count|\n",
            "+-----------+-----+\n",
            "|          0| 3096|\n",
            "|          1| 3392|\n",
            "|          2| 5726|\n",
            "|          3|   27|\n",
            "|          4| 3295|\n",
            "|          5| 4549|\n",
            "|          6| 6789|\n",
            "|          7|11420|\n",
            "|          8| 5859|\n",
            "|          9| 1923|\n",
            "|         10| 8523|\n",
            "|         11| 7201|\n",
            "|         12| 4751|\n",
            "+-----------+-----+\n",
            "\n"
          ]
        }
      ]
    },
    {
      "cell_type": "code",
      "source": [
        "cluster_means = prections_kmeans\\\n",
        "                              .groupBy('cluster_pca')\\\n",
        "                              .mean()\n",
        "     "
      ],
      "metadata": {
        "id": "g1BoCn6KhiAc"
      },
      "execution_count": 35,
      "outputs": []
    },
    {
      "cell_type": "code",
      "source": [
        "from pyspark.sql import functions as f"
      ],
      "metadata": {
        "id": "ciQH8SnQiHAY"
      },
      "execution_count": 36,
      "outputs": []
    },
    {
      "cell_type": "code",
      "source": [
        "cluster_means\\\n",
        "          .orderBy('avg(area_util)')\\\n",
        "          .withColumn('Area Útil', f.round(cluster_means['avg(area_util)'],2))\\\n",
        "          .select('cluster_pca','Area Útil')\\\n",
        "          .show()"
      ],
      "metadata": {
        "colab": {
          "base_uri": "https://localhost:8080/"
        },
        "id": "D1bQGmr_h4o_",
        "outputId": "8be16802-5556-46c6-be73-3bc7d76c66d4"
      },
      "execution_count": 37,
      "outputs": [
        {
          "output_type": "stream",
          "name": "stdout",
          "text": [
            "+-----------+---------+\n",
            "|cluster_pca|Area Útil|\n",
            "+-----------+---------+\n",
            "|          5|    74.69|\n",
            "|          7|    79.95|\n",
            "|         11|    83.84|\n",
            "|          2|    85.34|\n",
            "|          6|    85.88|\n",
            "|          8|    92.24|\n",
            "|         10|    94.58|\n",
            "|          1|   108.68|\n",
            "|         12|   184.53|\n",
            "|          4|    226.6|\n",
            "|          0|   233.26|\n",
            "|          3|    260.3|\n",
            "|          9|   402.03|\n",
            "+-----------+---------+\n",
            "\n"
          ]
        }
      ]
    },
    {
      "cell_type": "markdown",
      "source": [
        "Em relação a área útil, os clusters 3 e 9 possuem os maiores valores.\n",
        "Já os clusters 5 e 7 possuem os menores."
      ],
      "metadata": {
        "id": "4cqCUfbgiKnz"
      }
    },
    {
      "cell_type": "code",
      "source": [
        "cluster_means\\\n",
        "          .orderBy('avg(valor)')\\\n",
        "          .withColumn('Valor', f.round(cluster_means['avg(valor)'],2))\\\n",
        "          .select('cluster_pca','Valor')\\\n",
        "          .show()"
      ],
      "metadata": {
        "colab": {
          "base_uri": "https://localhost:8080/"
        },
        "id": "TXz8jKtSieZS",
        "outputId": "cc589a7b-db86-4cac-e4fe-70480de51d68"
      },
      "execution_count": 38,
      "outputs": [
        {
          "output_type": "stream",
          "name": "stdout",
          "text": [
            "+-----------+----------+\n",
            "|cluster_pca|     Valor|\n",
            "+-----------+----------+\n",
            "|          6| 489387.83|\n",
            "|          5| 507724.48|\n",
            "|          7| 642895.11|\n",
            "|         11| 649895.96|\n",
            "|          8| 836778.27|\n",
            "|          2| 989782.96|\n",
            "|         10|1242163.58|\n",
            "|          1|1844316.52|\n",
            "|         12|2033351.65|\n",
            "|          0|2362911.95|\n",
            "|          4|3782213.57|\n",
            "|          3|3954287.41|\n",
            "|          9|5998344.33|\n",
            "+-----------+----------+\n",
            "\n"
          ]
        }
      ]
    },
    {
      "cell_type": "markdown",
      "source": [
        "Comparando os valores de área útil com a média de preços de cada cluster, podemos notar que aqueles com mais área útil também são os mais caros (clusters 3 e 9). "
      ],
      "metadata": {
        "id": "Gc1v0zMgiixm"
      }
    },
    {
      "cell_type": "markdown",
      "source": [
        "# **Filtrando imóveis do mesmo cluster**\n",
        "\n",
        "O método aplicado precisa ser testado. Para isso, foi escolhido um imóvel aleatório e o cluster em que ele estava inserido foi usado para filtrar os dados.\n",
        "\n",
        "Fazendo somente isso existe um grau de aleatoriedade nos resultados, por isso o próximo passo será calcular a distância euclidiana e ordenador os resultados."
      ],
      "metadata": {
        "id": "sJdnqiYqmMkg"
      }
    },
    {
      "cell_type": "code",
      "source": [
        "#selecionando um imóvel aleatório pelo id\n",
        "id = prections_kmeans.select('id').collect()[0][0]\n",
        "id"
      ],
      "metadata": {
        "colab": {
          "base_uri": "https://localhost:8080/",
          "height": 36
        },
        "id": "JrfAaGw9mO6s",
        "outputId": "4c75ef9e-db3d-4d20-f08c-1d5eeeae8988"
      },
      "execution_count": 39,
      "outputs": [
        {
          "output_type": "execute_result",
          "data": {
            "text/plain": [
              "'00002dd9-cc74-4809-b5a5-850adf0e7526'"
            ],
            "application/vnd.google.colaboratory.intrinsic+json": {
              "type": "string"
            }
          },
          "metadata": {},
          "execution_count": 39
        }
      ]
    },
    {
      "cell_type": "code",
      "source": [
        "#verificando os dados do imóvel selecionado\n",
        "prections_kmeans.filter(prections_kmeans.id == id).show(truncate=False)"
      ],
      "metadata": {
        "colab": {
          "base_uri": "https://localhost:8080/"
        },
        "id": "kgGbkzLcmXFL",
        "outputId": "b478f511-cfbf-4bc6-96cd-b48fba11310b"
      },
      "execution_count": 40,
      "outputs": [
        {
          "output_type": "stream",
          "name": "stdout",
          "text": [
            "+------------------------------------+-----+---------+---------+-------+------+----+------------+----------+-----+--------+------------+----------+----------+--------+--------+------------------+-------------+------------------+--------+-------+----------+------------+-----------------+---------------+-------------------------------------------------------------------------------------------------------+--------------------------------------------------------------------------------------------------------------------------------------------------------------------------------------------------------------------------------------------------------------------------------------------------------------------------------------------------------------------------+-----------------------------------------------------------------------------------------------------------------------+-----------+\n",
            "|id                                  |andar|area_util|banheiros|quartos|suites|vaga|bairro      |condominio|iptu |valor   |Zona Central|Zona Norte|Zona Oeste|Zona Sul|Academia|Animais permitidos|Churrasqueira|Condomínio fechado|Elevador|Piscina|Playground|Portaria 24h|Portão eletrônico|Salão de festas|features                                                                                               |scaled_features                                                                                                                                                                                                                                                                                                                                                           |pca_features                                                                                                           |cluster_pca|\n",
            "+------------------------------------+-----+---------+---------+-------+------+----+------------+----------+-----+--------+------------+----------+----------+--------+--------+------------------+-------------+------------------+--------+-------+----------+------------+-----------------+---------------+-------------------------------------------------------------------------------------------------------+--------------------------------------------------------------------------------------------------------------------------------------------------------------------------------------------------------------------------------------------------------------------------------------------------------------------------------------------------------------------------+-----------------------------------------------------------------------------------------------------------------------+-----------+\n",
            "|00002dd9-cc74-4809-b5a5-850adf0e7526|2    |35       |1        |1      |0.0   |0.0 |Santo Cristo|100.0     |100.0|245000.0|1           |0         |0         |0       |1       |1                 |1            |1                 |1       |1      |1         |1           |1                |1              |[2.0,35.0,1.0,1.0,0.0,0.0,100.0,100.0,245000.0,1.0,0.0,0.0,0.0,1.0,1.0,1.0,1.0,1.0,1.0,1.0,1.0,1.0,1.0]|[0.13607726247524105,0.3928347118586362,0.7362338819363583,1.1008202436753782,0.0,0.0,9.600966052923233E-4,5.843293750925928E-4,0.16646329338847035,7.693539635100576,0.0,0.0,0.0,2.029288675697721,2.0063986358410992,2.00212608660304,2.0026140142259217,2.0917437099198977,1.9999864552247013,2.001812384720792,2.007706141209056,2.0142448870054395,2.000069820806827]|[-6.165125049533812,1.3380985269405696,-1.7052299823820158,-0.5338289630560162,0.08903815478581815,-0.3134396180129953]|7          |\n",
            "+------------------------------------+-----+---------+---------+-------+------+----+------------+----------+-----+--------+------------+----------+----------+--------+--------+------------------+-------------+------------------+--------+-------+----------+------------+-----------------+---------------+-------------------------------------------------------------------------------------------------------+--------------------------------------------------------------------------------------------------------------------------------------------------------------------------------------------------------------------------------------------------------------------------------------------------------------------------------------------------------------------------+-----------------------------------------------------------------------------------------------------------------------+-----------+\n",
            "\n"
          ]
        }
      ]
    },
    {
      "cell_type": "code",
      "source": [
        "#criando uma variável para armazenar o cluster_pca do imóvel\n",
        "cluster = prections_kmeans.filter(prections_kmeans.id == id).select('cluster_pca').collect()[0][0]\n",
        "cluster"
      ],
      "metadata": {
        "colab": {
          "base_uri": "https://localhost:8080/"
        },
        "id": "Gz2lhgmdmai1",
        "outputId": "5f83f936-a3f3-435a-9418-f4edd6984bec"
      },
      "execution_count": 41,
      "outputs": [
        {
          "output_type": "execute_result",
          "data": {
            "text/plain": [
              "7"
            ]
          },
          "metadata": {},
          "execution_count": 41
        }
      ]
    },
    {
      "cell_type": "code",
      "source": [
        "#filtrando os imóveis pelo cluster_pca\n",
        "imoveis_recomendados = prections_kmeans.filter(prections_kmeans.cluster_pca == cluster)\n",
        "imoveis_recomendados.show()"
      ],
      "metadata": {
        "colab": {
          "base_uri": "https://localhost:8080/"
        },
        "id": "Dk0Fsg39mcpE",
        "outputId": "52b37806-7155-4fe9-a793-b3b4c39d935e"
      },
      "execution_count": 42,
      "outputs": [
        {
          "output_type": "stream",
          "name": "stdout",
          "text": [
            "+--------------------+-----+---------+---------+-------+------+----+--------------------+----------+------+---------+------------+----------+----------+--------+--------+------------------+-------------+------------------+--------+-------+----------+------------+-----------------+---------------+--------------------+--------------------+--------------------+-----------+\n",
            "|                  id|andar|area_util|banheiros|quartos|suites|vaga|              bairro|condominio|  iptu|    valor|Zona Central|Zona Norte|Zona Oeste|Zona Sul|Academia|Animais permitidos|Churrasqueira|Condomínio fechado|Elevador|Piscina|Playground|Portaria 24h|Portão eletrônico|Salão de festas|            features|     scaled_features|        pca_features|cluster_pca|\n",
            "+--------------------+-----+---------+---------+-------+------+----+--------------------+----------+------+---------+------------+----------+----------+--------+--------+------------------+-------------+------------------+--------+-------+----------+------------+-----------------+---------------+--------------------+--------------------+--------------------+-----------+\n",
            "|00002dd9-cc74-480...|    2|       35|        1|      1|   0.0| 0.0|        Santo Cristo|     100.0| 100.0| 245000.0|           1|         0|         0|       0|       1|                 1|            1|                 1|       1|      1|         1|           1|                1|              1|[2.0,35.0,1.0,1.0...|[0.13607726247524...|[-6.1651250495338...|          7|\n",
            "|00348cd1-923a-4db...|    5|       78|        1|      2|   1.0| 1.0|     Barra da Tijuca|       1.0|   1.0|1050300.0|           0|         0|         1|       0|       1|                 1|            1|                 1|       1|      1|         1|           1|                1|              1|[5.0,78.0,1.0,2.0...|[0.34019315618810...|[-6.8846811115738...|          7|\n",
            "|00779ffc-4566-41f...|    9|       82|        3|      3|   2.0| 1.0|     Barra da Tijuca|    1540.0| 400.0| 680000.0|           0|         0|         1|       0|       1|                 1|            1|                 1|       1|      1|         1|           1|                1|              1|[9.0,82.0,3.0,3.0...|[0.61234768113858...|[-7.2409755560320...|          7|\n",
            "|007a7c27-bb0b-4b6...|    0|       65|        2|      2|   1.0| 1.0|Recreio dos Bande...|     890.0| 180.0| 540000.0|           0|         0|         1|       0|       1|                 1|            1|                 1|       1|      1|         1|           1|                0|              1|[0.0,65.0,2.0,2.0...|[0.0,0.7295501791...|[-6.3756683127110...|          7|\n",
            "|0088ef55-9e24-402...|    0|      157|        2|      3|   1.0| 2.0|Recreio dos Bande...|    1595.0| 388.0|1149000.0|           0|         0|         1|       0|       1|                 1|            1|                 1|       1|      1|         1|           1|                1|              1|[0.0,157.0,2.0,3....|[0.0,1.7621442789...|[-7.1548950649152...|          7|\n",
            "|0123b5ed-e6b5-4de...|   11|       64|        1|      2|   1.0| 1.0|         Jacarepaguá|    1390.0|1570.0| 480000.0|           0|         0|         1|       0|       1|                 1|            1|                 1|       1|      1|         1|           1|                1|              1|[11.0,64.0,1.0,2....|[0.74842494361382...|[-6.8753602103575...|          7|\n",
            "|012ecfb6-c710-412...|    0|      110|        3|      3|   2.0| 2.0|     Barra da Tijuca|     980.0| 280.0| 929000.0|           0|         0|         1|       0|       1|                 1|            1|                 1|       1|      1|         1|           1|                1|              1|[0.0,110.0,3.0,3....|[0.0,1.2346233801...|[-7.3229917510002...|          7|\n",
            "|013027d3-92a5-488...|    0|       65|        2|      2|   2.0| 1.0|Recreio dos Bande...|       1.0|   1.0| 419000.0|           0|         0|         1|       0|       1|                 1|            1|                 1|       1|      1|         1|           1|                1|              1|[0.0,65.0,2.0,2.0...|[0.0,0.7295501791...|[-7.0472639423702...|          7|\n",
            "|0134b627-7f25-4fe...|    1|      105|        3|      3|   1.0| 2.0|Freguesia (Jacare...|    1000.0|2591.0| 600000.0|           0|         0|         1|       0|       1|                 1|            0|                 1|       1|      1|         1|           1|                1|              1|[1.0,105.0,3.0,3....|[0.06803863123762...|[-6.5524314714181...|          7|\n",
            "|015c98f7-50b3-40e...|    0|       50|        2|      2|   1.0| 1.0|         Jacarepaguá|     100.0| 100.0| 359000.0|           0|         0|         1|       0|       1|                 1|            1|                 1|       1|      1|         1|           1|                1|              1|[0.0,50.0,2.0,2.0...|[0.0,0.5611924455...|[-6.8924549797178...|          7|\n",
            "|016aa5e1-aa7b-42f...|    0|       83|        2|      3|   1.0| 1.0|Recreio dos Bande...|      15.0|  15.0| 550000.0|           0|         0|         1|       0|       1|                 1|            1|                 1|       1|      1|         1|           1|                1|              1|[0.0,83.0,2.0,3.0...|[0.0,0.9315794595...|[-7.0055185691315...|          7|\n",
            "|0177193b-144e-4d3...|    0|       66|        2|      2|   1.0| 1.0|           Pechincha|     585.0|  85.0| 375000.0|           0|         0|         1|       0|       1|                 1|            1|                 1|       1|      1|         1|           1|                1|              1|[0.0,66.0,2.0,2.0...|[0.0,0.7407740280...|[-6.9033648662643...|          7|\n",
            "|018a5db4-f8a2-422...|   11|       84|        2|      3|   1.0| 1.0|Recreio dos Bande...|    1100.0|1700.0| 680000.0|           0|         0|         1|       0|       1|                 1|            1|                 1|       1|      1|         1|           1|                1|              1|[11.0,84.0,2.0,3....|[0.74842494361382...|[-7.0425768797700...|          7|\n",
            "|01a7e060-c616-4da...|    1|       46|        1|      2|   0.0| 1.0|             Taquara|     290.0|   1.0| 190000.0|           0|         0|         1|       0|       0|                 1|            0|                 1|       0|      0|         1|           1|                1|              1|[1.0,46.0,1.0,2.0...|[0.06803863123762...|[-4.2151853761077...|          7|\n",
            "|01c7151d-2410-43b...|    6|       73|        2|      2|   1.0| 1.0|     Barra da Tijuca|    1267.0|1680.0| 600000.0|           0|         0|         1|       0|       1|                 1|            1|                 1|       1|      1|         0|           1|                1|              1|[6.0,73.0,2.0,2.0...|[0.40823178742572...|[-6.3157819710870...|          7|\n",
            "|01c83cd8-02ec-40e...|    0|       65|        2|      2|   1.0| 1.0|         Jacarepaguá|     100.0| 100.0| 503361.0|           0|         0|         1|       0|       1|                 1|            1|                 1|       1|      1|         1|           1|                1|              1|[0.0,65.0,2.0,2.0...|[0.0,0.7295501791...|[-6.9067156323505...|          7|\n",
            "|01dc3ac5-ce47-49e...|    0|       55|        2|      2|   1.0| 1.0|     Barra da Tijuca|       0.0|   0.0| 309000.0|           0|         0|         1|       0|       1|                 1|            1|                 1|       1|      1|         1|           1|                1|              1|[0.0,55.0,2.0,2.0...|[0.0,0.6173116900...|[-6.8941090537154...|          7|\n",
            "|01fb0a6a-4b22-46e...|    4|      113|        3|      3|   1.0| 2.0|         Jacarepaguá|    1400.0|2500.0|1180000.0|           0|         0|         1|       0|       1|                 0|            1|                 1|       1|      1|         1|           1|                1|              1|[4.0,113.0,3.0,3....|[0.27215452495048...|[-6.6946408023909...|          7|\n",
            "|022b6112-a1bd-4f5...|    0|       91|        2|      3|   1.0| 2.0|Recreio dos Bande...|     820.0|1700.0| 750000.0|           0|         0|         1|       0|       1|                 1|            1|                 1|       1|      1|         1|           1|                1|              1|[0.0,91.0,2.0,3.0...|[0.0,1.0213702508...|[-7.0995261994757...|          7|\n",
            "|0246a1b3-fdcf-492...|    1|      120|        1|      3|   1.0| 1.0|     Barra da Tijuca|       1.0|   1.0|1630000.0|           0|         0|         1|       0|       1|                 1|            1|                 1|       1|      1|         1|           1|                1|              1|[1.0,120.0,1.0,3....|[0.06803863123762...|[-7.0041103258119...|          7|\n",
            "+--------------------+-----+---------+---------+-------+------+----+--------------------+----------+------+---------+------------+----------+----------+--------+--------+------------------+-------------+------------------+--------+-------+----------+------------+-----------------+---------------+--------------------+--------------------+--------------------+-----------+\n",
            "only showing top 20 rows\n",
            "\n"
          ]
        }
      ]
    },
    {
      "cell_type": "markdown",
      "source": [
        "# **Calculando distância Euclidiana**"
      ],
      "metadata": {
        "id": "y6jGRpi_mioE"
      }
    },
    {
      "cell_type": "code",
      "source": [
        "#componentes usados no cálculo da distância euclediana\n",
        "componentes = imoveis_recomendados.filter(imoveis_recomendados.id == id).select('pca_features').collect()[0][0]\n",
        "componentes"
      ],
      "metadata": {
        "colab": {
          "base_uri": "https://localhost:8080/"
        },
        "id": "it_DfswFmeI3",
        "outputId": "1ffbc4b2-aac5-4206-9413-bf20875f502f"
      },
      "execution_count": 43,
      "outputs": [
        {
          "output_type": "execute_result",
          "data": {
            "text/plain": [
              "DenseVector([-6.1651, 1.3381, -1.7052, -0.5338, 0.089, -0.3134])"
            ]
          },
          "metadata": {},
          "execution_count": 43
        }
      ]
    },
    {
      "cell_type": "code",
      "source": [
        "from scipy.spatial.distance import euclidean\n",
        "from pyspark.sql.types import FloatType\n",
        "from pyspark.sql import functions as f"
      ],
      "metadata": {
        "id": "Bpet3eV5mgF9"
      },
      "execution_count": 44,
      "outputs": []
    },
    {
      "cell_type": "code",
      "source": [
        "#determinando a distância euclidiana entre o imóvel escolhido e os demais do mesmo cluster\n",
        "def calcula_distance(value):\n",
        "  return euclidean(componentes, value)\n",
        "\n",
        "udf_calcula_distance = f.udf(calcula_distance, FloatType())\n",
        "imoveis_recomendados_dist = imoveis_recomendados.withColumn('Dist', udf_calcula_distance('pca_features'))\n",
        "recomendados = imoveis_recomendados_dist.select('id', 'bairro', 'Dist').sort('Dist')\n",
        "recomendados.show(truncate=False)"
      ],
      "metadata": {
        "colab": {
          "base_uri": "https://localhost:8080/"
        },
        "id": "zLnpi8jdmuKH",
        "outputId": "78ca4d42-3f91-48f5-e8f7-5bc35f433828"
      },
      "execution_count": 45,
      "outputs": [
        {
          "output_type": "stream",
          "name": "stdout",
          "text": [
            "+------------------------------------+------------+-----------+\n",
            "|id                                  |bairro      |Dist       |\n",
            "+------------------------------------+------------+-----------+\n",
            "|00002dd9-cc74-4809-b5a5-850adf0e7526|Santo Cristo|0.0        |\n",
            "|5dac977a-6cfb-4283-a247-9478beca6bce|Centro      |0.008500492|\n",
            "|a1c430e5-fe77-4b0f-a08c-001f57f11f89|Centro      |0.011903712|\n",
            "|33aeb3e6-f85d-49b0-a758-c5252c5623e6|Centro      |0.019963495|\n",
            "|a99baaa1-00ef-4906-8903-3f8a38a06385|Centro      |0.028192494|\n",
            "|9bff3d1a-b865-4652-9b87-e26b3faf5c79|Centro      |0.037412748|\n",
            "|d4b24d12-383c-4379-9ecb-89906f7dbba9|Centro      |0.037550464|\n",
            "|d187d98b-2291-4865-8225-58497cc101c9|Santo Cristo|0.040353443|\n",
            "|b3d1d649-f026-48ac-a0a5-dbb14ada1f61|Centro      |0.04079916 |\n",
            "|1238503b-dbbc-4664-a48b-e94195624404|Santo Cristo|0.04395238 |\n",
            "|562af84b-6b6d-4220-b79b-426a79148cb9|Santo Cristo|0.04501169 |\n",
            "|3fe19ed1-3b37-4ac9-8b2e-a8b8f27e25d6|Santo Cristo|0.04573038 |\n",
            "|63b14166-0cd2-40fa-878d-51d3fae968e0|Santo Cristo|0.046704866|\n",
            "|6509131b-e29b-4539-9da5-80bf925dae90|Santo Cristo|0.047594856|\n",
            "|e8f9fbbc-d072-499e-bfa7-926fca750057|Centro      |0.049280133|\n",
            "|d24b80d8-32d4-4789-9813-6d6526b460ae|Centro      |0.050526254|\n",
            "|08787538-60fc-4b49-b218-dfa2f31e41c5|Centro      |0.052758947|\n",
            "|d4a64276-c147-4b39-b5ce-19d03fbdb744|Centro      |0.053422406|\n",
            "|b0bb4c93-46c1-47de-99c7-056a42772a8b|Centro      |0.055533733|\n",
            "|e185f59b-1e53-426b-a14a-03f380c5d57d|Centro      |0.05607621 |\n",
            "+------------------------------------+------------+-----------+\n",
            "only showing top 20 rows\n",
            "\n"
          ]
        }
      ]
    },
    {
      "cell_type": "markdown",
      "source": [
        "# **Criando uma função recomendadora**\n",
        "\n",
        "Aqui foi criada a função recomendadora, onde o usuário escolhe o imóvel de referência e quantos outros ele deseja receber como recomendação."
      ],
      "metadata": {
        "id": "Ya3XVwjVmzB8"
      }
    },
    {
      "cell_type": "code",
      "source": [
        "def recomendador(id, numero):\n",
        "  cluster = prections_kmeans.filter(prections_kmeans.id == id).select('cluster_pca').collect()[0][0]\n",
        "  imoveis_recomendados = prections_kmeans.filter(prections_kmeans.cluster_pca == cluster)\n",
        "  componentes = imoveis_recomendados.filter(imoveis_recomendados.id == id).select('pca_features').collect()[0][0]\n",
        "  udf_calcula_distance = f.udf(calcula_distance, FloatType())\n",
        "  imoveis_recomendados_dist = imoveis_recomendados.withColumn('Dist', udf_calcula_distance('pca_features'))\n",
        "  recomendados = spark.createDataFrame(imoveis_recomendados_dist.sort('Dist').take(numero)).select(['id', 'Dist'])\n",
        "  recomendados.select('id').show(truncate=False)\n"
      ],
      "metadata": {
        "id": "8SM41MEWm2d-"
      },
      "execution_count": 46,
      "outputs": []
    },
    {
      "cell_type": "code",
      "source": [
        "#utilizando o mesmo id na função recomendadora\n",
        "recomendador('00002dd9-cc74-4809-b5a5-850adf0e7526', 10)"
      ],
      "metadata": {
        "id": "0mQIBJohm6sQ",
        "colab": {
          "base_uri": "https://localhost:8080/"
        },
        "outputId": "644f30be-6a5b-494a-82fa-70737762eb06"
      },
      "execution_count": 47,
      "outputs": [
        {
          "output_type": "stream",
          "name": "stdout",
          "text": [
            "+------------------------------------+\n",
            "|id                                  |\n",
            "+------------------------------------+\n",
            "|00002dd9-cc74-4809-b5a5-850adf0e7526|\n",
            "|5dac977a-6cfb-4283-a247-9478beca6bce|\n",
            "|a1c430e5-fe77-4b0f-a08c-001f57f11f89|\n",
            "|33aeb3e6-f85d-49b0-a758-c5252c5623e6|\n",
            "|a99baaa1-00ef-4906-8903-3f8a38a06385|\n",
            "|9bff3d1a-b865-4652-9b87-e26b3faf5c79|\n",
            "|d4b24d12-383c-4379-9ecb-89906f7dbba9|\n",
            "|d187d98b-2291-4865-8225-58497cc101c9|\n",
            "|b3d1d649-f026-48ac-a0a5-dbb14ada1f61|\n",
            "|1238503b-dbbc-4664-a48b-e94195624404|\n",
            "+------------------------------------+\n",
            "\n"
          ]
        }
      ]
    },
    {
      "cell_type": "code",
      "source": [
        "spark.stop()"
      ],
      "metadata": {
        "id": "Wr2Ayzgga1Cq"
      },
      "execution_count": 48,
      "outputs": []
    }
  ]
}