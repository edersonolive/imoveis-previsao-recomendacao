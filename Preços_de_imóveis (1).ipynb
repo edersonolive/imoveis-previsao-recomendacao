{
  "nbformat": 4,
  "nbformat_minor": 0,
  "metadata": {
    "colab": {
      "provenance": [],
      "collapsed_sections": [
        "uV-inmwOx58m",
        "5eND1Erhz53Q",
        "0DopMELg0pij",
        "xsYYgsUu8ITz",
        "OPwnTL4L9QyW",
        "M9IluO0UhhYG",
        "CuPQQJgLA5xp",
        "bOFhPMpvfuDO",
        "HJKDoaEc6YTL",
        "S5g5UkmbFLyg",
        "BLEAvHSEU-RE",
        "qNJcTfnpmPIJ",
        "epE8Upnyyw1v",
        "OErSl4yg2Gg9",
        "FP-R1oxM9TXT",
        "IDabnVzg7sNV",
        "4ZAPidrz86MK",
        "kZV2IYK09TaB",
        "U0s7-LlV-iew",
        "neI9RvC1Bzl2",
        "NFPPFcq6DQ2s",
        "atgiIn5aHw-W"
      ]
    },
    "kernelspec": {
      "name": "python3",
      "display_name": "Python 3"
    },
    "language_info": {
      "name": "python"
    },
    "gpuClass": "standard"
  },
  "cells": [
    {
      "cell_type": "markdown",
      "metadata": {
        "id": "uV-inmwOx58m"
      },
      "source": [
        "## **Importando as dependências, OS e iniciando SparkSession**"
      ]
    },
    {
      "cell_type": "code",
      "execution_count": 1,
      "metadata": {
        "id": "Xd6qAbD4x8cc"
      },
      "outputs": [],
      "source": [
        "# instalando as dependências\n",
        "!apt-get update -qq\n",
        "!apt-get install openjdk-8-jdk-headless -qq > /dev/null\n",
        "!wget -q https://archive.apache.org/dist/spark/spark-3.1.2/spark-3.1.2-bin-hadoop2.7.tgz\n",
        "!tar xf spark-3.1.2-bin-hadoop2.7.tgz\n",
        "!pip install -q findspark"
      ]
    },
    {
      "cell_type": "code",
      "execution_count": 2,
      "metadata": {
        "id": "Jmyci098yAog"
      },
      "outputs": [],
      "source": [
        "import os\n",
        "os.environ[\"JAVA_HOME\"] = \"/usr/lib/jvm/java-8-openjdk-amd64\"\n",
        "os.environ[\"SPARK_HOME\"] = \"/content/spark-3.1.2-bin-hadoop2.7\""
      ]
    },
    {
      "cell_type": "code",
      "execution_count": 3,
      "metadata": {
        "id": "gvvSaIqayBR0"
      },
      "outputs": [],
      "source": [
        "import findspark\n",
        "findspark.init()"
      ]
    },
    {
      "cell_type": "code",
      "execution_count": 4,
      "metadata": {
        "id": "Y8u-dX1vyDnB"
      },
      "outputs": [],
      "source": [
        "from pyspark.sql import SparkSession\n",
        "\n",
        "spark = SparkSession.builder \\\n",
        "    .master('local[*]') \\\n",
        "    .appName(\"Iniciando com Spark\") \\\n",
        "    .config('spark.ui.port', '4050') \\\n",
        "    .getOrCreate()"
      ]
    },
    {
      "cell_type": "code",
      "execution_count": 5,
      "metadata": {
        "colab": {
          "base_uri": "https://localhost:8080/",
          "height": 219
        },
        "id": "IvAeosJRyFIL",
        "outputId": "43698a8a-27ca-4d71-8198-f7ad6786b941"
      },
      "outputs": [
        {
          "output_type": "execute_result",
          "data": {
            "text/plain": [
              "<pyspark.sql.session.SparkSession at 0x7f7ca04d5e50>"
            ],
            "text/html": [
              "\n",
              "            <div>\n",
              "                <p><b>SparkSession - in-memory</b></p>\n",
              "                \n",
              "        <div>\n",
              "            <p><b>SparkContext</b></p>\n",
              "\n",
              "            <p><a href=\"http://c7422bd056c5:4050\">Spark UI</a></p>\n",
              "\n",
              "            <dl>\n",
              "              <dt>Version</dt>\n",
              "                <dd><code>v3.1.2</code></dd>\n",
              "              <dt>Master</dt>\n",
              "                <dd><code>local[*]</code></dd>\n",
              "              <dt>AppName</dt>\n",
              "                <dd><code>Iniciando com Spark</code></dd>\n",
              "            </dl>\n",
              "        </div>\n",
              "        \n",
              "            </div>\n",
              "        "
            ]
          },
          "metadata": {},
          "execution_count": 5
        }
      ],
      "source": [
        "spark"
      ]
    },
    {
      "cell_type": "code",
      "execution_count": 6,
      "metadata": {
        "colab": {
          "base_uri": "https://localhost:8080/"
        },
        "id": "3-hm-DstzP2P",
        "outputId": "2570c165-42a1-4d41-9e34-dbff80002e2f"
      },
      "outputs": [
        {
          "output_type": "stream",
          "name": "stdout",
          "text": [
            "Archive:  ngrok-stable-linux-amd64.zip\n",
            "  inflating: ngrok                   \n"
          ]
        }
      ],
      "source": [
        "!wget -q https://bin.equinox.io/c/4VmDzA7iaHb/ngrok-stable-linux-amd64.zip\n",
        "!unzip ngrok-stable-linux-amd64.zip"
      ]
    },
    {
      "cell_type": "code",
      "execution_count": 7,
      "metadata": {
        "id": "Yp6SZMrzza9a"
      },
      "outputs": [],
      "source": [
        "get_ipython().system_raw('./ngrok authtoken 2IAzSgOhNxfkxrV1MQEmNqrHBRS_2PDkj8UN4X5gPJWnHXhrq')\n",
        "get_ipython().system_raw('./ngrok http 4050 &')"
      ]
    },
    {
      "cell_type": "code",
      "execution_count": 8,
      "metadata": {
        "id": "DgkBhyQUzdEb",
        "colab": {
          "base_uri": "https://localhost:8080/"
        },
        "outputId": "74885d08-c65e-476a-baf2-c2f072e4afd5"
      },
      "outputs": [
        {
          "output_type": "stream",
          "name": "stdout",
          "text": [
            "{\"tunnels\":[],\"uri\":\"/api/tunnels\"}\n"
          ]
        }
      ],
      "source": [
        "!curl -s http://localhost:4040/api/tunnels"
      ]
    },
    {
      "cell_type": "code",
      "execution_count": 9,
      "metadata": {
        "id": "rDgRwqfUzkD7",
        "colab": {
          "base_uri": "https://localhost:8080/"
        },
        "outputId": "ed07ac36-cc80-4357-fd54-b79927ea905f"
      },
      "outputs": [
        {
          "output_type": "stream",
          "name": "stdout",
          "text": [
            "Mounted at /content/drive\n"
          ]
        }
      ],
      "source": [
        "# carregando o arquivo\n",
        "\n",
        "from google.colab import drive\n",
        "drive.mount('/content/drive')"
      ]
    },
    {
      "cell_type": "markdown",
      "metadata": {
        "id": "5eND1Erhz53Q"
      },
      "source": [
        "## **Carregando e visualizando os dados**"
      ]
    },
    {
      "cell_type": "markdown",
      "metadata": {
        "id": "8QbY3PFevV1o"
      },
      "source": [
        "A base base de dados possui 3 campos principais: anuncio, imagens e usuario. Nessa análise, apenas as informações do campo \"anuncio\" serão relevantes.\n",
        "\n"
      ]
    },
    {
      "cell_type": "code",
      "execution_count": 10,
      "metadata": {
        "id": "HD17cf_Gz_N8"
      },
      "outputs": [],
      "source": [
        "dataframe = spark.read.json('/content/drive/MyDrive/Imoveis/dataset_bruto.json')"
      ]
    },
    {
      "cell_type": "code",
      "execution_count": 11,
      "metadata": {
        "id": "BPfjYnK40Trg",
        "colab": {
          "base_uri": "https://localhost:8080/"
        },
        "outputId": "1ba61c6d-a745-45bd-ac9d-98782be8a583"
      },
      "outputs": [
        {
          "output_type": "stream",
          "name": "stdout",
          "text": [
            "+-----+----------+---------+---------+--------------------+--------------------+--------------------+-------+------+------------+------------+-----------+----+--------------------+\n",
            "|andar|area_total|area_util|banheiros|     caracteristicas|            endereco|                  id|quartos|suites|tipo_anuncio|tipo_unidade|   tipo_uso|vaga|             valores|\n",
            "+-----+----------+---------+---------+--------------------+--------------------+--------------------+-------+------+------------+------------+-----------+----+--------------------+\n",
            "|    0|        []|     [16]|      [0]|                  []|{Centro, 20061003...|47d553e0-79f2-4a4...|    [0]|   [0]|       Usado|      Outros|  Comercial| [1]|[{260, 107, Venda...|\n",
            "|    0|        []|     [14]|      [0]|                  []|{Centro, 20051040...|b6ffbae1-17f6-487...|    [0]|    []|       Usado|      Outros|  Comercial| [0]|[{260, 107, Venda...|\n",
            "|    0|    [1026]|   [1026]|      [0]|                  []|{Maria da Graça, ...|1fb030a5-9e3e-4a1...|    [0]|    []|       Usado|      Outros|  Comercial| [0]|[{null, 1613, Ven...|\n",
            "|    0|     [120]|    [120]|      [0]|[Portão eletrônic...|{Campo Grande, 23...|ac6cb348-69d6-45a...|    [0]|    []|       Usado|      Outros|Residencial|  []|[{80, null, Venda...|\n",
            "|    0|       [3]|      [3]|      [0]|                  []|{São Cristóvão, 2...|e032b908-ef42-4d4...|    [0]|    []|       Usado|      Outros|Residencial|  []|[{0, 0, Venda, 50...|\n",
            "+-----+----------+---------+---------+--------------------+--------------------+--------------------+-------+------+------------+------------+-----------+----+--------------------+\n",
            "only showing top 5 rows\n",
            "\n"
          ]
        }
      ],
      "source": [
        "anuncio = dataframe.select('anuncio.*')\n",
        "anuncio.show(5)"
      ]
    },
    {
      "cell_type": "markdown",
      "metadata": {
        "id": "0DopMELg0pij"
      },
      "source": [
        "## **Filtrando as colunas e convertendo**"
      ]
    },
    {
      "cell_type": "markdown",
      "metadata": {
        "id": "7AyUf4UavlSt"
      },
      "source": [
        "Foram realizados alguns filtros nas colunas:\n",
        "\n",
        "tipo_uso: Residencial;\n",
        "tipo_unidade: Apartamento;\n",
        "tipo_anuncio: Usado."
      ]
    },
    {
      "cell_type": "code",
      "execution_count": 12,
      "metadata": {
        "colab": {
          "base_uri": "https://localhost:8080/"
        },
        "id": "EMQhh4wG0qxC",
        "outputId": "2aea2f44-e5c2-42b7-e793-47d90449577c"
      },
      "outputs": [
        {
          "output_type": "execute_result",
          "data": {
            "text/plain": [
              "DataFrame[andar: bigint, area_total: array<string>, area_util: array<string>, banheiros: array<bigint>, caracteristicas: array<string>, endereco: struct<bairro:string,cep:string,cidade:string,estado:string,latitude:double,longitude:double,pais:string,rua:string,zona:string>, id: string, quartos: array<bigint>, suites: array<bigint>, tipo_anuncio: string, tipo_unidade: string, tipo_uso: string, vaga: array<bigint>, valores: array<struct<condominio:string,iptu:string,tipo:string,valor:string>>]"
            ]
          },
          "metadata": {},
          "execution_count": 12
        }
      ],
      "source": [
        "anuncio.where('tipo_uso == \"Residencial\" and tipo_unidade == \"Apartamento\" and tipo_anuncio == \"Usado\"')"
      ]
    },
    {
      "cell_type": "code",
      "source": [
        "anuncio = anuncio.filter(\"tipo_uso == 'Residencial'\")\n",
        "anuncio = anuncio.filter(\"tipo_unidade == 'Apartamento'\")\n",
        "anuncio = anuncio.filter(\"tipo_anuncio == 'Usado'\")"
      ],
      "metadata": {
        "id": "MqMYLWvcLF89"
      },
      "execution_count": 13,
      "outputs": []
    },
    {
      "cell_type": "code",
      "source": [
        "anuncio.show(10) # conferindo se os filtros foram aplicados"
      ],
      "metadata": {
        "colab": {
          "base_uri": "https://localhost:8080/"
        },
        "id": "QzDdeXHePPw7",
        "outputId": "f633596c-8798-45ff-93e3-f916a9cc1f0c"
      },
      "execution_count": 14,
      "outputs": [
        {
          "output_type": "stream",
          "name": "stdout",
          "text": [
            "+-----+----------+---------+---------+--------------------+--------------------+--------------------+-------+------+------------+------------+-----------+----+--------------------+\n",
            "|andar|area_total|area_util|banheiros|     caracteristicas|            endereco|                  id|quartos|suites|tipo_anuncio|tipo_unidade|   tipo_uso|vaga|             valores|\n",
            "+-----+----------+---------+---------+--------------------+--------------------+--------------------+-------+------+------------+------------+-----------+----+--------------------+\n",
            "|    3|      [43]|     [43]|      [1]|[Academia, Churra...|{Paciência, 23585...|d2e3a3aa-09b5-45a...|    [2]|    []|       Usado| Apartamento|Residencial| [1]|[{245, null, Vend...|\n",
            "|    2|      [42]|     [42]|      [1]|[Churrasqueira, P...|{Paciência, 23585...|085bab2c-87ad-452...|    [2]|    []|       Usado| Apartamento|Residencial| [1]|[{0, 0, Venda, 15...|\n",
            "|    1|      [41]|     [41]|      [1]|[Portaria 24h, Co...|{Guaratiba, 23036...|18d22cbe-1b86-476...|    [2]|    []|       Usado| Apartamento|Residencial| [1]|[{0, 0, Venda, 20...|\n",
            "|    3|      [43]|     [43]|      [1]|[Churrasqueira, P...|{Cosmos, 23066271...|bed8a354-9317-442...|    [2]|    []|       Usado| Apartamento|Residencial| [0]|[{285, null, Vend...|\n",
            "|    2|      [43]|     [43]|      [1]|[Academia, Churra...|{Guaratiba, 23036...|12a13315-d67f-48f...|    [2]|    []|       Usado| Apartamento|Residencial| [1]|[{245, null, Vend...|\n",
            "|    3|      [43]|     [43]|      [1]|[Churrasqueira, P...|{Cosmos, 23066271...|a2e6d7a5-0ff0-484...|    [2]|   [0]|       Usado| Apartamento|Residencial| [0]|[{285, null, Vend...|\n",
            "|    3|      [43]|     [43]|      [1]|[Churrasqueira, P...|{Paciência, 23585...|a6e3173b-c950-4db...|    [2]|    []|       Usado| Apartamento|Residencial| [1]|[{250, null, Vend...|\n",
            "|    3|      [43]|     [43]|      [1]|[Churrasqueira, P...|{Guaratiba, 23036...|2e6e5dfb-206c-496...|    [2]|   [0]|       Usado| Apartamento|Residencial| [1]|[{245, null, Vend...|\n",
            "|    3|      [43]|     [43]|      [1]|[Churrasqueira, P...|{Paciência, 23585...|99f8d0f9-95a4-461...|    [2]|   [0]|       Usado| Apartamento|Residencial| [1]|[{245, null, Vend...|\n",
            "|    4|      [43]|     [43]|      [1]|[Churrasqueira, P...|{Guaratiba, 23036...|b3f44c1a-2d50-4d5...|    [2]|    []|       Usado| Apartamento|Residencial| [1]|[{240, null, Vend...|\n",
            "+-----+----------+---------+---------+--------------------+--------------------+--------------------+-------+------+------------+------------+-----------+----+--------------------+\n",
            "only showing top 10 rows\n",
            "\n"
          ]
        }
      ]
    },
    {
      "cell_type": "markdown",
      "metadata": {
        "id": "xsYYgsUu8ITz"
      },
      "source": [
        "## **Extraindo bairros e zonas**"
      ]
    },
    {
      "cell_type": "markdown",
      "metadata": {
        "id": "qpewj6szvzOR"
      },
      "source": [
        "A equipe de ciência de dados nos solicitou que apenas as informações sobre bairro e zona da cidade fossem extraídas. Então, vamos analisar a coluna endereco e transformar apenas as informações sobre bairro e zona em colunas de nosso DataFrame."
      ]
    },
    {
      "cell_type": "code",
      "execution_count": 15,
      "metadata": {
        "colab": {
          "base_uri": "https://localhost:8080/"
        },
        "id": "lsSXzWro8LLj",
        "outputId": "e9438805-a94f-4af1-dd72-56f0353820c7"
      },
      "outputs": [
        {
          "output_type": "stream",
          "name": "stdout",
          "text": [
            "+--------------------+\n",
            "|            endereco|\n",
            "+--------------------+\n",
            "|{Paciência, 23585...|\n",
            "|{Paciência, 23585...|\n",
            "|{Guaratiba, 23036...|\n",
            "|{Cosmos, 23066271...|\n",
            "|{Guaratiba, 23036...|\n",
            "+--------------------+\n",
            "only showing top 5 rows\n",
            "\n"
          ]
        }
      ],
      "source": [
        "endereco = anuncio.select('endereco')\n",
        "endereco.show(5)"
      ]
    },
    {
      "cell_type": "code",
      "execution_count": 16,
      "metadata": {
        "id": "4APTYNg68OSx"
      },
      "outputs": [],
      "source": [
        "endereco = endereco.withColumn('bairro', endereco['endereco']['bairro'])\n",
        "endereco = endereco.withColumn('zona', endereco['endereco']['zona'])"
      ]
    },
    {
      "cell_type": "code",
      "execution_count": 17,
      "metadata": {
        "colab": {
          "base_uri": "https://localhost:8080/"
        },
        "id": "JJ6LoHqt8bCq",
        "outputId": "b176f3b9-fe71-410a-cf29-72c81b08d46f"
      },
      "outputs": [
        {
          "output_type": "stream",
          "name": "stdout",
          "text": [
            "+-----+----------+---------+---------+--------------------+--------------------+-------+------+------------+------------+-----------+----+--------------------+---------+----------+\n",
            "|andar|area_total|area_util|banheiros|     caracteristicas|                  id|quartos|suites|tipo_anuncio|tipo_unidade|   tipo_uso|vaga|             valores|   bairro|      zona|\n",
            "+-----+----------+---------+---------+--------------------+--------------------+-------+------+------------+------------+-----------+----+--------------------+---------+----------+\n",
            "|    3|      [43]|     [43]|      [1]|[Academia, Churra...|d2e3a3aa-09b5-45a...|    [2]|    []|       Usado| Apartamento|Residencial| [1]|[{245, null, Vend...|Paciência|Zona Oeste|\n",
            "|    2|      [42]|     [42]|      [1]|[Churrasqueira, P...|085bab2c-87ad-452...|    [2]|    []|       Usado| Apartamento|Residencial| [1]|[{0, 0, Venda, 15...|Paciência|Zona Oeste|\n",
            "|    1|      [41]|     [41]|      [1]|[Portaria 24h, Co...|18d22cbe-1b86-476...|    [2]|    []|       Usado| Apartamento|Residencial| [1]|[{0, 0, Venda, 20...|Guaratiba|Zona Oeste|\n",
            "|    3|      [43]|     [43]|      [1]|[Churrasqueira, P...|bed8a354-9317-442...|    [2]|    []|       Usado| Apartamento|Residencial| [0]|[{285, null, Vend...|   Cosmos|Zona Oeste|\n",
            "|    2|      [43]|     [43]|      [1]|[Academia, Churra...|12a13315-d67f-48f...|    [2]|    []|       Usado| Apartamento|Residencial| [1]|[{245, null, Vend...|Guaratiba|Zona Oeste|\n",
            "+-----+----------+---------+---------+--------------------+--------------------+-------+------+------------+------------+-----------+----+--------------------+---------+----------+\n",
            "only showing top 5 rows\n",
            "\n"
          ]
        }
      ],
      "source": [
        "# adicionando colunas bairro e zona ao dataframe:\n",
        "\n",
        "anuncio = anuncio.withColumn('bairro', anuncio['endereco']['bairro'])\n",
        "anuncio = anuncio.withColumn('zona', anuncio['endereco']['zona'])\n",
        "anuncio = anuncio.drop('endereco')\n",
        "anuncio.show(5)"
      ]
    },
    {
      "cell_type": "markdown",
      "metadata": {
        "id": "OPwnTL4L9QyW"
      },
      "source": [
        "## **Convertendo itens das colunas quartos, suites, banheiros, vaga, area_total e area_util de array para integer**"
      ]
    },
    {
      "cell_type": "markdown",
      "metadata": {
        "id": "gH1ucDoXwFbr"
      },
      "source": [
        "Como pessoas engenheiras de dados, nós queremos entregar a base de dados de forma mais estruturada para que o time de ciência de dados possa realizar os tratamentos e criação do modelo de machine learning.\n",
        "\n",
        "Nesse contexto, transforme os dados das colunas \"quartos\", \"suites\", \"banheiros\", \"vaga\", \"area_total\" e \"area_util\" de listas para inteiros."
      ]
    },
    {
      "cell_type": "code",
      "execution_count": 18,
      "metadata": {
        "id": "kiHBulWMTkTv"
      },
      "outputs": [],
      "source": [
        "from pyspark.sql import functions as f\n",
        "from pyspark.sql.types import IntegerType\n",
        "\n"
      ]
    },
    {
      "cell_type": "code",
      "execution_count": 19,
      "metadata": {
        "id": "rWYigix5U4Ik"
      },
      "outputs": [],
      "source": [
        "# Colunas com dados dentro de listas\n",
        "\n",
        "listas = ['quartos', 'suites', 'banheiros', 'vaga', 'area_total', 'area_util']"
      ]
    },
    {
      "cell_type": "code",
      "execution_count": 20,
      "metadata": {
        "id": "2EQIS7ViXdZU"
      },
      "outputs": [],
      "source": [
        "anuncio = anuncio.withColumn('quartos', anuncio['quartos'][0].cast(IntegerType()))"
      ]
    },
    {
      "cell_type": "code",
      "execution_count": 21,
      "metadata": {
        "id": "0g4TeXGeXkCF"
      },
      "outputs": [],
      "source": [
        "anuncio = anuncio.withColumn('suites', anuncio['suites'][0].cast(IntegerType()))"
      ]
    },
    {
      "cell_type": "code",
      "execution_count": 22,
      "metadata": {
        "id": "XqQwNsQoXntp"
      },
      "outputs": [],
      "source": [
        "anuncio = anuncio.withColumn('banheiros', anuncio['banheiros'][0].cast(IntegerType()))"
      ]
    },
    {
      "cell_type": "code",
      "execution_count": 23,
      "metadata": {
        "id": "Ng-q40mdXp-G"
      },
      "outputs": [],
      "source": [
        "anuncio = anuncio.withColumn('vaga', anuncio['vaga'][0].cast(IntegerType()))"
      ]
    },
    {
      "cell_type": "code",
      "execution_count": 24,
      "metadata": {
        "id": "68Dfsoh4Xt-w"
      },
      "outputs": [],
      "source": [
        "anuncio = anuncio.withColumn('area_total', anuncio['area_total'][0].cast(IntegerType()))"
      ]
    },
    {
      "cell_type": "code",
      "execution_count": 25,
      "metadata": {
        "id": "1bvfOoDfXyJ-"
      },
      "outputs": [],
      "source": [
        "anuncio = anuncio.withColumn('area_util', anuncio['area_util'][0].cast(IntegerType()))"
      ]
    },
    {
      "cell_type": "code",
      "execution_count": 26,
      "metadata": {
        "colab": {
          "base_uri": "https://localhost:8080/"
        },
        "id": "9PuvJyF2X0gE",
        "outputId": "724d4280-35af-4698-d4f3-3afee2134335"
      },
      "outputs": [
        {
          "output_type": "stream",
          "name": "stdout",
          "text": [
            "root\n",
            " |-- andar: long (nullable = true)\n",
            " |-- area_total: integer (nullable = true)\n",
            " |-- area_util: integer (nullable = true)\n",
            " |-- banheiros: integer (nullable = true)\n",
            " |-- caracteristicas: array (nullable = true)\n",
            " |    |-- element: string (containsNull = true)\n",
            " |-- id: string (nullable = true)\n",
            " |-- quartos: integer (nullable = true)\n",
            " |-- suites: integer (nullable = true)\n",
            " |-- tipo_anuncio: string (nullable = true)\n",
            " |-- tipo_unidade: string (nullable = true)\n",
            " |-- tipo_uso: string (nullable = true)\n",
            " |-- vaga: integer (nullable = true)\n",
            " |-- valores: array (nullable = true)\n",
            " |    |-- element: struct (containsNull = true)\n",
            " |    |    |-- condominio: string (nullable = true)\n",
            " |    |    |-- iptu: string (nullable = true)\n",
            " |    |    |-- tipo: string (nullable = true)\n",
            " |    |    |-- valor: string (nullable = true)\n",
            " |-- bairro: string (nullable = true)\n",
            " |-- zona: string (nullable = true)\n",
            "\n"
          ]
        }
      ],
      "source": [
        "anuncio.printSchema() # conferindo a conversão"
      ]
    },
    {
      "cell_type": "markdown",
      "metadata": {
        "id": "AaDIjj4uwXX7"
      },
      "source": [
        "**Vamos simplificar a compreensão da coluna valores, a mais importante da base. Vamos transformar os dados dessa coluna em colunas separadas.**"
      ]
    },
    {
      "cell_type": "code",
      "execution_count": 27,
      "metadata": {
        "id": "61DBVSJYhJ_X"
      },
      "outputs": [],
      "source": [
        "valores = anuncio.select('valores')"
      ]
    },
    {
      "cell_type": "code",
      "execution_count": 28,
      "metadata": {
        "colab": {
          "base_uri": "https://localhost:8080/"
        },
        "id": "RGCiiPQLgfTi",
        "outputId": "e82ac684-7697-4da2-8511-25eb560aaa70"
      },
      "outputs": [
        {
          "output_type": "stream",
          "name": "stdout",
          "text": [
            "+--------------------+----------+----+-----+-----+\n",
            "|             valores|condominio|iptu| tipo|valor|\n",
            "+--------------------+----------+----+-----+-----+\n",
            "|[{245, null, Vend...|       245|null|Venda|15000|\n",
            "|[{0, 0, Venda, 15...|         0|   0|Venda|15000|\n",
            "|[{0, 0, Venda, 20...|         0|   0|Venda|20000|\n",
            "|[{285, null, Vend...|       285|null|Venda|20000|\n",
            "|[{245, null, Vend...|       245|null|Venda|15000|\n",
            "+--------------------+----------+----+-----+-----+\n",
            "\n"
          ]
        }
      ],
      "source": [
        "valores = valores \\\n",
        "    .withColumn('condominio', anuncio['valores']['condominio'][0]) \\\n",
        "    .withColumn('iptu', anuncio['valores']['iptu'][0]) \\\n",
        "    .withColumn('tipo', anuncio['valores']['tipo'][0]) \\\n",
        "    .withColumn('valor', anuncio['valores']['valor'][0])\n",
        "\n",
        "valores.limit(5).show()"
      ]
    },
    {
      "cell_type": "code",
      "execution_count": 29,
      "metadata": {
        "colab": {
          "base_uri": "https://localhost:8080/"
        },
        "id": "rub9QWJchO0l",
        "outputId": "8f695908-c596-464f-fdfd-0d7515a1b975"
      },
      "outputs": [
        {
          "output_type": "stream",
          "name": "stdout",
          "text": [
            "+-----+----------+---------+---------+--------------------+--------------------+-------+------+------------+------------+-----------+----+---------+----------+----------+----+-----+-----+\n",
            "|andar|area_total|area_util|banheiros|     caracteristicas|                  id|quartos|suites|tipo_anuncio|tipo_unidade|   tipo_uso|vaga|   bairro|      zona|condominio|iptu| tipo|valor|\n",
            "+-----+----------+---------+---------+--------------------+--------------------+-------+------+------------+------------+-----------+----+---------+----------+----------+----+-----+-----+\n",
            "|    3|        43|       43|        1|[Academia, Churra...|d2e3a3aa-09b5-45a...|      2|  null|       Usado| Apartamento|Residencial|   1|Paciência|Zona Oeste|       245|null|Venda|15000|\n",
            "|    2|        42|       42|        1|[Churrasqueira, P...|085bab2c-87ad-452...|      2|  null|       Usado| Apartamento|Residencial|   1|Paciência|Zona Oeste|         0|   0|Venda|15000|\n",
            "|    1|        41|       41|        1|[Portaria 24h, Co...|18d22cbe-1b86-476...|      2|  null|       Usado| Apartamento|Residencial|   1|Guaratiba|Zona Oeste|         0|   0|Venda|20000|\n",
            "|    3|        43|       43|        1|[Churrasqueira, P...|bed8a354-9317-442...|      2|  null|       Usado| Apartamento|Residencial|   0|   Cosmos|Zona Oeste|       285|null|Venda|20000|\n",
            "|    2|        43|       43|        1|[Academia, Churra...|12a13315-d67f-48f...|      2|  null|       Usado| Apartamento|Residencial|   1|Guaratiba|Zona Oeste|       245|null|Venda|15000|\n",
            "+-----+----------+---------+---------+--------------------+--------------------+-------+------+------------+------------+-----------+----+---------+----------+----------+----+-----+-----+\n",
            "\n"
          ]
        }
      ],
      "source": [
        "anuncio = anuncio \\\n",
        "    .withColumn('condominio', anuncio['valores']['condominio'][0]) \\\n",
        "    .withColumn('iptu', anuncio['valores']['iptu'][0]) \\\n",
        "    .withColumn('tipo', anuncio['valores']['tipo'][0]) \\\n",
        "    .withColumn('valor', anuncio['valores']['valor'][0])\n",
        "anuncio = anuncio.drop('valores')\n",
        "anuncio.limit(5).show()"
      ]
    },
    {
      "cell_type": "markdown",
      "metadata": {
        "id": "M9IluO0UhhYG"
      },
      "source": [
        "## **Selecionando apenas \"Vendas\"**"
      ]
    },
    {
      "cell_type": "markdown",
      "metadata": {
        "id": "AfjawV28wNkz"
      },
      "source": [
        "Como se trata de um estudo sobre o preço de venda dos imóveis, iremos usar apenas informações do tipo VENDA."
      ]
    },
    {
      "cell_type": "code",
      "execution_count": 30,
      "metadata": {
        "id": "OMkVxlbxhj5K",
        "colab": {
          "base_uri": "https://localhost:8080/"
        },
        "outputId": "7416296a-fe26-4d8d-e071-b9b8859f60b4"
      },
      "outputs": [
        {
          "output_type": "stream",
          "name": "stdout",
          "text": [
            "+-------+-----+\n",
            "|   tipo|count|\n",
            "+-------+-----+\n",
            "|Aluguel|  214|\n",
            "|  Venda|66348|\n",
            "+-------+-----+\n",
            "\n"
          ]
        }
      ],
      "source": [
        "valores.groupby('tipo').count().show()"
      ]
    },
    {
      "cell_type": "code",
      "execution_count": 31,
      "metadata": {
        "id": "gepbB_X4itj1",
        "colab": {
          "base_uri": "https://localhost:8080/"
        },
        "outputId": "67b5c350-24ba-4465-f0e2-ecfd291b456b"
      },
      "outputs": [
        {
          "output_type": "stream",
          "name": "stdout",
          "text": [
            "+--------------------+----------+----+-----+-----+\n",
            "|             valores|condominio|iptu| tipo|valor|\n",
            "+--------------------+----------+----+-----+-----+\n",
            "|[{245, null, Vend...|       245|null|Venda|15000|\n",
            "|[{0, 0, Venda, 15...|         0|   0|Venda|15000|\n",
            "|[{0, 0, Venda, 20...|         0|   0|Venda|20000|\n",
            "|[{285, null, Vend...|       285|null|Venda|20000|\n",
            "|[{245, null, Vend...|       245|null|Venda|15000|\n",
            "|[{285, null, Vend...|       285|null|Venda|20000|\n",
            "|[{250, null, Vend...|       250|null|Venda|15000|\n",
            "|[{245, null, Vend...|       245|null|Venda|15000|\n",
            "|[{245, null, Vend...|       245|null|Venda|15000|\n",
            "|[{240, null, Vend...|       240|null|Venda|17999|\n",
            "|[{0, 0, Venda, 15...|         0|   0|Venda|15000|\n",
            "|[{240, 0, Venda, ...|       240|   0|Venda|19999|\n",
            "|[{245, null, Vend...|       245|null|Venda|19999|\n",
            "|[{290, null, Vend...|       290|null|Venda|25000|\n",
            "|[{285, null, Vend...|       285|null|Venda|29999|\n",
            "|[{0, 0, Venda, 30...|         0|   0|Venda|30000|\n",
            "|[{null, null, Ven...|      null|null|Venda|30000|\n",
            "|[{280, 0, Venda, ...|       280|   0|Venda|25000|\n",
            "|[{280, null, Vend...|       280|null|Venda|27999|\n",
            "|[{0, 0, Venda, 26...|         0|   0|Venda|26000|\n",
            "+--------------------+----------+----+-----+-----+\n",
            "only showing top 20 rows\n",
            "\n"
          ]
        }
      ],
      "source": [
        "valores_venda = valores.filter(valores.tipo == \"Venda\")\n",
        "valores_venda.show()"
      ]
    },
    {
      "cell_type": "code",
      "execution_count": 32,
      "metadata": {
        "id": "Yui-xpha7hR9"
      },
      "outputs": [],
      "source": [
        "anuncio = anuncio.where(anuncio.tipo == 'Venda')"
      ]
    },
    {
      "cell_type": "markdown",
      "metadata": {
        "id": "CuPQQJgLA5xp"
      },
      "source": [
        "## **Salvando os dados tratados como Parquet**"
      ]
    },
    {
      "cell_type": "code",
      "execution_count": 33,
      "metadata": {
        "id": "RMHGXX80BAMk"
      },
      "outputs": [],
      "source": [
        "anuncio.write.parquet(\n",
        "    path='/content/drive/MyDrive/Imoveis/PARQUET',\n",
        "    mode='overwrite'\n",
        ")"
      ]
    },
    {
      "cell_type": "code",
      "execution_count": 34,
      "metadata": {
        "id": "JQhjPBG6B2Mb"
      },
      "outputs": [],
      "source": [
        "anuncio_parquet = spark.read.parquet(\n",
        "    '/content/drive/MyDrive/Imoveis/PARQUET'\n",
        ")"
      ]
    },
    {
      "cell_type": "markdown",
      "source": [
        "## **Selecionando os features**"
      ],
      "metadata": {
        "id": "bOFhPMpvfuDO"
      }
    },
    {
      "cell_type": "code",
      "source": [
        "# algumas colunas possuem um único valor, então podem ser removidas\n",
        "\n",
        "anuncio = anuncio.drop('tipo_anuncio')\n",
        "anuncio = anuncio.drop('tipo_unidade')\n",
        "anuncio = anuncio.drop('tipo_uso')"
      ],
      "metadata": {
        "id": "7mnwKko9p7rs"
      },
      "execution_count": 35,
      "outputs": []
    },
    {
      "cell_type": "code",
      "source": [
        "dados_sem_caracteristicas = anuncio.drop('caracteristicas') # somente para facilitar a contade de valores nulos abaixo"
      ],
      "metadata": {
        "id": "u5wZMJP9S1QH"
      },
      "execution_count": 36,
      "outputs": []
    },
    {
      "cell_type": "code",
      "source": [
        "# área total e área útil tem muitos valores iguais, verifiquei qual tem mais valores nulos e retirei\n",
        "\n",
        "dados_sem_caracteristicas\\\n",
        "   .select([f.count(f.when(f.isnan(c) | f.isnull(c), True)).alias(c) for c in dados_sem_caracteristicas.columns])\\\n",
        "    .show()\n"
      ],
      "metadata": {
        "colab": {
          "base_uri": "https://localhost:8080/"
        },
        "id": "QIXYEGXNtFoh",
        "outputId": "94bb9fc1-12a4-4912-a22f-13b333079272"
      },
      "execution_count": 37,
      "outputs": [
        {
          "output_type": "stream",
          "name": "stdout",
          "text": [
            "+-----+----------+---------+---------+---+-------+------+----+------+----+----------+----+----+-----+\n",
            "|andar|area_total|area_util|banheiros| id|quartos|suites|vaga|bairro|zona|condominio|iptu|tipo|valor|\n",
            "+-----+----------+---------+---------+---+-------+------+----+------+----+----------+----+----+-----+\n",
            "|    0|      9186|        0|        0|  0|      0|  5544|3008|     0|   0|      2347|7155|   0|    0|\n",
            "+-----+----------+---------+---------+---+-------+------+----+------+----+----------+----+----+-----+\n",
            "\n"
          ]
        }
      ]
    },
    {
      "cell_type": "code",
      "source": [
        "anuncio = anuncio.drop('area_total')"
      ],
      "metadata": {
        "id": "G29ZrHhf5j4_"
      },
      "execution_count": 38,
      "outputs": []
    },
    {
      "cell_type": "code",
      "source": [
        "anuncio.show(10)"
      ],
      "metadata": {
        "colab": {
          "base_uri": "https://localhost:8080/"
        },
        "id": "l8bJ2Y1I5qnI",
        "outputId": "2ad45676-b4d1-4d68-90cd-b09d91ea3f25"
      },
      "execution_count": 39,
      "outputs": [
        {
          "output_type": "stream",
          "name": "stdout",
          "text": [
            "+-----+---------+---------+--------------------+--------------------+-------+------+----+---------+----------+----------+----+-----+-----+\n",
            "|andar|area_util|banheiros|     caracteristicas|                  id|quartos|suites|vaga|   bairro|      zona|condominio|iptu| tipo|valor|\n",
            "+-----+---------+---------+--------------------+--------------------+-------+------+----+---------+----------+----------+----+-----+-----+\n",
            "|    3|       43|        1|[Academia, Churra...|d2e3a3aa-09b5-45a...|      2|  null|   1|Paciência|Zona Oeste|       245|null|Venda|15000|\n",
            "|    2|       42|        1|[Churrasqueira, P...|085bab2c-87ad-452...|      2|  null|   1|Paciência|Zona Oeste|         0|   0|Venda|15000|\n",
            "|    1|       41|        1|[Portaria 24h, Co...|18d22cbe-1b86-476...|      2|  null|   1|Guaratiba|Zona Oeste|         0|   0|Venda|20000|\n",
            "|    3|       43|        1|[Churrasqueira, P...|bed8a354-9317-442...|      2|  null|   0|   Cosmos|Zona Oeste|       285|null|Venda|20000|\n",
            "|    2|       43|        1|[Academia, Churra...|12a13315-d67f-48f...|      2|  null|   1|Guaratiba|Zona Oeste|       245|null|Venda|15000|\n",
            "|    3|       43|        1|[Churrasqueira, P...|a2e6d7a5-0ff0-484...|      2|     0|   0|   Cosmos|Zona Oeste|       285|null|Venda|20000|\n",
            "|    3|       43|        1|[Churrasqueira, P...|a6e3173b-c950-4db...|      2|  null|   1|Paciência|Zona Oeste|       250|null|Venda|15000|\n",
            "|    3|       43|        1|[Churrasqueira, P...|2e6e5dfb-206c-496...|      2|     0|   1|Guaratiba|Zona Oeste|       245|null|Venda|15000|\n",
            "|    3|       43|        1|[Churrasqueira, P...|99f8d0f9-95a4-461...|      2|     0|   1|Paciência|Zona Oeste|       245|null|Venda|15000|\n",
            "|    4|       43|        1|[Churrasqueira, P...|b3f44c1a-2d50-4d5...|      2|  null|   1|Guaratiba|Zona Oeste|       240|null|Venda|17999|\n",
            "+-----+---------+---------+--------------------+--------------------+-------+------+----+---------+----------+----------+----+-----+-----+\n",
            "only showing top 10 rows\n",
            "\n"
          ]
        }
      ]
    },
    {
      "cell_type": "code",
      "source": [
        "anuncio = anuncio.drop('tipo') # como já filtro para somente tipo vendas, posso retirar essa coluna"
      ],
      "metadata": {
        "id": "QgOMI-5L55E5"
      },
      "execution_count": 40,
      "outputs": []
    },
    {
      "cell_type": "markdown",
      "source": [
        "## **Convertendo os tipos das colunas**"
      ],
      "metadata": {
        "id": "HJKDoaEc6YTL"
      }
    },
    {
      "cell_type": "code",
      "source": [
        "from pyspark.sql.types import DoubleType"
      ],
      "metadata": {
        "id": "poWpy_Ue6c1g"
      },
      "execution_count": 41,
      "outputs": []
    },
    {
      "cell_type": "code",
      "source": [
        "anuncio.printSchema()"
      ],
      "metadata": {
        "colab": {
          "base_uri": "https://localhost:8080/"
        },
        "id": "BEpP9CPO7vN1",
        "outputId": "cf271090-dee1-4d80-83a0-d66fc52bd8aa"
      },
      "execution_count": 42,
      "outputs": [
        {
          "output_type": "stream",
          "name": "stdout",
          "text": [
            "root\n",
            " |-- andar: long (nullable = true)\n",
            " |-- area_util: integer (nullable = true)\n",
            " |-- banheiros: integer (nullable = true)\n",
            " |-- caracteristicas: array (nullable = true)\n",
            " |    |-- element: string (containsNull = true)\n",
            " |-- id: string (nullable = true)\n",
            " |-- quartos: integer (nullable = true)\n",
            " |-- suites: integer (nullable = true)\n",
            " |-- vaga: integer (nullable = true)\n",
            " |-- bairro: string (nullable = true)\n",
            " |-- zona: string (nullable = true)\n",
            " |-- condominio: string (nullable = true)\n",
            " |-- iptu: string (nullable = true)\n",
            " |-- valor: string (nullable = true)\n",
            "\n"
          ]
        }
      ]
    },
    {
      "cell_type": "code",
      "source": [
        "anuncio = anuncio.withColumn('condominio', anuncio['condominio'].cast(DoubleType()))\n",
        "anuncio = anuncio.withColumn('area_util', anuncio['area_util'].cast(DoubleType()))\n",
        "anuncio = anuncio.withColumn('condominio', anuncio['condominio'].cast(DoubleType()))\n",
        "anuncio = anuncio.withColumn('iptu', anuncio['iptu'].cast(DoubleType()))\n",
        "anuncio = anuncio.withColumn('valor', anuncio['valor'].cast(DoubleType()))\n",
        "anuncio = anuncio.withColumn('andar', anuncio['andar'].cast(IntegerType()))"
      ],
      "metadata": {
        "id": "ikJLdML571kY"
      },
      "execution_count": 43,
      "outputs": []
    },
    {
      "cell_type": "code",
      "source": [
        "anuncio.printSchema()"
      ],
      "metadata": {
        "id": "6kkyfkB7_Y-4",
        "outputId": "659e8e53-0776-4189-d111-b0595c3ea41f",
        "colab": {
          "base_uri": "https://localhost:8080/"
        }
      },
      "execution_count": 44,
      "outputs": [
        {
          "output_type": "stream",
          "name": "stdout",
          "text": [
            "root\n",
            " |-- andar: integer (nullable = true)\n",
            " |-- area_util: double (nullable = true)\n",
            " |-- banheiros: integer (nullable = true)\n",
            " |-- caracteristicas: array (nullable = true)\n",
            " |    |-- element: string (containsNull = true)\n",
            " |-- id: string (nullable = true)\n",
            " |-- quartos: integer (nullable = true)\n",
            " |-- suites: integer (nullable = true)\n",
            " |-- vaga: integer (nullable = true)\n",
            " |-- bairro: string (nullable = true)\n",
            " |-- zona: string (nullable = true)\n",
            " |-- condominio: double (nullable = true)\n",
            " |-- iptu: double (nullable = true)\n",
            " |-- valor: double (nullable = true)\n",
            "\n"
          ]
        }
      ]
    },
    {
      "cell_type": "markdown",
      "source": [
        "## **Tratando a coluna de características**"
      ],
      "metadata": {
        "id": "S5g5UkmbFLyg"
      }
    },
    {
      "cell_type": "code",
      "source": [
        "caracteristicas = anuncio.select(anuncio.id,f.explode(anuncio.caracteristicas))\n",
        "caracteristicas.groupBy('col').count().show()"
      ],
      "metadata": {
        "colab": {
          "base_uri": "https://localhost:8080/"
        },
        "id": "HlPZGLsqFUJh",
        "outputId": "e09740f5-00a2-4743-ea2d-a277a586bea7"
      },
      "execution_count": 45,
      "outputs": [
        {
          "output_type": "stream",
          "name": "stdout",
          "text": [
            "+------------------+-----+\n",
            "|               col|count|\n",
            "+------------------+-----+\n",
            "|Condomínio fechado|34933|\n",
            "|        Playground|31804|\n",
            "| Portão eletrônico|29304|\n",
            "|           Piscina|33168|\n",
            "|Animais permitidos|30590|\n",
            "|      Portaria 24h|30343|\n",
            "|          Elevador|42932|\n",
            "|          Academia|27601|\n",
            "|   Salão de festas|33531|\n",
            "|     Churrasqueira|31673|\n",
            "+------------------+-----+\n",
            "\n"
          ]
        }
      ]
    },
    {
      "cell_type": "code",
      "source": [
        "caracteristicas = caracteristicas.groupBy('id').pivot('col').agg(f.lit(1)).na.fill(0)\n",
        "caracteristicas.show()"
      ],
      "metadata": {
        "colab": {
          "base_uri": "https://localhost:8080/"
        },
        "id": "0IfvaxwPT046",
        "outputId": "bbd6a168-e8de-4eee-ac4a-adf3bb74eaf1"
      },
      "execution_count": 46,
      "outputs": [
        {
          "output_type": "stream",
          "name": "stdout",
          "text": [
            "+--------------------+--------+------------------+-------------+------------------+--------+-------+----------+------------+-----------------+---------------+\n",
            "|                  id|Academia|Animais permitidos|Churrasqueira|Condomínio fechado|Elevador|Piscina|Playground|Portaria 24h|Portão eletrônico|Salão de festas|\n",
            "+--------------------+--------+------------------+-------------+------------------+--------+-------+----------+------------+-----------------+---------------+\n",
            "|fd96bbd5-d631-416...|       1|                 1|            1|                 1|       1|      1|         1|           1|                1|              1|\n",
            "|bfffedfe-99e7-4ae...|       0|                 1|            1|                 1|       1|      0|         1|           0|                1|              1|\n",
            "|fcb67af3-5601-415...|       1|                 1|            1|                 0|       0|      1|         1|           0|                0|              1|\n",
            "|afecddff-f4cc-4ab...|       1|                 1|            1|                 1|       1|      1|         1|           1|                1|              1|\n",
            "|1bbc40f3-4f5c-459...|       1|                 0|            0|                 1|       1|      1|         1|           1|                1|              1|\n",
            "|fd26aeb2-a7b3-4f8...|       1|                 1|            1|                 1|       1|      1|         1|           1|                1|              1|\n",
            "|10e9d118-dbad-43c...|       0|                 1|            1|                 1|       0|      1|         1|           1|                1|              1|\n",
            "|ca1e84d7-86c8-4b1...|       1|                 0|            1|                 1|       1|      1|         1|           1|                1|              1|\n",
            "|d9e139a5-e85d-4e1...|       1|                 1|            1|                 1|       1|      1|         1|           1|                1|              1|\n",
            "|156a1fa5-37ca-43d...|       1|                 0|            1|                 1|       1|      1|         1|           1|                1|              1|\n",
            "|e7be09eb-6223-4b4...|       1|                 1|            1|                 1|       1|      1|         1|           1|                1|              1|\n",
            "|631efda0-5e10-422...|       1|                 1|            1|                 1|       1|      1|         1|           1|                1|              1|\n",
            "|07cbfef2-efbf-4e8...|       0|                 1|            0|                 0|       1|      0|         0|           1|                0|              0|\n",
            "|62baf185-103d-448...|       1|                 0|            1|                 1|       0|      1|         1|           0|                0|              0|\n",
            "|3030d17c-5681-4b2...|       1|                 1|            1|                 1|       1|      1|         0|           1|                1|              1|\n",
            "|6179c8a4-1fd2-4f5...|       1|                 1|            0|                 1|       1|      1|         1|           1|                1|              1|\n",
            "|c284072a-7298-4e5...|       1|                 1|            1|                 1|       1|      1|         1|           1|                1|              1|\n",
            "|7e43514c-3b40-4fb...|       1|                 1|            1|                 1|       1|      1|         1|           1|                1|              1|\n",
            "|6a4ce9ac-1eb0-4d4...|       1|                 0|            1|                 0|       1|      1|         1|           0|                0|              1|\n",
            "|bdc6127a-1d97-41b...|       1|                 0|            1|                 0|       0|      0|         0|           0|                0|              1|\n",
            "+--------------------+--------+------------------+-------------+------------------+--------+-------+----------+------------+-----------------+---------------+\n",
            "only showing top 20 rows\n",
            "\n"
          ]
        }
      ]
    },
    {
      "cell_type": "code",
      "source": [
        "anuncio = anuncio.join(caracteristicas, 'id', how='left').drop('caracteristicas')\n",
        "anuncio.count()"
      ],
      "metadata": {
        "colab": {
          "base_uri": "https://localhost:8080/"
        },
        "id": "_uRCyi_mUMpa",
        "outputId": "cf7767a3-3968-4c05-fc39-449a37451f09"
      },
      "execution_count": 47,
      "outputs": [
        {
          "output_type": "execute_result",
          "data": {
            "text/plain": [
              "66348"
            ]
          },
          "metadata": {},
          "execution_count": 47
        }
      ]
    },
    {
      "cell_type": "code",
      "source": [
        "anuncio.show()"
      ],
      "metadata": {
        "colab": {
          "base_uri": "https://localhost:8080/"
        },
        "id": "uavcDZ8qUVCa",
        "outputId": "d7385937-4b1e-44d4-8305-1d945711fbae"
      },
      "execution_count": 48,
      "outputs": [
        {
          "output_type": "stream",
          "name": "stdout",
          "text": [
            "+--------------------+-----+---------+---------+-------+------+----+--------------------+----------+----------+-------+---------+--------+------------------+-------------+------------------+--------+-------+----------+------------+-----------------+---------------+\n",
            "|                  id|andar|area_util|banheiros|quartos|suites|vaga|              bairro|      zona|condominio|   iptu|    valor|Academia|Animais permitidos|Churrasqueira|Condomínio fechado|Elevador|Piscina|Playground|Portaria 24h|Portão eletrônico|Salão de festas|\n",
            "+--------------------+-----+---------+---------+-------+------+----+--------------------+----------+----------+-------+---------+--------+------------------+-------------+------------------+--------+-------+----------+------------+-----------------+---------------+\n",
            "|006e2b19-f4de-450...|    0|    116.0|        2|      3|     1|   1|     Barra da Tijuca|Zona Oeste|     100.0|  100.0|3793260.0|       1|                 1|            1|                 1|       1|      1|         1|           1|                1|              1|\n",
            "|011acce0-129f-4c2...|    0|    143.0|        4|      4|     3|   1|         Jacarepaguá|Zona Oeste|    3948.0| 2000.0|1600000.0|       0|                 0|            1|                 0|       0|      1|         0|           0|                0|              0|\n",
            "|013c582b-eca8-474...|    7|    236.0|        4|      5|     2|   3|Freguesia (Jacare...|Zona Oeste|      20.0|   20.0|1535000.0|       1|                 1|            1|                 1|       1|      1|         1|           1|                1|              1|\n",
            "|013d04e0-6054-4ac...|    0|    215.0|        3|      3|     1|   2|            Botafogo|  Zona Sul|    1685.0| 4500.0|2279540.0|       0|                 0|            1|                 0|       1|      0|         0|           0|                0|              0|\n",
            "|02fba6ef-a691-442...|    3|     64.0|        1|      2|     2|   1|         Jacarepaguá|Zona Oeste|     784.0|   80.0| 380000.0|       1|                 1|            1|                 1|       1|      1|         1|           1|                1|              1|\n",
            "|03a386b6-7ab8-4ef...|    0|     43.0|        1|      2|  null|   1|            Realengo|Zona Oeste|     285.0|   null|  22999.0|       1|                 1|            1|                 1|       0|      0|         1|           1|                1|              1|\n",
            "|05e0cf33-59c4-4dd...|    2|     66.0|        2|      2|     0|   1|              Leblon|  Zona Sul|    1600.0|  210.0|1200000.0|       0|                 0|            0|                 0|       1|      0|         0|           1|                0|              1|\n",
            "|06e17192-b0ea-404...|    0|    154.0|        5|      4|  null|   3|     Barra da Tijuca|Zona Oeste|    1780.0| 4400.0|2200000.0|       1|                 1|            0|                 1|       1|      1|         0|           0|                0|              1|\n",
            "|075962eb-be7f-47c...|    0|    100.0|        3|      2|     1|   1|             Ipanema|  Zona Sul|    5000.0| 7840.0|2000000.0|       0|                 0|            0|                 0|       0|      1|         1|           0|                0|              0|\n",
            "|07ab6e4a-fd5e-4c0...|    0|     70.0|        2|      2|     0|   1|            Maracanã|Zona Norte|     550.0|    1.0| 438999.0|       0|                 0|            0|                 0|       1|      0|         0|           0|                0|              0|\n",
            "|07bb07c1-21cc-4da...|    2|     48.0|        1|      1|     0|   0|             Piedade|Zona Norte|      10.0|   10.0| 170000.0|       0|                 1|            0|                 1|       0|      0|         0|           0|                0|              0|\n",
            "|07cbfef2-efbf-4e8...|    1|    120.0|        2|      3|     0|   0|          Copacabana|  Zona Sul|     950.0|  270.0| 950000.0|       0|                 1|            0|                 0|       1|      0|         0|           1|                0|              0|\n",
            "|085e90da-4e5e-4bd...|    0|    102.0|        2|      2|     2|   1|         São Conrado|  Zona Sul|       1.0|    1.0| 950000.0|       1|                 1|            1|                 1|       1|      1|         1|           1|                1|              1|\n",
            "|092409e4-0c46-454...|    0|     72.0|        1|      2|     0|   1|                Leme|  Zona Sul|    2000.0|  225.0| 750000.0|       0|                 1|            1|                 1|       1|      0|         0|           0|                1|              0|\n",
            "|0a00abfe-d8ac-487...|    0|     68.0|        1|      2|     0|   0|               Zumbi|Zona Norte|     750.0|  230.0| 340000.0|    null|              null|         null|              null|    null|   null|      null|        null|             null|           null|\n",
            "|0b3f15d1-a6fe-429...|    2|    183.0|        3|      4|     2|   2|               Lagoa|  Zona Sul|      20.0|   20.0|5784000.0|       1|                 0|            0|                 1|       1|      0|         1|           0|                0|              0|\n",
            "|0e3cea1c-fddc-4c5...|    0|    381.0|        6|      4|     4|   3|     Barra da Tijuca|Zona Oeste|    6000.0|28000.0|   1.08E7|    null|              null|         null|              null|    null|   null|      null|        null|             null|           null|\n",
            "|0e7f7703-c27b-4ac...|    4|     51.0|        1|      2|     0|   1|         Jacarepaguá|Zona Oeste|     435.0|   85.0| 239000.0|       1|                 1|            1|                 1|       1|      1|         1|           1|                1|              1|\n",
            "|0f8b79dd-85ac-48b...|    0|    168.0|        5|      4|     1|   2|     Barra da Tijuca|Zona Oeste|    2700.0|  900.0|3250000.0|       0|                 0|            0|                 1|       0|      0|         0|           0|                0|              0|\n",
            "|0f92a7ef-415f-4b5...|    0|    140.0|        3|      3|     1|   1|          Copacabana|  Zona Sul|    1400.0| 3800.0|1650000.0|       0|                 0|            0|                 1|       1|      0|         0|           1|                1|              0|\n",
            "+--------------------+-----+---------+---------+-------+------+----+--------------------+----------+----------+-------+---------+--------+------------------+-------------+------------------+--------+-------+----------+------------+-----------------+---------------+\n",
            "only showing top 20 rows\n",
            "\n"
          ]
        }
      ]
    },
    {
      "cell_type": "markdown",
      "source": [
        "## **Tratar dados nulos e NaN's**"
      ],
      "metadata": {
        "id": "BLEAvHSEU-RE"
      }
    },
    {
      "cell_type": "code",
      "source": [
        "anuncio\\\n",
        "    .select([f.count(f.when(f.isnan(c) | f.isnull(c), True)).alias(c) for c in anuncio.columns])\\\n",
        "    .show()"
      ],
      "metadata": {
        "colab": {
          "base_uri": "https://localhost:8080/"
        },
        "id": "TPiG7JlhWsSO",
        "outputId": "26470cb0-bb46-426b-9a44-ad1335a53b11"
      },
      "execution_count": 49,
      "outputs": [
        {
          "output_type": "stream",
          "name": "stdout",
          "text": [
            "+---+-----+---------+---------+-------+------+----+------+----+----------+----+-----+--------+------------------+-------------+------------------+--------+-------+----------+------------+-----------------+---------------+\n",
            "| id|andar|area_util|banheiros|quartos|suites|vaga|bairro|zona|condominio|iptu|valor|Academia|Animais permitidos|Churrasqueira|Condomínio fechado|Elevador|Piscina|Playground|Portaria 24h|Portão eletrônico|Salão de festas|\n",
            "+---+-----+---------+---------+-------+------+----+------+----+----------+----+-----+--------+------------------+-------------+------------------+--------+-------+----------+------------+-----------------+---------------+\n",
            "|  0|    0|        0|        0|      0|  5544|3008|     0|   0|      2347|7155|    0|   12665|             12665|        12665|             12665|   12665|  12665|     12665|       12665|            12665|          12665|\n",
            "+---+-----+---------+---------+-------+------+----+------+----+----------+----+-----+--------+------------------+-------------+------------------+--------+-------+----------+------------+-----------------+---------------+\n",
            "\n"
          ]
        }
      ]
    },
    {
      "cell_type": "code",
      "source": [
        "anuncio\\\n",
        "    .select('*')\\\n",
        "    .na\\\n",
        "    .fill(0)\\\n",
        "    .show()"
      ],
      "metadata": {
        "colab": {
          "base_uri": "https://localhost:8080/"
        },
        "id": "D5F-T3TcW1Ke",
        "outputId": "5cb19f1f-b02c-4e29-8b43-40d7986d0bed"
      },
      "execution_count": 50,
      "outputs": [
        {
          "output_type": "stream",
          "name": "stdout",
          "text": [
            "+--------------------+-----+---------+---------+-------+------+----+--------------------+----------+----------+-------+---------+--------+------------------+-------------+------------------+--------+-------+----------+------------+-----------------+---------------+\n",
            "|                  id|andar|area_util|banheiros|quartos|suites|vaga|              bairro|      zona|condominio|   iptu|    valor|Academia|Animais permitidos|Churrasqueira|Condomínio fechado|Elevador|Piscina|Playground|Portaria 24h|Portão eletrônico|Salão de festas|\n",
            "+--------------------+-----+---------+---------+-------+------+----+--------------------+----------+----------+-------+---------+--------+------------------+-------------+------------------+--------+-------+----------+------------+-----------------+---------------+\n",
            "|006e2b19-f4de-450...|    0|    116.0|        2|      3|     1|   1|     Barra da Tijuca|Zona Oeste|     100.0|  100.0|3793260.0|       1|                 1|            1|                 1|       1|      1|         1|           1|                1|              1|\n",
            "|011acce0-129f-4c2...|    0|    143.0|        4|      4|     3|   1|         Jacarepaguá|Zona Oeste|    3948.0| 2000.0|1600000.0|       0|                 0|            1|                 0|       0|      1|         0|           0|                0|              0|\n",
            "|013c582b-eca8-474...|    7|    236.0|        4|      5|     2|   3|Freguesia (Jacare...|Zona Oeste|      20.0|   20.0|1535000.0|       1|                 1|            1|                 1|       1|      1|         1|           1|                1|              1|\n",
            "|013d04e0-6054-4ac...|    0|    215.0|        3|      3|     1|   2|            Botafogo|  Zona Sul|    1685.0| 4500.0|2279540.0|       0|                 0|            1|                 0|       1|      0|         0|           0|                0|              0|\n",
            "|02fba6ef-a691-442...|    3|     64.0|        1|      2|     2|   1|         Jacarepaguá|Zona Oeste|     784.0|   80.0| 380000.0|       1|                 1|            1|                 1|       1|      1|         1|           1|                1|              1|\n",
            "|03a386b6-7ab8-4ef...|    0|     43.0|        1|      2|     0|   1|            Realengo|Zona Oeste|     285.0|    0.0|  22999.0|       1|                 1|            1|                 1|       0|      0|         1|           1|                1|              1|\n",
            "|05e0cf33-59c4-4dd...|    2|     66.0|        2|      2|     0|   1|              Leblon|  Zona Sul|    1600.0|  210.0|1200000.0|       0|                 0|            0|                 0|       1|      0|         0|           1|                0|              1|\n",
            "|06e17192-b0ea-404...|    0|    154.0|        5|      4|     0|   3|     Barra da Tijuca|Zona Oeste|    1780.0| 4400.0|2200000.0|       1|                 1|            0|                 1|       1|      1|         0|           0|                0|              1|\n",
            "|075962eb-be7f-47c...|    0|    100.0|        3|      2|     1|   1|             Ipanema|  Zona Sul|    5000.0| 7840.0|2000000.0|       0|                 0|            0|                 0|       0|      1|         1|           0|                0|              0|\n",
            "|07ab6e4a-fd5e-4c0...|    0|     70.0|        2|      2|     0|   1|            Maracanã|Zona Norte|     550.0|    1.0| 438999.0|       0|                 0|            0|                 0|       1|      0|         0|           0|                0|              0|\n",
            "|07bb07c1-21cc-4da...|    2|     48.0|        1|      1|     0|   0|             Piedade|Zona Norte|      10.0|   10.0| 170000.0|       0|                 1|            0|                 1|       0|      0|         0|           0|                0|              0|\n",
            "|07cbfef2-efbf-4e8...|    1|    120.0|        2|      3|     0|   0|          Copacabana|  Zona Sul|     950.0|  270.0| 950000.0|       0|                 1|            0|                 0|       1|      0|         0|           1|                0|              0|\n",
            "|085e90da-4e5e-4bd...|    0|    102.0|        2|      2|     2|   1|         São Conrado|  Zona Sul|       1.0|    1.0| 950000.0|       1|                 1|            1|                 1|       1|      1|         1|           1|                1|              1|\n",
            "|092409e4-0c46-454...|    0|     72.0|        1|      2|     0|   1|                Leme|  Zona Sul|    2000.0|  225.0| 750000.0|       0|                 1|            1|                 1|       1|      0|         0|           0|                1|              0|\n",
            "|0a00abfe-d8ac-487...|    0|     68.0|        1|      2|     0|   0|               Zumbi|Zona Norte|     750.0|  230.0| 340000.0|       0|                 0|            0|                 0|       0|      0|         0|           0|                0|              0|\n",
            "|0b3f15d1-a6fe-429...|    2|    183.0|        3|      4|     2|   2|               Lagoa|  Zona Sul|      20.0|   20.0|5784000.0|       1|                 0|            0|                 1|       1|      0|         1|           0|                0|              0|\n",
            "|0e3cea1c-fddc-4c5...|    0|    381.0|        6|      4|     4|   3|     Barra da Tijuca|Zona Oeste|    6000.0|28000.0|   1.08E7|       0|                 0|            0|                 0|       0|      0|         0|           0|                0|              0|\n",
            "|0e7f7703-c27b-4ac...|    4|     51.0|        1|      2|     0|   1|         Jacarepaguá|Zona Oeste|     435.0|   85.0| 239000.0|       1|                 1|            1|                 1|       1|      1|         1|           1|                1|              1|\n",
            "|0f8b79dd-85ac-48b...|    0|    168.0|        5|      4|     1|   2|     Barra da Tijuca|Zona Oeste|    2700.0|  900.0|3250000.0|       0|                 0|            0|                 1|       0|      0|         0|           0|                0|              0|\n",
            "|0f92a7ef-415f-4b5...|    0|    140.0|        3|      3|     1|   1|          Copacabana|  Zona Sul|    1400.0| 3800.0|1650000.0|       0|                 0|            0|                 1|       1|      0|         0|           1|                1|              0|\n",
            "+--------------------+-----+---------+---------+-------+------+----+--------------------+----------+----------+-------+---------+--------+------------------+-------------+------------------+--------+-------+----------+------------+-----------------+---------------+\n",
            "only showing top 20 rows\n",
            "\n"
          ]
        }
      ]
    },
    {
      "cell_type": "code",
      "source": [
        "anuncio = anuncio\\\n",
        "    .select('*')\\\n",
        "    .na\\\n",
        "    .fill(0)"
      ],
      "metadata": {
        "id": "fbmAOqc0XOIN"
      },
      "execution_count": 51,
      "outputs": []
    },
    {
      "cell_type": "code",
      "source": [
        "anuncio\\\n",
        "    .select([f.count(f.when(f.isnan(c) | f.isnull(c), True)).alias(c) for c in anuncio.columns])\\\n",
        "    .show()"
      ],
      "metadata": {
        "colab": {
          "base_uri": "https://localhost:8080/"
        },
        "id": "SMCdctxrXWOR",
        "outputId": "d0f4e8c7-5e23-4d4d-f803-2fb9dd287afb"
      },
      "execution_count": 52,
      "outputs": [
        {
          "output_type": "stream",
          "name": "stdout",
          "text": [
            "+---+-----+---------+---------+-------+------+----+------+----+----------+----+-----+--------+------------------+-------------+------------------+--------+-------+----------+------------+-----------------+---------------+\n",
            "| id|andar|area_util|banheiros|quartos|suites|vaga|bairro|zona|condominio|iptu|valor|Academia|Animais permitidos|Churrasqueira|Condomínio fechado|Elevador|Piscina|Playground|Portaria 24h|Portão eletrônico|Salão de festas|\n",
            "+---+-----+---------+---------+-------+------+----+------+----+----------+----+-----+--------+------------------+-------------+------------------+--------+-------+----------+------------+-----------------+---------------+\n",
            "|  0|    0|        0|        0|      0|     0|   0|     0|   0|         0|   0|    0|       0|                 0|            0|                 0|       0|      0|         0|           0|                0|              0|\n",
            "+---+-----+---------+---------+-------+------+----+------+----+----------+----+-----+--------+------------------+-------------+------------------+--------+-------+----------+------------+-----------------+---------------+\n",
            "\n"
          ]
        }
      ]
    },
    {
      "cell_type": "code",
      "source": [
        "anuncio\\\n",
        "    .select('zona')\\\n",
        "    .groupBy('zona')\\\n",
        "    .count()\\\n",
        "    .show()"
      ],
      "metadata": {
        "colab": {
          "base_uri": "https://localhost:8080/"
        },
        "id": "yC9F_NhCX1jY",
        "outputId": "8b3e9d03-9216-4cbd-c119-2a1350e4a5ac"
      },
      "execution_count": 53,
      "outputs": [
        {
          "output_type": "stream",
          "name": "stdout",
          "text": [
            "+------------+-----+\n",
            "|        zona|count|\n",
            "+------------+-----+\n",
            "|  Zona Norte|11853|\n",
            "|  Zona Oeste|32879|\n",
            "|Zona Central| 1134|\n",
            "|    Zona Sul|20471|\n",
            "|            |   11|\n",
            "+------------+-----+\n",
            "\n"
          ]
        }
      ]
    },
    {
      "cell_type": "code",
      "source": [
        "anuncio = anuncio\\\n",
        "    .where(f.col('zona') != '')"
      ],
      "metadata": {
        "id": "6EZJ8Gx6YAne"
      },
      "execution_count": 54,
      "outputs": []
    },
    {
      "cell_type": "code",
      "source": [
        "anuncio\\\n",
        "    .select('zona')\\\n",
        "    .groupBy('zona')\\\n",
        "    .count()\\\n",
        "    .show()"
      ],
      "metadata": {
        "colab": {
          "base_uri": "https://localhost:8080/"
        },
        "id": "PXp9_t2rYXF7",
        "outputId": "7d478879-781d-4a17-df75-9c9349399d88"
      },
      "execution_count": 55,
      "outputs": [
        {
          "output_type": "stream",
          "name": "stdout",
          "text": [
            "+------------+-----+\n",
            "|        zona|count|\n",
            "+------------+-----+\n",
            "|  Zona Norte|11853|\n",
            "|  Zona Oeste|32879|\n",
            "|Zona Central| 1134|\n",
            "|    Zona Sul|20471|\n",
            "+------------+-----+\n",
            "\n"
          ]
        }
      ]
    },
    {
      "cell_type": "markdown",
      "source": [
        "## **Preparação dos dados para machine learning**"
      ],
      "metadata": {
        "id": "qNJcTfnpmPIJ"
      }
    },
    {
      "cell_type": "code",
      "source": [
        "anuncio.select('bairro', 'zona').show()"
      ],
      "metadata": {
        "colab": {
          "base_uri": "https://localhost:8080/"
        },
        "id": "cOSsEjolnuV2",
        "outputId": "8d22e32e-77af-44f7-c9f6-e544873d0ed5"
      },
      "execution_count": 56,
      "outputs": [
        {
          "output_type": "stream",
          "name": "stdout",
          "text": [
            "+--------------------+----------+\n",
            "|              bairro|      zona|\n",
            "+--------------------+----------+\n",
            "|           Paciência|Zona Oeste|\n",
            "|           Paciência|Zona Oeste|\n",
            "|           Guaratiba|Zona Oeste|\n",
            "|              Cosmos|Zona Oeste|\n",
            "|           Guaratiba|Zona Oeste|\n",
            "|              Cosmos|Zona Oeste|\n",
            "|           Paciência|Zona Oeste|\n",
            "|           Guaratiba|Zona Oeste|\n",
            "|           Paciência|Zona Oeste|\n",
            "|           Guaratiba|Zona Oeste|\n",
            "|  Pedra de Guaratiba|Zona Oeste|\n",
            "|              Cosmos|Zona Oeste|\n",
            "|        Campo Grande|Zona Oeste|\n",
            "|          Santa Cruz|Zona Oeste|\n",
            "|           Guaratiba|Zona Oeste|\n",
            "|Recreio dos Bande...|Zona Oeste|\n",
            "|              Cosmos|Zona Oeste|\n",
            "|            Realengo|Zona Oeste|\n",
            "|              Cosmos|Zona Oeste|\n",
            "|     Todos os Santos|Zona Norte|\n",
            "+--------------------+----------+\n",
            "only showing top 20 rows\n",
            "\n"
          ]
        }
      ]
    },
    {
      "cell_type": "code",
      "source": [
        "bairro = anuncio.groupBy('id').pivot('bairro').agg(f.lit(1)).na.fill(0)\n",
        "dados = anuncio.join(bairro, 'id', how='left').drop('bairro')\n",
        "zona = anuncio.groupBy('id').pivot('zona').agg(f.lit(1)).na.fill(0)\n",
        "anuncio = anuncio.join(zona, 'id', how='left').drop('zona')\n",
        "anuncio.show()\n",
        "anuncio.count()"
      ],
      "metadata": {
        "colab": {
          "base_uri": "https://localhost:8080/"
        },
        "id": "jgFPrt3HosiH",
        "outputId": "1ae7aca7-4ec8-440f-d408-d7a0e02a406c"
      },
      "execution_count": 57,
      "outputs": [
        {
          "output_type": "stream",
          "name": "stdout",
          "text": [
            "+--------------------+-----+---------+---------+-------+------+----+--------------------+----------+-------+---------+--------+------------------+-------------+------------------+--------+-------+----------+------------+-----------------+---------------+------------+----------+----------+--------+\n",
            "|                  id|andar|area_util|banheiros|quartos|suites|vaga|              bairro|condominio|   iptu|    valor|Academia|Animais permitidos|Churrasqueira|Condomínio fechado|Elevador|Piscina|Playground|Portaria 24h|Portão eletrônico|Salão de festas|Zona Central|Zona Norte|Zona Oeste|Zona Sul|\n",
            "+--------------------+-----+---------+---------+-------+------+----+--------------------+----------+-------+---------+--------+------------------+-------------+------------------+--------+-------+----------+------------+-----------------+---------------+------------+----------+----------+--------+\n",
            "|006e2b19-f4de-450...|    0|    116.0|        2|      3|     1|   1|     Barra da Tijuca|     100.0|  100.0|3793260.0|       1|                 1|            1|                 1|       1|      1|         1|           1|                1|              1|           0|         0|         1|       0|\n",
            "|011acce0-129f-4c2...|    0|    143.0|        4|      4|     3|   1|         Jacarepaguá|    3948.0| 2000.0|1600000.0|       0|                 0|            1|                 0|       0|      1|         0|           0|                0|              0|           0|         0|         1|       0|\n",
            "|013c582b-eca8-474...|    7|    236.0|        4|      5|     2|   3|Freguesia (Jacare...|      20.0|   20.0|1535000.0|       1|                 1|            1|                 1|       1|      1|         1|           1|                1|              1|           0|         0|         1|       0|\n",
            "|013d04e0-6054-4ac...|    0|    215.0|        3|      3|     1|   2|            Botafogo|    1685.0| 4500.0|2279540.0|       0|                 0|            1|                 0|       1|      0|         0|           0|                0|              0|           0|         0|         0|       1|\n",
            "|02fba6ef-a691-442...|    3|     64.0|        1|      2|     2|   1|         Jacarepaguá|     784.0|   80.0| 380000.0|       1|                 1|            1|                 1|       1|      1|         1|           1|                1|              1|           0|         0|         1|       0|\n",
            "|03a386b6-7ab8-4ef...|    0|     43.0|        1|      2|     0|   1|            Realengo|     285.0|    0.0|  22999.0|       1|                 1|            1|                 1|       0|      0|         1|           1|                1|              1|           0|         0|         1|       0|\n",
            "|05e0cf33-59c4-4dd...|    2|     66.0|        2|      2|     0|   1|              Leblon|    1600.0|  210.0|1200000.0|       0|                 0|            0|                 0|       1|      0|         0|           1|                0|              1|           0|         0|         0|       1|\n",
            "|06e17192-b0ea-404...|    0|    154.0|        5|      4|     0|   3|     Barra da Tijuca|    1780.0| 4400.0|2200000.0|       1|                 1|            0|                 1|       1|      1|         0|           0|                0|              1|           0|         0|         1|       0|\n",
            "|075962eb-be7f-47c...|    0|    100.0|        3|      2|     1|   1|             Ipanema|    5000.0| 7840.0|2000000.0|       0|                 0|            0|                 0|       0|      1|         1|           0|                0|              0|           0|         0|         0|       1|\n",
            "|07ab6e4a-fd5e-4c0...|    0|     70.0|        2|      2|     0|   1|            Maracanã|     550.0|    1.0| 438999.0|       0|                 0|            0|                 0|       1|      0|         0|           0|                0|              0|           0|         1|         0|       0|\n",
            "|07bb07c1-21cc-4da...|    2|     48.0|        1|      1|     0|   0|             Piedade|      10.0|   10.0| 170000.0|       0|                 1|            0|                 1|       0|      0|         0|           0|                0|              0|           0|         1|         0|       0|\n",
            "|07cbfef2-efbf-4e8...|    1|    120.0|        2|      3|     0|   0|          Copacabana|     950.0|  270.0| 950000.0|       0|                 1|            0|                 0|       1|      0|         0|           1|                0|              0|           0|         0|         0|       1|\n",
            "|085e90da-4e5e-4bd...|    0|    102.0|        2|      2|     2|   1|         São Conrado|       1.0|    1.0| 950000.0|       1|                 1|            1|                 1|       1|      1|         1|           1|                1|              1|           0|         0|         0|       1|\n",
            "|092409e4-0c46-454...|    0|     72.0|        1|      2|     0|   1|                Leme|    2000.0|  225.0| 750000.0|       0|                 1|            1|                 1|       1|      0|         0|           0|                1|              0|           0|         0|         0|       1|\n",
            "|0a00abfe-d8ac-487...|    0|     68.0|        1|      2|     0|   0|               Zumbi|     750.0|  230.0| 340000.0|       0|                 0|            0|                 0|       0|      0|         0|           0|                0|              0|           0|         1|         0|       0|\n",
            "|0b3f15d1-a6fe-429...|    2|    183.0|        3|      4|     2|   2|               Lagoa|      20.0|   20.0|5784000.0|       1|                 0|            0|                 1|       1|      0|         1|           0|                0|              0|           0|         0|         0|       1|\n",
            "|0e3cea1c-fddc-4c5...|    0|    381.0|        6|      4|     4|   3|     Barra da Tijuca|    6000.0|28000.0|   1.08E7|       0|                 0|            0|                 0|       0|      0|         0|           0|                0|              0|           0|         0|         1|       0|\n",
            "|0e7f7703-c27b-4ac...|    4|     51.0|        1|      2|     0|   1|         Jacarepaguá|     435.0|   85.0| 239000.0|       1|                 1|            1|                 1|       1|      1|         1|           1|                1|              1|           0|         0|         1|       0|\n",
            "|0f8b79dd-85ac-48b...|    0|    168.0|        5|      4|     1|   2|     Barra da Tijuca|    2700.0|  900.0|3250000.0|       0|                 0|            0|                 1|       0|      0|         0|           0|                0|              0|           0|         0|         1|       0|\n",
            "|0f92a7ef-415f-4b5...|    0|    140.0|        3|      3|     1|   1|          Copacabana|    1400.0| 3800.0|1650000.0|       0|                 0|            0|                 1|       1|      0|         0|           1|                1|              0|           0|         0|         0|       1|\n",
            "+--------------------+-----+---------+---------+-------+------+----+--------------------+----------+-------+---------+--------+------------------+-------------+------------------+--------+-------+----------+------------+-----------------+---------------+------------+----------+----------+--------+\n",
            "only showing top 20 rows\n",
            "\n"
          ]
        },
        {
          "output_type": "execute_result",
          "data": {
            "text/plain": [
              "66337"
            ]
          },
          "metadata": {},
          "execution_count": 57
        }
      ]
    },
    {
      "cell_type": "code",
      "source": [
        "# vetorização dos dados\n",
        "\n",
        "from pyspark.ml.feature import VectorAssembler"
      ],
      "metadata": {
        "id": "90qr9Nl2pdIf"
      },
      "execution_count": 58,
      "outputs": []
    },
    {
      "cell_type": "code",
      "source": [
        "anuncio = anuncio.withColumnRenamed('valor', 'label')"
      ],
      "metadata": {
        "id": "9e_wRdxep5MX"
      },
      "execution_count": 59,
      "outputs": []
    },
    {
      "cell_type": "code",
      "source": [
        "x = ['andar','area_util','banheiros','quartos','suites','vaga','condominio','iptu', 'Zona Oeste', 'Zona Sul', 'Zona Central', 'Zona Norte', 'Condomínio fechado', 'Playground', 'Portão eletrônico', 'Piscina', 'Animais permitidos', 'Portaria 24h', 'Elevador', 'Academia', 'Salão de festas', 'Churrasqueira']\n",
        "x"
      ],
      "metadata": {
        "colab": {
          "base_uri": "https://localhost:8080/"
        },
        "id": "iLVFfCeHqX-_",
        "outputId": "1bf88c1d-b7d1-4579-af6c-903e44623226"
      },
      "execution_count": 60,
      "outputs": [
        {
          "output_type": "execute_result",
          "data": {
            "text/plain": [
              "['andar',\n",
              " 'area_util',\n",
              " 'banheiros',\n",
              " 'quartos',\n",
              " 'suites',\n",
              " 'vaga',\n",
              " 'condominio',\n",
              " 'iptu',\n",
              " 'Zona Oeste',\n",
              " 'Zona Sul',\n",
              " 'Zona Central',\n",
              " 'Zona Norte',\n",
              " 'Condomínio fechado',\n",
              " 'Playground',\n",
              " 'Portão eletrônico',\n",
              " 'Piscina',\n",
              " 'Animais permitidos',\n",
              " 'Portaria 24h',\n",
              " 'Elevador',\n",
              " 'Academia',\n",
              " 'Salão de festas',\n",
              " 'Churrasqueira']"
            ]
          },
          "metadata": {},
          "execution_count": 60
        }
      ]
    },
    {
      "cell_type": "code",
      "source": [
        "assembler = VectorAssembler(inputCols = x, outputCol = 'features')"
      ],
      "metadata": {
        "id": "SJIummK6tBs7"
      },
      "execution_count": 61,
      "outputs": []
    },
    {
      "cell_type": "code",
      "source": [
        "anuncio.show(10)"
      ],
      "metadata": {
        "colab": {
          "base_uri": "https://localhost:8080/"
        },
        "id": "-mmjbCWPtn38",
        "outputId": "f12982ff-78ff-4d54-f6c5-1502592d1742"
      },
      "execution_count": 62,
      "outputs": [
        {
          "output_type": "stream",
          "name": "stdout",
          "text": [
            "+--------------------+-----+---------+---------+-------+------+----+--------------------+----------+------+---------+--------+------------------+-------------+------------------+--------+-------+----------+------------+-----------------+---------------+------------+----------+----------+--------+\n",
            "|                  id|andar|area_util|banheiros|quartos|suites|vaga|              bairro|condominio|  iptu|    label|Academia|Animais permitidos|Churrasqueira|Condomínio fechado|Elevador|Piscina|Playground|Portaria 24h|Portão eletrônico|Salão de festas|Zona Central|Zona Norte|Zona Oeste|Zona Sul|\n",
            "+--------------------+-----+---------+---------+-------+------+----+--------------------+----------+------+---------+--------+------------------+-------------+------------------+--------+-------+----------+------------+-----------------+---------------+------------+----------+----------+--------+\n",
            "|006e2b19-f4de-450...|    0|    116.0|        2|      3|     1|   1|     Barra da Tijuca|     100.0| 100.0|3793260.0|       1|                 1|            1|                 1|       1|      1|         1|           1|                1|              1|           0|         0|         1|       0|\n",
            "|011acce0-129f-4c2...|    0|    143.0|        4|      4|     3|   1|         Jacarepaguá|    3948.0|2000.0|1600000.0|       0|                 0|            1|                 0|       0|      1|         0|           0|                0|              0|           0|         0|         1|       0|\n",
            "|013c582b-eca8-474...|    7|    236.0|        4|      5|     2|   3|Freguesia (Jacare...|      20.0|  20.0|1535000.0|       1|                 1|            1|                 1|       1|      1|         1|           1|                1|              1|           0|         0|         1|       0|\n",
            "|013d04e0-6054-4ac...|    0|    215.0|        3|      3|     1|   2|            Botafogo|    1685.0|4500.0|2279540.0|       0|                 0|            1|                 0|       1|      0|         0|           0|                0|              0|           0|         0|         0|       1|\n",
            "|02fba6ef-a691-442...|    3|     64.0|        1|      2|     2|   1|         Jacarepaguá|     784.0|  80.0| 380000.0|       1|                 1|            1|                 1|       1|      1|         1|           1|                1|              1|           0|         0|         1|       0|\n",
            "|03a386b6-7ab8-4ef...|    0|     43.0|        1|      2|     0|   1|            Realengo|     285.0|   0.0|  22999.0|       1|                 1|            1|                 1|       0|      0|         1|           1|                1|              1|           0|         0|         1|       0|\n",
            "|05e0cf33-59c4-4dd...|    2|     66.0|        2|      2|     0|   1|              Leblon|    1600.0| 210.0|1200000.0|       0|                 0|            0|                 0|       1|      0|         0|           1|                0|              1|           0|         0|         0|       1|\n",
            "|06e17192-b0ea-404...|    0|    154.0|        5|      4|     0|   3|     Barra da Tijuca|    1780.0|4400.0|2200000.0|       1|                 1|            0|                 1|       1|      1|         0|           0|                0|              1|           0|         0|         1|       0|\n",
            "|075962eb-be7f-47c...|    0|    100.0|        3|      2|     1|   1|             Ipanema|    5000.0|7840.0|2000000.0|       0|                 0|            0|                 0|       0|      1|         1|           0|                0|              0|           0|         0|         0|       1|\n",
            "|07ab6e4a-fd5e-4c0...|    0|     70.0|        2|      2|     0|   1|            Maracanã|     550.0|   1.0| 438999.0|       0|                 0|            0|                 0|       1|      0|         0|           0|                0|              0|           0|         1|         0|       0|\n",
            "+--------------------+-----+---------+---------+-------+------+----+--------------------+----------+------+---------+--------+------------------+-------------+------------------+--------+-------+----------+------------+-----------------+---------------+------------+----------+----------+--------+\n",
            "only showing top 10 rows\n",
            "\n"
          ]
        }
      ]
    },
    {
      "cell_type": "code",
      "source": [
        "dados_prep = assembler.transform(anuncio).select('features', 'label')"
      ],
      "metadata": {
        "id": "ScIKjEGmttyi"
      },
      "execution_count": 63,
      "outputs": []
    },
    {
      "cell_type": "code",
      "source": [
        "dados_prep.show(10, truncate=False)"
      ],
      "metadata": {
        "colab": {
          "base_uri": "https://localhost:8080/"
        },
        "id": "uWOSp97nt6lL",
        "outputId": "49f3b061-d303-4918-e452-2d8eb9a0c8ee"
      },
      "execution_count": 64,
      "outputs": [
        {
          "output_type": "stream",
          "name": "stdout",
          "text": [
            "+----------------------------------------------------------------------------------------------------+---------+\n",
            "|features                                                                                            |label    |\n",
            "+----------------------------------------------------------------------------------------------------+---------+\n",
            "|[0.0,116.0,2.0,3.0,1.0,1.0,100.0,100.0,1.0,0.0,0.0,0.0,1.0,1.0,1.0,1.0,1.0,1.0,1.0,1.0,1.0,1.0]     |3793260.0|\n",
            "|(22,[1,2,3,4,5,6,7,8,15,21],[143.0,4.0,4.0,3.0,1.0,3948.0,2000.0,1.0,1.0,1.0])                      |1600000.0|\n",
            "|[7.0,236.0,4.0,5.0,2.0,3.0,20.0,20.0,1.0,0.0,0.0,0.0,1.0,1.0,1.0,1.0,1.0,1.0,1.0,1.0,1.0,1.0]       |1535000.0|\n",
            "|(22,[1,2,3,4,5,6,7,9,18,21],[215.0,3.0,3.0,1.0,2.0,1685.0,4500.0,1.0,1.0,1.0])                      |2279540.0|\n",
            "|[3.0,64.0,1.0,2.0,2.0,1.0,784.0,80.0,1.0,0.0,0.0,0.0,1.0,1.0,1.0,1.0,1.0,1.0,1.0,1.0,1.0,1.0]       |380000.0 |\n",
            "|[0.0,43.0,1.0,2.0,0.0,1.0,285.0,0.0,1.0,0.0,0.0,0.0,1.0,1.0,1.0,0.0,1.0,1.0,0.0,1.0,1.0,1.0]        |22999.0  |\n",
            "|(22,[0,1,2,3,5,6,7,9,17,18,20],[2.0,66.0,2.0,2.0,1.0,1600.0,210.0,1.0,1.0,1.0,1.0])                 |1200000.0|\n",
            "|(22,[1,2,3,5,6,7,8,12,15,16,18,19,20],[154.0,5.0,4.0,3.0,1780.0,4400.0,1.0,1.0,1.0,1.0,1.0,1.0,1.0])|2200000.0|\n",
            "|(22,[1,2,3,4,5,6,7,9,13,15],[100.0,3.0,2.0,1.0,1.0,5000.0,7840.0,1.0,1.0,1.0])                      |2000000.0|\n",
            "|(22,[1,2,3,5,6,7,11,18],[70.0,2.0,2.0,1.0,550.0,1.0,1.0,1.0])                                       |438999.0 |\n",
            "+----------------------------------------------------------------------------------------------------+---------+\n",
            "only showing top 10 rows\n",
            "\n"
          ]
        }
      ]
    },
    {
      "cell_type": "markdown",
      "source": [
        "## **Exploração de dados**"
      ],
      "metadata": {
        "id": "epE8Upnyyw1v"
      }
    },
    {
      "cell_type": "code",
      "source": [
        "from pyspark.ml.stat import Correlation\n",
        "import pandas as pd"
      ],
      "metadata": {
        "id": "if8H_3nSx_Yx"
      },
      "execution_count": 65,
      "outputs": []
    },
    {
      "cell_type": "code",
      "source": [
        "correlacao = Correlation.corr(dados_prep, 'features').collect()"
      ],
      "metadata": {
        "id": "rxhpHuHBywHj"
      },
      "execution_count": 66,
      "outputs": []
    },
    {
      "cell_type": "code",
      "source": [
        "correlacao = Correlation.corr(dados_prep, 'features').collect()[0][0] # pegando apenas correlacao de pearson"
      ],
      "metadata": {
        "id": "GAbNLt3dzaj8"
      },
      "execution_count": 67,
      "outputs": []
    },
    {
      "cell_type": "code",
      "source": [
        "correlacao.toArray()"
      ],
      "metadata": {
        "colab": {
          "base_uri": "https://localhost:8080/"
        },
        "id": "7_HImkrkz3OU",
        "outputId": "ad61f32e-4623-4860-9d4f-c32742086563"
      },
      "execution_count": 68,
      "outputs": [
        {
          "output_type": "execute_result",
          "data": {
            "text/plain": [
              "array([[ 1.00000000e+00,  2.07661616e-02,  1.76605343e-02,\n",
              "         1.01668750e-02,  2.43637531e-02,  1.83331245e-02,\n",
              "         6.60742508e-03,  3.73997376e-04,  1.14398765e-02,\n",
              "        -1.45700024e-02,  3.55193588e-02, -9.38129665e-03,\n",
              "         9.15677742e-02,  5.36159256e-02,  8.31741254e-02,\n",
              "         4.34868891e-02,  1.01454847e-01,  8.94037413e-02,\n",
              "         7.18906875e-02,  6.39965230e-02,  5.85013625e-02,\n",
              "         4.57111258e-02],\n",
              "       [ 2.07661616e-02,  1.00000000e+00,  6.70852817e-01,\n",
              "         6.73678847e-01,  6.19669165e-01,  4.71296957e-01,\n",
              "         4.57293719e-02,  2.13519761e-02,  1.21336228e-01,\n",
              "         3.88809596e-02, -1.03611348e-01, -1.70184797e-01,\n",
              "        -1.26333008e-02, -1.58752252e-02, -2.09069123e-03,\n",
              "         1.81778860e-02, -1.30172671e-02, -2.44398346e-02,\n",
              "         1.71126209e-02,  1.81183441e-03, -2.70439415e-02,\n",
              "        -2.35136135e-02],\n",
              "       [ 1.76605343e-02,  6.70852817e-01,  1.00000000e+00,\n",
              "         6.48897492e-01,  7.39655593e-01,  4.44550332e-01,\n",
              "         2.72223658e-02,  1.39368619e-02,  1.90921513e-01,\n",
              "        -3.55952018e-02, -1.25366006e-01, -1.63841454e-01,\n",
              "        -5.20108967e-03,  6.63381372e-02, -1.65036245e-02,\n",
              "         9.91572978e-02, -2.45979242e-02, -3.49803197e-02,\n",
              "         5.71708063e-02,  7.89913905e-02,  5.57658101e-02,\n",
              "         4.32210004e-02],\n",
              "       [ 1.01668750e-02,  6.73678847e-01,  6.48897492e-01,\n",
              "         1.00000000e+00,  5.79666980e-01,  4.29852287e-01,\n",
              "         2.16657494e-02,  1.72607227e-02,  1.63673041e-01,\n",
              "        -3.18359474e-02, -1.62030379e-01, -1.20404789e-01,\n",
              "        -3.99030459e-04,  7.75708503e-02, -1.59114089e-02,\n",
              "         8.25565527e-02, -2.12732020e-02, -2.26977261e-02,\n",
              "         2.57720727e-02,  6.10639270e-02,  6.05492734e-02,\n",
              "         6.18401273e-02],\n",
              "       [ 2.43637531e-02,  6.19669165e-01,  7.39655593e-01,\n",
              "         5.79666980e-01,  1.00000000e+00,  4.57622187e-01,\n",
              "         2.91016001e-02,  1.18343137e-02,  2.88955972e-01,\n",
              "        -1.05197451e-01, -1.03827044e-01, -2.15154669e-01,\n",
              "         1.39419529e-01,  1.89369955e-01,  8.99185779e-02,\n",
              "         2.64113455e-01,  6.56916579e-02,  8.02682076e-02,\n",
              "         1.20562792e-01,  2.42714894e-01,  1.73961030e-01,\n",
              "         1.86064130e-01],\n",
              "       [ 1.83331245e-02,  4.71296957e-01,  4.44550332e-01,\n",
              "         4.29852287e-01,  4.57622187e-01,  1.00000000e+00,\n",
              "         2.58890231e-02,  1.19732413e-02,  2.57813679e-01,\n",
              "        -1.64280228e-01, -9.78166665e-02, -1.05302469e-01,\n",
              "         7.95143569e-02,  1.33348963e-01,  4.63647702e-02,\n",
              "         1.70263443e-01,  3.85346190e-02,  3.49203873e-02,\n",
              "         6.16242847e-02,  1.39703267e-01,  1.33119654e-01,\n",
              "         1.31686720e-01],\n",
              "       [ 6.60742508e-03,  4.57293719e-02,  2.72223658e-02,\n",
              "         2.16657494e-02,  2.91016001e-02,  2.58890231e-02,\n",
              "         1.00000000e+00,  2.02199363e-01,  2.31915810e-03,\n",
              "         7.10646983e-03, -4.41117897e-03, -1.01030454e-02,\n",
              "         1.22769833e-02,  9.53682282e-03,  6.11677243e-03,\n",
              "         9.99705506e-03,  1.25348259e-02,  1.19379492e-02,\n",
              "         1.33729419e-02,  1.42778841e-02,  9.09734068e-03,\n",
              "         5.69237169e-03],\n",
              "       [ 3.73997376e-04,  2.13519761e-02,  1.39368619e-02,\n",
              "         1.72607227e-02,  1.18343137e-02,  1.19732413e-02,\n",
              "         2.02199363e-01,  1.00000000e+00, -5.69088764e-03,\n",
              "         1.44117428e-02, -3.63410741e-03, -8.72018297e-03,\n",
              "        -5.28984007e-03,  7.51288340e-04, -4.54305884e-03,\n",
              "         2.46771766e-03, -1.93499030e-03, -1.25237306e-03,\n",
              "         6.49360578e-03,  3.31501322e-03,  1.08257643e-03,\n",
              "        -3.10503432e-03],\n",
              "       [ 1.14398765e-02,  1.21336228e-01,  1.90921513e-01,\n",
              "         1.63673041e-01,  2.88955972e-01,  2.57813679e-01,\n",
              "         2.31915810e-03, -5.69088764e-03,  1.00000000e+00,\n",
              "        -6.62267446e-01, -1.30732044e-01, -4.62369269e-01,\n",
              "         2.20705287e-01,  2.87261262e-01,  7.87086973e-02,\n",
              "         4.30982150e-01,  8.27108966e-02,  7.87019139e-02,\n",
              "         5.32724639e-02,  3.60159569e-01,  3.06182707e-01,\n",
              "         4.16963637e-01],\n",
              "       [-1.45700024e-02,  3.88809596e-02, -3.55952018e-02,\n",
              "        -3.18359474e-02, -1.05197451e-01, -1.64280228e-01,\n",
              "         7.10646983e-03,  1.44117428e-02, -6.62267446e-01,\n",
              "         1.00000000e+00, -8.81042450e-02, -3.11604518e-01,\n",
              "        -1.77901568e-01, -2.79973467e-01, -7.07547581e-02,\n",
              "        -3.59510759e-01, -8.36153119e-02, -3.89295800e-02,\n",
              "        -4.52917909e-02, -3.01972130e-01, -3.18827069e-01,\n",
              "        -4.09425779e-01],\n",
              "       [ 3.55193588e-02, -1.03611348e-01, -1.25366006e-01,\n",
              "        -1.62030379e-01, -1.03827044e-01, -9.78166665e-02,\n",
              "        -4.41117897e-03, -3.63410741e-03, -1.30732044e-01,\n",
              "        -8.81042450e-02,  1.00000000e+00, -6.15109435e-02,\n",
              "         4.86576674e-02, -2.24414067e-03,  4.42794542e-02,\n",
              "         1.41939096e-02,  5.62506624e-02,  5.04968594e-02,\n",
              "         3.82482972e-02,  4.41697194e-02,  9.27027729e-03,\n",
              "         2.46774456e-03],\n",
              "       [-9.38129665e-03, -1.70184797e-01, -1.63841454e-01,\n",
              "        -1.20404789e-01, -2.15154669e-01, -1.05302469e-01,\n",
              "        -1.01030454e-02, -8.72018297e-03, -4.62369269e-01,\n",
              "        -3.11604518e-01, -6.15109435e-02,  1.00000000e+00,\n",
              "        -9.00086548e-02, -3.65748336e-02, -3.23952140e-02,\n",
              "        -1.33810300e-01, -2.61624473e-02, -7.28641521e-02,\n",
              "        -2.78589479e-02, -1.20897719e-01, -1.83175957e-02,\n",
              "        -5.13599554e-02],\n",
              "       [ 9.15677742e-02, -1.26333008e-02, -5.20108967e-03,\n",
              "        -3.99030459e-04,  1.39419529e-01,  7.95143569e-02,\n",
              "         1.22769833e-02, -5.28984007e-03,  2.20705287e-01,\n",
              "        -1.77901568e-01,  4.86576674e-02, -9.00086548e-02,\n",
              "         1.00000000e+00,  4.80637304e-01,  6.82807561e-01,\n",
              "         4.93409370e-01,  6.27123482e-01,  6.96261917e-01,\n",
              "         5.23810767e-01,  5.91584961e-01,  5.14085792e-01,\n",
              "         4.75459295e-01],\n",
              "       [ 5.36159256e-02, -1.58752252e-02,  6.63381372e-02,\n",
              "         7.75708503e-02,  1.89369955e-01,  1.33348963e-01,\n",
              "         9.53682282e-03,  7.51288340e-04,  2.87261262e-01,\n",
              "        -2.79973467e-01, -2.24414067e-03, -3.65748336e-02,\n",
              "         4.80637304e-01,  1.00000000e+00,  3.55048406e-01,\n",
              "         6.45057922e-01,  3.43650853e-01,  4.26533658e-01,\n",
              "         4.18478417e-01,  6.71447276e-01,  7.38156235e-01,\n",
              "         6.27845776e-01],\n",
              "       [ 8.31741254e-02, -2.09069123e-03, -1.65036245e-02,\n",
              "        -1.59114089e-02,  8.99185779e-02,  4.63647702e-02,\n",
              "         6.11677243e-03, -4.54305884e-03,  7.87086973e-02,\n",
              "        -7.07547581e-02,  4.42794542e-02, -3.23952140e-02,\n",
              "         6.82807561e-01,  3.55048406e-01,  1.00000000e+00,\n",
              "         3.18140094e-01,  6.87605128e-01,  7.82876818e-01,\n",
              "         4.81793983e-01,  4.17599027e-01,  3.84917577e-01,\n",
              "         3.16144920e-01],\n",
              "       [ 4.34868891e-02,  1.81778860e-02,  9.91572978e-02,\n",
              "         8.25565527e-02,  2.64113455e-01,  1.70263443e-01,\n",
              "         9.99705506e-03,  2.46771766e-03,  4.30982150e-01,\n",
              "        -3.59510759e-01,  1.41939096e-02, -1.33810300e-01,\n",
              "         4.93409370e-01,  6.45057922e-01,  3.18140094e-01,\n",
              "         1.00000000e+00,  3.03417003e-01,  3.87298199e-01,\n",
              "         4.11415344e-01,  7.48442770e-01,  6.54138437e-01,\n",
              "         7.52578079e-01],\n",
              "       [ 1.01454847e-01, -1.30172671e-02, -2.45979242e-02,\n",
              "        -2.12732020e-02,  6.56916579e-02,  3.85346190e-02,\n",
              "         1.25348259e-02, -1.93499030e-03,  8.27108966e-02,\n",
              "        -8.36153119e-02,  5.62506624e-02, -2.61624473e-02,\n",
              "         6.27123482e-01,  3.43650853e-01,  6.87605128e-01,\n",
              "         3.03417003e-01,  1.00000000e+00,  6.71324919e-01,\n",
              "         4.65629039e-01,  4.10209539e-01,  3.88570121e-01,\n",
              "         3.10556342e-01],\n",
              "       [ 8.94037413e-02, -2.44398346e-02, -3.49803197e-02,\n",
              "        -2.26977261e-02,  8.02682076e-02,  3.49203873e-02,\n",
              "         1.19379492e-02, -1.25237306e-03,  7.87019139e-02,\n",
              "        -3.89295800e-02,  5.04968594e-02, -7.28641521e-02,\n",
              "         6.96261917e-01,  4.26533658e-01,  7.82876818e-01,\n",
              "         3.87298199e-01,  6.71324919e-01,  1.00000000e+00,\n",
              "         5.18734714e-01,  4.93848091e-01,  4.58366453e-01,\n",
              "         3.72321826e-01],\n",
              "       [ 7.18906875e-02,  1.71126209e-02,  5.71708063e-02,\n",
              "         2.57720727e-02,  1.20562792e-01,  6.16242847e-02,\n",
              "         1.33729419e-02,  6.49360578e-03,  5.32724639e-02,\n",
              "        -4.52917909e-02,  3.82482972e-02, -2.78589479e-02,\n",
              "         5.23810767e-01,  4.18478417e-01,  4.81793983e-01,\n",
              "         4.11415344e-01,  4.65629039e-01,  5.18734714e-01,\n",
              "         1.00000000e+00,  4.55623399e-01,  4.30771115e-01,\n",
              "         3.80831714e-01],\n",
              "       [ 6.39965230e-02,  1.81183441e-03,  7.89913905e-02,\n",
              "         6.10639270e-02,  2.42714894e-01,  1.39703267e-01,\n",
              "         1.42778841e-02,  3.31501322e-03,  3.60159569e-01,\n",
              "        -3.01972130e-01,  4.41697194e-02, -1.20897719e-01,\n",
              "         5.91584961e-01,  6.71447276e-01,  4.17599027e-01,\n",
              "         7.48442770e-01,  4.10209539e-01,  4.93848091e-01,\n",
              "         4.55623399e-01,  1.00000000e+00,  6.93972343e-01,\n",
              "         6.76919632e-01],\n",
              "       [ 5.85013625e-02, -2.70439415e-02,  5.57658101e-02,\n",
              "         6.05492734e-02,  1.73961030e-01,  1.33119654e-01,\n",
              "         9.09734068e-03,  1.08257643e-03,  3.06182707e-01,\n",
              "        -3.18827069e-01,  9.27027729e-03, -1.83175957e-02,\n",
              "         5.14085792e-01,  7.38156235e-01,  3.84917577e-01,\n",
              "         6.54138437e-01,  3.88570121e-01,  4.58366453e-01,\n",
              "         4.30771115e-01,  6.93972343e-01,  1.00000000e+00,\n",
              "         6.48233022e-01],\n",
              "       [ 4.57111258e-02, -2.35136135e-02,  4.32210004e-02,\n",
              "         6.18401273e-02,  1.86064130e-01,  1.31686720e-01,\n",
              "         5.69237169e-03, -3.10503432e-03,  4.16963637e-01,\n",
              "        -4.09425779e-01,  2.46774456e-03, -5.13599554e-02,\n",
              "         4.75459295e-01,  6.27845776e-01,  3.16144920e-01,\n",
              "         7.52578079e-01,  3.10556342e-01,  3.72321826e-01,\n",
              "         3.80831714e-01,  6.76919632e-01,  6.48233022e-01,\n",
              "         1.00000000e+00]])"
            ]
          },
          "metadata": {},
          "execution_count": 68
        }
      ]
    },
    {
      "cell_type": "code",
      "source": [
        "df_correlacao = pd.DataFrame(correlacao.toArray(), columns=x, index=x)"
      ],
      "metadata": {
        "id": "StZchtQc0CKC"
      },
      "execution_count": 69,
      "outputs": []
    },
    {
      "cell_type": "code",
      "source": [
        "df_correlacao"
      ],
      "metadata": {
        "colab": {
          "base_uri": "https://localhost:8080/",
          "height": 919
        },
        "id": "F2ZPaDkR0PP_",
        "outputId": "e58f03ab-adf4-4125-a90b-3ee05f129bd9"
      },
      "execution_count": 70,
      "outputs": [
        {
          "output_type": "execute_result",
          "data": {
            "text/plain": [
              "                       andar  area_util  banheiros   quartos    suites  \\\n",
              "andar               1.000000   0.020766   0.017661  0.010167  0.024364   \n",
              "area_util           0.020766   1.000000   0.670853  0.673679  0.619669   \n",
              "banheiros           0.017661   0.670853   1.000000  0.648897  0.739656   \n",
              "quartos             0.010167   0.673679   0.648897  1.000000  0.579667   \n",
              "suites              0.024364   0.619669   0.739656  0.579667  1.000000   \n",
              "vaga                0.018333   0.471297   0.444550  0.429852  0.457622   \n",
              "condominio          0.006607   0.045729   0.027222  0.021666  0.029102   \n",
              "iptu                0.000374   0.021352   0.013937  0.017261  0.011834   \n",
              "Zona Oeste          0.011440   0.121336   0.190922  0.163673  0.288956   \n",
              "Zona Sul           -0.014570   0.038881  -0.035595 -0.031836 -0.105197   \n",
              "Zona Central        0.035519  -0.103611  -0.125366 -0.162030 -0.103827   \n",
              "Zona Norte         -0.009381  -0.170185  -0.163841 -0.120405 -0.215155   \n",
              "Condomínio fechado  0.091568  -0.012633  -0.005201 -0.000399  0.139420   \n",
              "Playground          0.053616  -0.015875   0.066338  0.077571  0.189370   \n",
              "Portão eletrônico   0.083174  -0.002091  -0.016504 -0.015911  0.089919   \n",
              "Piscina             0.043487   0.018178   0.099157  0.082557  0.264113   \n",
              "Animais permitidos  0.101455  -0.013017  -0.024598 -0.021273  0.065692   \n",
              "Portaria 24h        0.089404  -0.024440  -0.034980 -0.022698  0.080268   \n",
              "Elevador            0.071891   0.017113   0.057171  0.025772  0.120563   \n",
              "Academia            0.063997   0.001812   0.078991  0.061064  0.242715   \n",
              "Salão de festas     0.058501  -0.027044   0.055766  0.060549  0.173961   \n",
              "Churrasqueira       0.045711  -0.023514   0.043221  0.061840  0.186064   \n",
              "\n",
              "                        vaga  condominio      iptu  Zona Oeste  Zona Sul  ...  \\\n",
              "andar               0.018333    0.006607  0.000374    0.011440 -0.014570  ...   \n",
              "area_util           0.471297    0.045729  0.021352    0.121336  0.038881  ...   \n",
              "banheiros           0.444550    0.027222  0.013937    0.190922 -0.035595  ...   \n",
              "quartos             0.429852    0.021666  0.017261    0.163673 -0.031836  ...   \n",
              "suites              0.457622    0.029102  0.011834    0.288956 -0.105197  ...   \n",
              "vaga                1.000000    0.025889  0.011973    0.257814 -0.164280  ...   \n",
              "condominio          0.025889    1.000000  0.202199    0.002319  0.007106  ...   \n",
              "iptu                0.011973    0.202199  1.000000   -0.005691  0.014412  ...   \n",
              "Zona Oeste          0.257814    0.002319 -0.005691    1.000000 -0.662267  ...   \n",
              "Zona Sul           -0.164280    0.007106  0.014412   -0.662267  1.000000  ...   \n",
              "Zona Central       -0.097817   -0.004411 -0.003634   -0.130732 -0.088104  ...   \n",
              "Zona Norte         -0.105302   -0.010103 -0.008720   -0.462369 -0.311605  ...   \n",
              "Condomínio fechado  0.079514    0.012277 -0.005290    0.220705 -0.177902  ...   \n",
              "Playground          0.133349    0.009537  0.000751    0.287261 -0.279973  ...   \n",
              "Portão eletrônico   0.046365    0.006117 -0.004543    0.078709 -0.070755  ...   \n",
              "Piscina             0.170263    0.009997  0.002468    0.430982 -0.359511  ...   \n",
              "Animais permitidos  0.038535    0.012535 -0.001935    0.082711 -0.083615  ...   \n",
              "Portaria 24h        0.034920    0.011938 -0.001252    0.078702 -0.038930  ...   \n",
              "Elevador            0.061624    0.013373  0.006494    0.053272 -0.045292  ...   \n",
              "Academia            0.139703    0.014278  0.003315    0.360160 -0.301972  ...   \n",
              "Salão de festas     0.133120    0.009097  0.001083    0.306183 -0.318827  ...   \n",
              "Churrasqueira       0.131687    0.005692 -0.003105    0.416964 -0.409426  ...   \n",
              "\n",
              "                    Condomínio fechado  Playground  Portão eletrônico  \\\n",
              "andar                         0.091568    0.053616           0.083174   \n",
              "area_util                    -0.012633   -0.015875          -0.002091   \n",
              "banheiros                    -0.005201    0.066338          -0.016504   \n",
              "quartos                      -0.000399    0.077571          -0.015911   \n",
              "suites                        0.139420    0.189370           0.089919   \n",
              "vaga                          0.079514    0.133349           0.046365   \n",
              "condominio                    0.012277    0.009537           0.006117   \n",
              "iptu                         -0.005290    0.000751          -0.004543   \n",
              "Zona Oeste                    0.220705    0.287261           0.078709   \n",
              "Zona Sul                     -0.177902   -0.279973          -0.070755   \n",
              "Zona Central                  0.048658   -0.002244           0.044279   \n",
              "Zona Norte                   -0.090009   -0.036575          -0.032395   \n",
              "Condomínio fechado            1.000000    0.480637           0.682808   \n",
              "Playground                    0.480637    1.000000           0.355048   \n",
              "Portão eletrônico             0.682808    0.355048           1.000000   \n",
              "Piscina                       0.493409    0.645058           0.318140   \n",
              "Animais permitidos            0.627123    0.343651           0.687605   \n",
              "Portaria 24h                  0.696262    0.426534           0.782877   \n",
              "Elevador                      0.523811    0.418478           0.481794   \n",
              "Academia                      0.591585    0.671447           0.417599   \n",
              "Salão de festas               0.514086    0.738156           0.384918   \n",
              "Churrasqueira                 0.475459    0.627846           0.316145   \n",
              "\n",
              "                     Piscina  Animais permitidos  Portaria 24h  Elevador  \\\n",
              "andar               0.043487            0.101455      0.089404  0.071891   \n",
              "area_util           0.018178           -0.013017     -0.024440  0.017113   \n",
              "banheiros           0.099157           -0.024598     -0.034980  0.057171   \n",
              "quartos             0.082557           -0.021273     -0.022698  0.025772   \n",
              "suites              0.264113            0.065692      0.080268  0.120563   \n",
              "vaga                0.170263            0.038535      0.034920  0.061624   \n",
              "condominio          0.009997            0.012535      0.011938  0.013373   \n",
              "iptu                0.002468           -0.001935     -0.001252  0.006494   \n",
              "Zona Oeste          0.430982            0.082711      0.078702  0.053272   \n",
              "Zona Sul           -0.359511           -0.083615     -0.038930 -0.045292   \n",
              "Zona Central        0.014194            0.056251      0.050497  0.038248   \n",
              "Zona Norte         -0.133810           -0.026162     -0.072864 -0.027859   \n",
              "Condomínio fechado  0.493409            0.627123      0.696262  0.523811   \n",
              "Playground          0.645058            0.343651      0.426534  0.418478   \n",
              "Portão eletrônico   0.318140            0.687605      0.782877  0.481794   \n",
              "Piscina             1.000000            0.303417      0.387298  0.411415   \n",
              "Animais permitidos  0.303417            1.000000      0.671325  0.465629   \n",
              "Portaria 24h        0.387298            0.671325      1.000000  0.518735   \n",
              "Elevador            0.411415            0.465629      0.518735  1.000000   \n",
              "Academia            0.748443            0.410210      0.493848  0.455623   \n",
              "Salão de festas     0.654138            0.388570      0.458366  0.430771   \n",
              "Churrasqueira       0.752578            0.310556      0.372322  0.380832   \n",
              "\n",
              "                    Academia  Salão de festas  Churrasqueira  \n",
              "andar               0.063997         0.058501       0.045711  \n",
              "area_util           0.001812        -0.027044      -0.023514  \n",
              "banheiros           0.078991         0.055766       0.043221  \n",
              "quartos             0.061064         0.060549       0.061840  \n",
              "suites              0.242715         0.173961       0.186064  \n",
              "vaga                0.139703         0.133120       0.131687  \n",
              "condominio          0.014278         0.009097       0.005692  \n",
              "iptu                0.003315         0.001083      -0.003105  \n",
              "Zona Oeste          0.360160         0.306183       0.416964  \n",
              "Zona Sul           -0.301972        -0.318827      -0.409426  \n",
              "Zona Central        0.044170         0.009270       0.002468  \n",
              "Zona Norte         -0.120898        -0.018318      -0.051360  \n",
              "Condomínio fechado  0.591585         0.514086       0.475459  \n",
              "Playground          0.671447         0.738156       0.627846  \n",
              "Portão eletrônico   0.417599         0.384918       0.316145  \n",
              "Piscina             0.748443         0.654138       0.752578  \n",
              "Animais permitidos  0.410210         0.388570       0.310556  \n",
              "Portaria 24h        0.493848         0.458366       0.372322  \n",
              "Elevador            0.455623         0.430771       0.380832  \n",
              "Academia            1.000000         0.693972       0.676920  \n",
              "Salão de festas     0.693972         1.000000       0.648233  \n",
              "Churrasqueira       0.676920         0.648233       1.000000  \n",
              "\n",
              "[22 rows x 22 columns]"
            ],
            "text/html": [
              "\n",
              "  <div id=\"df-f60b3f59-bd08-4d11-a4bb-1df958cef8f7\">\n",
              "    <div class=\"colab-df-container\">\n",
              "      <div>\n",
              "<style scoped>\n",
              "    .dataframe tbody tr th:only-of-type {\n",
              "        vertical-align: middle;\n",
              "    }\n",
              "\n",
              "    .dataframe tbody tr th {\n",
              "        vertical-align: top;\n",
              "    }\n",
              "\n",
              "    .dataframe thead th {\n",
              "        text-align: right;\n",
              "    }\n",
              "</style>\n",
              "<table border=\"1\" class=\"dataframe\">\n",
              "  <thead>\n",
              "    <tr style=\"text-align: right;\">\n",
              "      <th></th>\n",
              "      <th>andar</th>\n",
              "      <th>area_util</th>\n",
              "      <th>banheiros</th>\n",
              "      <th>quartos</th>\n",
              "      <th>suites</th>\n",
              "      <th>vaga</th>\n",
              "      <th>condominio</th>\n",
              "      <th>iptu</th>\n",
              "      <th>Zona Oeste</th>\n",
              "      <th>Zona Sul</th>\n",
              "      <th>...</th>\n",
              "      <th>Condomínio fechado</th>\n",
              "      <th>Playground</th>\n",
              "      <th>Portão eletrônico</th>\n",
              "      <th>Piscina</th>\n",
              "      <th>Animais permitidos</th>\n",
              "      <th>Portaria 24h</th>\n",
              "      <th>Elevador</th>\n",
              "      <th>Academia</th>\n",
              "      <th>Salão de festas</th>\n",
              "      <th>Churrasqueira</th>\n",
              "    </tr>\n",
              "  </thead>\n",
              "  <tbody>\n",
              "    <tr>\n",
              "      <th>andar</th>\n",
              "      <td>1.000000</td>\n",
              "      <td>0.020766</td>\n",
              "      <td>0.017661</td>\n",
              "      <td>0.010167</td>\n",
              "      <td>0.024364</td>\n",
              "      <td>0.018333</td>\n",
              "      <td>0.006607</td>\n",
              "      <td>0.000374</td>\n",
              "      <td>0.011440</td>\n",
              "      <td>-0.014570</td>\n",
              "      <td>...</td>\n",
              "      <td>0.091568</td>\n",
              "      <td>0.053616</td>\n",
              "      <td>0.083174</td>\n",
              "      <td>0.043487</td>\n",
              "      <td>0.101455</td>\n",
              "      <td>0.089404</td>\n",
              "      <td>0.071891</td>\n",
              "      <td>0.063997</td>\n",
              "      <td>0.058501</td>\n",
              "      <td>0.045711</td>\n",
              "    </tr>\n",
              "    <tr>\n",
              "      <th>area_util</th>\n",
              "      <td>0.020766</td>\n",
              "      <td>1.000000</td>\n",
              "      <td>0.670853</td>\n",
              "      <td>0.673679</td>\n",
              "      <td>0.619669</td>\n",
              "      <td>0.471297</td>\n",
              "      <td>0.045729</td>\n",
              "      <td>0.021352</td>\n",
              "      <td>0.121336</td>\n",
              "      <td>0.038881</td>\n",
              "      <td>...</td>\n",
              "      <td>-0.012633</td>\n",
              "      <td>-0.015875</td>\n",
              "      <td>-0.002091</td>\n",
              "      <td>0.018178</td>\n",
              "      <td>-0.013017</td>\n",
              "      <td>-0.024440</td>\n",
              "      <td>0.017113</td>\n",
              "      <td>0.001812</td>\n",
              "      <td>-0.027044</td>\n",
              "      <td>-0.023514</td>\n",
              "    </tr>\n",
              "    <tr>\n",
              "      <th>banheiros</th>\n",
              "      <td>0.017661</td>\n",
              "      <td>0.670853</td>\n",
              "      <td>1.000000</td>\n",
              "      <td>0.648897</td>\n",
              "      <td>0.739656</td>\n",
              "      <td>0.444550</td>\n",
              "      <td>0.027222</td>\n",
              "      <td>0.013937</td>\n",
              "      <td>0.190922</td>\n",
              "      <td>-0.035595</td>\n",
              "      <td>...</td>\n",
              "      <td>-0.005201</td>\n",
              "      <td>0.066338</td>\n",
              "      <td>-0.016504</td>\n",
              "      <td>0.099157</td>\n",
              "      <td>-0.024598</td>\n",
              "      <td>-0.034980</td>\n",
              "      <td>0.057171</td>\n",
              "      <td>0.078991</td>\n",
              "      <td>0.055766</td>\n",
              "      <td>0.043221</td>\n",
              "    </tr>\n",
              "    <tr>\n",
              "      <th>quartos</th>\n",
              "      <td>0.010167</td>\n",
              "      <td>0.673679</td>\n",
              "      <td>0.648897</td>\n",
              "      <td>1.000000</td>\n",
              "      <td>0.579667</td>\n",
              "      <td>0.429852</td>\n",
              "      <td>0.021666</td>\n",
              "      <td>0.017261</td>\n",
              "      <td>0.163673</td>\n",
              "      <td>-0.031836</td>\n",
              "      <td>...</td>\n",
              "      <td>-0.000399</td>\n",
              "      <td>0.077571</td>\n",
              "      <td>-0.015911</td>\n",
              "      <td>0.082557</td>\n",
              "      <td>-0.021273</td>\n",
              "      <td>-0.022698</td>\n",
              "      <td>0.025772</td>\n",
              "      <td>0.061064</td>\n",
              "      <td>0.060549</td>\n",
              "      <td>0.061840</td>\n",
              "    </tr>\n",
              "    <tr>\n",
              "      <th>suites</th>\n",
              "      <td>0.024364</td>\n",
              "      <td>0.619669</td>\n",
              "      <td>0.739656</td>\n",
              "      <td>0.579667</td>\n",
              "      <td>1.000000</td>\n",
              "      <td>0.457622</td>\n",
              "      <td>0.029102</td>\n",
              "      <td>0.011834</td>\n",
              "      <td>0.288956</td>\n",
              "      <td>-0.105197</td>\n",
              "      <td>...</td>\n",
              "      <td>0.139420</td>\n",
              "      <td>0.189370</td>\n",
              "      <td>0.089919</td>\n",
              "      <td>0.264113</td>\n",
              "      <td>0.065692</td>\n",
              "      <td>0.080268</td>\n",
              "      <td>0.120563</td>\n",
              "      <td>0.242715</td>\n",
              "      <td>0.173961</td>\n",
              "      <td>0.186064</td>\n",
              "    </tr>\n",
              "    <tr>\n",
              "      <th>vaga</th>\n",
              "      <td>0.018333</td>\n",
              "      <td>0.471297</td>\n",
              "      <td>0.444550</td>\n",
              "      <td>0.429852</td>\n",
              "      <td>0.457622</td>\n",
              "      <td>1.000000</td>\n",
              "      <td>0.025889</td>\n",
              "      <td>0.011973</td>\n",
              "      <td>0.257814</td>\n",
              "      <td>-0.164280</td>\n",
              "      <td>...</td>\n",
              "      <td>0.079514</td>\n",
              "      <td>0.133349</td>\n",
              "      <td>0.046365</td>\n",
              "      <td>0.170263</td>\n",
              "      <td>0.038535</td>\n",
              "      <td>0.034920</td>\n",
              "      <td>0.061624</td>\n",
              "      <td>0.139703</td>\n",
              "      <td>0.133120</td>\n",
              "      <td>0.131687</td>\n",
              "    </tr>\n",
              "    <tr>\n",
              "      <th>condominio</th>\n",
              "      <td>0.006607</td>\n",
              "      <td>0.045729</td>\n",
              "      <td>0.027222</td>\n",
              "      <td>0.021666</td>\n",
              "      <td>0.029102</td>\n",
              "      <td>0.025889</td>\n",
              "      <td>1.000000</td>\n",
              "      <td>0.202199</td>\n",
              "      <td>0.002319</td>\n",
              "      <td>0.007106</td>\n",
              "      <td>...</td>\n",
              "      <td>0.012277</td>\n",
              "      <td>0.009537</td>\n",
              "      <td>0.006117</td>\n",
              "      <td>0.009997</td>\n",
              "      <td>0.012535</td>\n",
              "      <td>0.011938</td>\n",
              "      <td>0.013373</td>\n",
              "      <td>0.014278</td>\n",
              "      <td>0.009097</td>\n",
              "      <td>0.005692</td>\n",
              "    </tr>\n",
              "    <tr>\n",
              "      <th>iptu</th>\n",
              "      <td>0.000374</td>\n",
              "      <td>0.021352</td>\n",
              "      <td>0.013937</td>\n",
              "      <td>0.017261</td>\n",
              "      <td>0.011834</td>\n",
              "      <td>0.011973</td>\n",
              "      <td>0.202199</td>\n",
              "      <td>1.000000</td>\n",
              "      <td>-0.005691</td>\n",
              "      <td>0.014412</td>\n",
              "      <td>...</td>\n",
              "      <td>-0.005290</td>\n",
              "      <td>0.000751</td>\n",
              "      <td>-0.004543</td>\n",
              "      <td>0.002468</td>\n",
              "      <td>-0.001935</td>\n",
              "      <td>-0.001252</td>\n",
              "      <td>0.006494</td>\n",
              "      <td>0.003315</td>\n",
              "      <td>0.001083</td>\n",
              "      <td>-0.003105</td>\n",
              "    </tr>\n",
              "    <tr>\n",
              "      <th>Zona Oeste</th>\n",
              "      <td>0.011440</td>\n",
              "      <td>0.121336</td>\n",
              "      <td>0.190922</td>\n",
              "      <td>0.163673</td>\n",
              "      <td>0.288956</td>\n",
              "      <td>0.257814</td>\n",
              "      <td>0.002319</td>\n",
              "      <td>-0.005691</td>\n",
              "      <td>1.000000</td>\n",
              "      <td>-0.662267</td>\n",
              "      <td>...</td>\n",
              "      <td>0.220705</td>\n",
              "      <td>0.287261</td>\n",
              "      <td>0.078709</td>\n",
              "      <td>0.430982</td>\n",
              "      <td>0.082711</td>\n",
              "      <td>0.078702</td>\n",
              "      <td>0.053272</td>\n",
              "      <td>0.360160</td>\n",
              "      <td>0.306183</td>\n",
              "      <td>0.416964</td>\n",
              "    </tr>\n",
              "    <tr>\n",
              "      <th>Zona Sul</th>\n",
              "      <td>-0.014570</td>\n",
              "      <td>0.038881</td>\n",
              "      <td>-0.035595</td>\n",
              "      <td>-0.031836</td>\n",
              "      <td>-0.105197</td>\n",
              "      <td>-0.164280</td>\n",
              "      <td>0.007106</td>\n",
              "      <td>0.014412</td>\n",
              "      <td>-0.662267</td>\n",
              "      <td>1.000000</td>\n",
              "      <td>...</td>\n",
              "      <td>-0.177902</td>\n",
              "      <td>-0.279973</td>\n",
              "      <td>-0.070755</td>\n",
              "      <td>-0.359511</td>\n",
              "      <td>-0.083615</td>\n",
              "      <td>-0.038930</td>\n",
              "      <td>-0.045292</td>\n",
              "      <td>-0.301972</td>\n",
              "      <td>-0.318827</td>\n",
              "      <td>-0.409426</td>\n",
              "    </tr>\n",
              "    <tr>\n",
              "      <th>Zona Central</th>\n",
              "      <td>0.035519</td>\n",
              "      <td>-0.103611</td>\n",
              "      <td>-0.125366</td>\n",
              "      <td>-0.162030</td>\n",
              "      <td>-0.103827</td>\n",
              "      <td>-0.097817</td>\n",
              "      <td>-0.004411</td>\n",
              "      <td>-0.003634</td>\n",
              "      <td>-0.130732</td>\n",
              "      <td>-0.088104</td>\n",
              "      <td>...</td>\n",
              "      <td>0.048658</td>\n",
              "      <td>-0.002244</td>\n",
              "      <td>0.044279</td>\n",
              "      <td>0.014194</td>\n",
              "      <td>0.056251</td>\n",
              "      <td>0.050497</td>\n",
              "      <td>0.038248</td>\n",
              "      <td>0.044170</td>\n",
              "      <td>0.009270</td>\n",
              "      <td>0.002468</td>\n",
              "    </tr>\n",
              "    <tr>\n",
              "      <th>Zona Norte</th>\n",
              "      <td>-0.009381</td>\n",
              "      <td>-0.170185</td>\n",
              "      <td>-0.163841</td>\n",
              "      <td>-0.120405</td>\n",
              "      <td>-0.215155</td>\n",
              "      <td>-0.105302</td>\n",
              "      <td>-0.010103</td>\n",
              "      <td>-0.008720</td>\n",
              "      <td>-0.462369</td>\n",
              "      <td>-0.311605</td>\n",
              "      <td>...</td>\n",
              "      <td>-0.090009</td>\n",
              "      <td>-0.036575</td>\n",
              "      <td>-0.032395</td>\n",
              "      <td>-0.133810</td>\n",
              "      <td>-0.026162</td>\n",
              "      <td>-0.072864</td>\n",
              "      <td>-0.027859</td>\n",
              "      <td>-0.120898</td>\n",
              "      <td>-0.018318</td>\n",
              "      <td>-0.051360</td>\n",
              "    </tr>\n",
              "    <tr>\n",
              "      <th>Condomínio fechado</th>\n",
              "      <td>0.091568</td>\n",
              "      <td>-0.012633</td>\n",
              "      <td>-0.005201</td>\n",
              "      <td>-0.000399</td>\n",
              "      <td>0.139420</td>\n",
              "      <td>0.079514</td>\n",
              "      <td>0.012277</td>\n",
              "      <td>-0.005290</td>\n",
              "      <td>0.220705</td>\n",
              "      <td>-0.177902</td>\n",
              "      <td>...</td>\n",
              "      <td>1.000000</td>\n",
              "      <td>0.480637</td>\n",
              "      <td>0.682808</td>\n",
              "      <td>0.493409</td>\n",
              "      <td>0.627123</td>\n",
              "      <td>0.696262</td>\n",
              "      <td>0.523811</td>\n",
              "      <td>0.591585</td>\n",
              "      <td>0.514086</td>\n",
              "      <td>0.475459</td>\n",
              "    </tr>\n",
              "    <tr>\n",
              "      <th>Playground</th>\n",
              "      <td>0.053616</td>\n",
              "      <td>-0.015875</td>\n",
              "      <td>0.066338</td>\n",
              "      <td>0.077571</td>\n",
              "      <td>0.189370</td>\n",
              "      <td>0.133349</td>\n",
              "      <td>0.009537</td>\n",
              "      <td>0.000751</td>\n",
              "      <td>0.287261</td>\n",
              "      <td>-0.279973</td>\n",
              "      <td>...</td>\n",
              "      <td>0.480637</td>\n",
              "      <td>1.000000</td>\n",
              "      <td>0.355048</td>\n",
              "      <td>0.645058</td>\n",
              "      <td>0.343651</td>\n",
              "      <td>0.426534</td>\n",
              "      <td>0.418478</td>\n",
              "      <td>0.671447</td>\n",
              "      <td>0.738156</td>\n",
              "      <td>0.627846</td>\n",
              "    </tr>\n",
              "    <tr>\n",
              "      <th>Portão eletrônico</th>\n",
              "      <td>0.083174</td>\n",
              "      <td>-0.002091</td>\n",
              "      <td>-0.016504</td>\n",
              "      <td>-0.015911</td>\n",
              "      <td>0.089919</td>\n",
              "      <td>0.046365</td>\n",
              "      <td>0.006117</td>\n",
              "      <td>-0.004543</td>\n",
              "      <td>0.078709</td>\n",
              "      <td>-0.070755</td>\n",
              "      <td>...</td>\n",
              "      <td>0.682808</td>\n",
              "      <td>0.355048</td>\n",
              "      <td>1.000000</td>\n",
              "      <td>0.318140</td>\n",
              "      <td>0.687605</td>\n",
              "      <td>0.782877</td>\n",
              "      <td>0.481794</td>\n",
              "      <td>0.417599</td>\n",
              "      <td>0.384918</td>\n",
              "      <td>0.316145</td>\n",
              "    </tr>\n",
              "    <tr>\n",
              "      <th>Piscina</th>\n",
              "      <td>0.043487</td>\n",
              "      <td>0.018178</td>\n",
              "      <td>0.099157</td>\n",
              "      <td>0.082557</td>\n",
              "      <td>0.264113</td>\n",
              "      <td>0.170263</td>\n",
              "      <td>0.009997</td>\n",
              "      <td>0.002468</td>\n",
              "      <td>0.430982</td>\n",
              "      <td>-0.359511</td>\n",
              "      <td>...</td>\n",
              "      <td>0.493409</td>\n",
              "      <td>0.645058</td>\n",
              "      <td>0.318140</td>\n",
              "      <td>1.000000</td>\n",
              "      <td>0.303417</td>\n",
              "      <td>0.387298</td>\n",
              "      <td>0.411415</td>\n",
              "      <td>0.748443</td>\n",
              "      <td>0.654138</td>\n",
              "      <td>0.752578</td>\n",
              "    </tr>\n",
              "    <tr>\n",
              "      <th>Animais permitidos</th>\n",
              "      <td>0.101455</td>\n",
              "      <td>-0.013017</td>\n",
              "      <td>-0.024598</td>\n",
              "      <td>-0.021273</td>\n",
              "      <td>0.065692</td>\n",
              "      <td>0.038535</td>\n",
              "      <td>0.012535</td>\n",
              "      <td>-0.001935</td>\n",
              "      <td>0.082711</td>\n",
              "      <td>-0.083615</td>\n",
              "      <td>...</td>\n",
              "      <td>0.627123</td>\n",
              "      <td>0.343651</td>\n",
              "      <td>0.687605</td>\n",
              "      <td>0.303417</td>\n",
              "      <td>1.000000</td>\n",
              "      <td>0.671325</td>\n",
              "      <td>0.465629</td>\n",
              "      <td>0.410210</td>\n",
              "      <td>0.388570</td>\n",
              "      <td>0.310556</td>\n",
              "    </tr>\n",
              "    <tr>\n",
              "      <th>Portaria 24h</th>\n",
              "      <td>0.089404</td>\n",
              "      <td>-0.024440</td>\n",
              "      <td>-0.034980</td>\n",
              "      <td>-0.022698</td>\n",
              "      <td>0.080268</td>\n",
              "      <td>0.034920</td>\n",
              "      <td>0.011938</td>\n",
              "      <td>-0.001252</td>\n",
              "      <td>0.078702</td>\n",
              "      <td>-0.038930</td>\n",
              "      <td>...</td>\n",
              "      <td>0.696262</td>\n",
              "      <td>0.426534</td>\n",
              "      <td>0.782877</td>\n",
              "      <td>0.387298</td>\n",
              "      <td>0.671325</td>\n",
              "      <td>1.000000</td>\n",
              "      <td>0.518735</td>\n",
              "      <td>0.493848</td>\n",
              "      <td>0.458366</td>\n",
              "      <td>0.372322</td>\n",
              "    </tr>\n",
              "    <tr>\n",
              "      <th>Elevador</th>\n",
              "      <td>0.071891</td>\n",
              "      <td>0.017113</td>\n",
              "      <td>0.057171</td>\n",
              "      <td>0.025772</td>\n",
              "      <td>0.120563</td>\n",
              "      <td>0.061624</td>\n",
              "      <td>0.013373</td>\n",
              "      <td>0.006494</td>\n",
              "      <td>0.053272</td>\n",
              "      <td>-0.045292</td>\n",
              "      <td>...</td>\n",
              "      <td>0.523811</td>\n",
              "      <td>0.418478</td>\n",
              "      <td>0.481794</td>\n",
              "      <td>0.411415</td>\n",
              "      <td>0.465629</td>\n",
              "      <td>0.518735</td>\n",
              "      <td>1.000000</td>\n",
              "      <td>0.455623</td>\n",
              "      <td>0.430771</td>\n",
              "      <td>0.380832</td>\n",
              "    </tr>\n",
              "    <tr>\n",
              "      <th>Academia</th>\n",
              "      <td>0.063997</td>\n",
              "      <td>0.001812</td>\n",
              "      <td>0.078991</td>\n",
              "      <td>0.061064</td>\n",
              "      <td>0.242715</td>\n",
              "      <td>0.139703</td>\n",
              "      <td>0.014278</td>\n",
              "      <td>0.003315</td>\n",
              "      <td>0.360160</td>\n",
              "      <td>-0.301972</td>\n",
              "      <td>...</td>\n",
              "      <td>0.591585</td>\n",
              "      <td>0.671447</td>\n",
              "      <td>0.417599</td>\n",
              "      <td>0.748443</td>\n",
              "      <td>0.410210</td>\n",
              "      <td>0.493848</td>\n",
              "      <td>0.455623</td>\n",
              "      <td>1.000000</td>\n",
              "      <td>0.693972</td>\n",
              "      <td>0.676920</td>\n",
              "    </tr>\n",
              "    <tr>\n",
              "      <th>Salão de festas</th>\n",
              "      <td>0.058501</td>\n",
              "      <td>-0.027044</td>\n",
              "      <td>0.055766</td>\n",
              "      <td>0.060549</td>\n",
              "      <td>0.173961</td>\n",
              "      <td>0.133120</td>\n",
              "      <td>0.009097</td>\n",
              "      <td>0.001083</td>\n",
              "      <td>0.306183</td>\n",
              "      <td>-0.318827</td>\n",
              "      <td>...</td>\n",
              "      <td>0.514086</td>\n",
              "      <td>0.738156</td>\n",
              "      <td>0.384918</td>\n",
              "      <td>0.654138</td>\n",
              "      <td>0.388570</td>\n",
              "      <td>0.458366</td>\n",
              "      <td>0.430771</td>\n",
              "      <td>0.693972</td>\n",
              "      <td>1.000000</td>\n",
              "      <td>0.648233</td>\n",
              "    </tr>\n",
              "    <tr>\n",
              "      <th>Churrasqueira</th>\n",
              "      <td>0.045711</td>\n",
              "      <td>-0.023514</td>\n",
              "      <td>0.043221</td>\n",
              "      <td>0.061840</td>\n",
              "      <td>0.186064</td>\n",
              "      <td>0.131687</td>\n",
              "      <td>0.005692</td>\n",
              "      <td>-0.003105</td>\n",
              "      <td>0.416964</td>\n",
              "      <td>-0.409426</td>\n",
              "      <td>...</td>\n",
              "      <td>0.475459</td>\n",
              "      <td>0.627846</td>\n",
              "      <td>0.316145</td>\n",
              "      <td>0.752578</td>\n",
              "      <td>0.310556</td>\n",
              "      <td>0.372322</td>\n",
              "      <td>0.380832</td>\n",
              "      <td>0.676920</td>\n",
              "      <td>0.648233</td>\n",
              "      <td>1.000000</td>\n",
              "    </tr>\n",
              "  </tbody>\n",
              "</table>\n",
              "<p>22 rows × 22 columns</p>\n",
              "</div>\n",
              "      <button class=\"colab-df-convert\" onclick=\"convertToInteractive('df-f60b3f59-bd08-4d11-a4bb-1df958cef8f7')\"\n",
              "              title=\"Convert this dataframe to an interactive table.\"\n",
              "              style=\"display:none;\">\n",
              "        \n",
              "  <svg xmlns=\"http://www.w3.org/2000/svg\" height=\"24px\"viewBox=\"0 0 24 24\"\n",
              "       width=\"24px\">\n",
              "    <path d=\"M0 0h24v24H0V0z\" fill=\"none\"/>\n",
              "    <path d=\"M18.56 5.44l.94 2.06.94-2.06 2.06-.94-2.06-.94-.94-2.06-.94 2.06-2.06.94zm-11 1L8.5 8.5l.94-2.06 2.06-.94-2.06-.94L8.5 2.5l-.94 2.06-2.06.94zm10 10l.94 2.06.94-2.06 2.06-.94-2.06-.94-.94-2.06-.94 2.06-2.06.94z\"/><path d=\"M17.41 7.96l-1.37-1.37c-.4-.4-.92-.59-1.43-.59-.52 0-1.04.2-1.43.59L10.3 9.45l-7.72 7.72c-.78.78-.78 2.05 0 2.83L4 21.41c.39.39.9.59 1.41.59.51 0 1.02-.2 1.41-.59l7.78-7.78 2.81-2.81c.8-.78.8-2.07 0-2.86zM5.41 20L4 18.59l7.72-7.72 1.47 1.35L5.41 20z\"/>\n",
              "  </svg>\n",
              "      </button>\n",
              "      \n",
              "  <style>\n",
              "    .colab-df-container {\n",
              "      display:flex;\n",
              "      flex-wrap:wrap;\n",
              "      gap: 12px;\n",
              "    }\n",
              "\n",
              "    .colab-df-convert {\n",
              "      background-color: #E8F0FE;\n",
              "      border: none;\n",
              "      border-radius: 50%;\n",
              "      cursor: pointer;\n",
              "      display: none;\n",
              "      fill: #1967D2;\n",
              "      height: 32px;\n",
              "      padding: 0 0 0 0;\n",
              "      width: 32px;\n",
              "    }\n",
              "\n",
              "    .colab-df-convert:hover {\n",
              "      background-color: #E2EBFA;\n",
              "      box-shadow: 0px 1px 2px rgba(60, 64, 67, 0.3), 0px 1px 3px 1px rgba(60, 64, 67, 0.15);\n",
              "      fill: #174EA6;\n",
              "    }\n",
              "\n",
              "    [theme=dark] .colab-df-convert {\n",
              "      background-color: #3B4455;\n",
              "      fill: #D2E3FC;\n",
              "    }\n",
              "\n",
              "    [theme=dark] .colab-df-convert:hover {\n",
              "      background-color: #434B5C;\n",
              "      box-shadow: 0px 1px 3px 1px rgba(0, 0, 0, 0.15);\n",
              "      filter: drop-shadow(0px 1px 2px rgba(0, 0, 0, 0.3));\n",
              "      fill: #FFFFFF;\n",
              "    }\n",
              "  </style>\n",
              "\n",
              "      <script>\n",
              "        const buttonEl =\n",
              "          document.querySelector('#df-f60b3f59-bd08-4d11-a4bb-1df958cef8f7 button.colab-df-convert');\n",
              "        buttonEl.style.display =\n",
              "          google.colab.kernel.accessAllowed ? 'block' : 'none';\n",
              "\n",
              "        async function convertToInteractive(key) {\n",
              "          const element = document.querySelector('#df-f60b3f59-bd08-4d11-a4bb-1df958cef8f7');\n",
              "          const dataTable =\n",
              "            await google.colab.kernel.invokeFunction('convertToInteractive',\n",
              "                                                     [key], {});\n",
              "          if (!dataTable) return;\n",
              "\n",
              "          const docLinkHtml = 'Like what you see? Visit the ' +\n",
              "            '<a target=\"_blank\" href=https://colab.research.google.com/notebooks/data_table.ipynb>data table notebook</a>'\n",
              "            + ' to learn more about interactive tables.';\n",
              "          element.innerHTML = '';\n",
              "          dataTable['output_type'] = 'display_data';\n",
              "          await google.colab.output.renderOutput(dataTable, element);\n",
              "          const docLink = document.createElement('div');\n",
              "          docLink.innerHTML = docLinkHtml;\n",
              "          element.appendChild(docLink);\n",
              "        }\n",
              "      </script>\n",
              "    </div>\n",
              "  </div>\n",
              "  "
            ]
          },
          "metadata": {},
          "execution_count": 70
        }
      ]
    },
    {
      "cell_type": "code",
      "source": [
        "# é dificil ver quais numeros sao grandes e pequenos, entao quero representacao visual\n",
        "\n",
        "import matplotlib.pyplot as plt\n",
        "import seaborn as sns"
      ],
      "metadata": {
        "id": "xOwDVk--0Va9"
      },
      "execution_count": 71,
      "outputs": []
    },
    {
      "cell_type": "code",
      "source": [
        "plt.figure(figsize=(12,20))\n",
        "paleta = sns.color_palette('light:salmon', as_cmap=True)\n",
        "sns.heatmap(df_correlacao.round(1), annot=True, cmap=paleta)\n",
        "\n",
        "# vemos a multicolinearidade\n",
        "# se a correlacao de dois fatores forem muito alta é importe retirar um deles na análise"
      ],
      "metadata": {
        "colab": {
          "base_uri": "https://localhost:8080/",
          "height": 1000
        },
        "id": "ehC6uhh90jZK",
        "outputId": "be8abc33-94dc-4281-bd18-87edae4f9511"
      },
      "execution_count": 72,
      "outputs": [
        {
          "output_type": "execute_result",
          "data": {
            "text/plain": [
              "<matplotlib.axes._subplots.AxesSubplot at 0x7f7c90559910>"
            ]
          },
          "metadata": {},
          "execution_count": 72
        },
        {
          "output_type": "display_data",
          "data": {
            "text/plain": [
              "<Figure size 864x1440 with 2 Axes>"
            ],
            "image/png": "[encoded data removed]"
          },
          "metadata": {
            "needs_background": "light"
          }
        }
      ]
    },
    {
      "cell_type": "markdown",
      "source": [
        "## **Criação do modelo Regressão Linear e métricas**"
      ],
      "metadata": {
        "id": "OErSl4yg2Gg9"
      }
    },
    {
      "cell_type": "code",
      "source": [
        "# ajuste e previsao\n",
        "\n",
        "from pyspark.ml.regression import LinearRegression"
      ],
      "metadata": {
        "id": "yddFPEZO2NsS"
      },
      "execution_count": 73,
      "outputs": []
    },
    {
      "cell_type": "code",
      "source": [
        "treino, teste = dados_prep.randomSplit([0.7, 0.3], seed=101) #separando 30% para teste"
      ],
      "metadata": {
        "id": "OUHb8faw2mb4"
      },
      "execution_count": 74,
      "outputs": []
    },
    {
      "cell_type": "code",
      "source": [
        "treino.count()"
      ],
      "metadata": {
        "colab": {
          "base_uri": "https://localhost:8080/"
        },
        "id": "q5S1G8V8278L",
        "outputId": "6cb3b542-d1a4-47b0-8279-0ab81edf29e5"
      },
      "execution_count": 75,
      "outputs": [
        {
          "output_type": "execute_result",
          "data": {
            "text/plain": [
              "46426"
            ]
          },
          "metadata": {},
          "execution_count": 75
        }
      ]
    },
    {
      "cell_type": "code",
      "source": [
        "teste.count()"
      ],
      "metadata": {
        "colab": {
          "base_uri": "https://localhost:8080/"
        },
        "id": "LT3i89pz3QFh",
        "outputId": "970bf509-93ca-4882-ed91-fe30f50efd9b"
      },
      "execution_count": 76,
      "outputs": [
        {
          "output_type": "execute_result",
          "data": {
            "text/plain": [
              "19911"
            ]
          },
          "metadata": {},
          "execution_count": 76
        }
      ]
    },
    {
      "cell_type": "code",
      "source": [
        "lr = LinearRegression()"
      ],
      "metadata": {
        "id": "AH0vSqr43S0O"
      },
      "execution_count": 77,
      "outputs": []
    },
    {
      "cell_type": "code",
      "source": [
        "modelo_lr = lr.fit(treino)"
      ],
      "metadata": {
        "id": "E9XxSpQr3eQq"
      },
      "execution_count": 78,
      "outputs": []
    },
    {
      "cell_type": "code",
      "source": [
        "previsoes_lr_treino = modelo_lr.transform(treino)"
      ],
      "metadata": {
        "id": "dMilqDUH7M-K"
      },
      "execution_count": 79,
      "outputs": []
    },
    {
      "cell_type": "code",
      "source": [
        "previsoes_lr_treino.show() # é preciso obter métricas para avaliar as previsões"
      ],
      "metadata": {
        "colab": {
          "base_uri": "https://localhost:8080/"
        },
        "id": "lRhSRp9h7YbX",
        "outputId": "57e6cd2c-70ef-4869-f355-27175e88d525"
      },
      "execution_count": 80,
      "outputs": [
        {
          "output_type": "stream",
          "name": "stdout",
          "text": [
            "+--------------------+---------+------------------+\n",
            "|            features|    label|        prediction|\n",
            "+--------------------+---------+------------------+\n",
            "|(22,[0,1,2,3,4,5,...|1824000.0|1570247.6445533838|\n",
            "|(22,[0,1,2,3,4,5,...|1100000.0| 2769467.426923275|\n",
            "|(22,[0,1,2,3,4,5,...| 950000.0|1315209.7263781428|\n",
            "|(22,[0,1,2,3,4,5,...| 790000.0| 494092.6859032074|\n",
            "|(22,[0,1,2,3,4,5,...|1050000.0|1651861.6479266752|\n",
            "|(22,[0,1,2,3,4,5,...|3980000.0|3578079.0160951354|\n",
            "|(22,[0,1,2,3,4,5,...|4660625.0|3177610.1343246074|\n",
            "|(22,[0,1,2,3,4,5,...| 925000.0|1312786.0625299942|\n",
            "|(22,[0,1,2,3,4,5,...|2293400.0|1655177.6319315685|\n",
            "|(22,[0,1,2,3,4,5,...|5784000.0|  2925410.24068971|\n",
            "|(22,[0,1,2,3,4,5,...|2200000.0|1603849.9617833653|\n",
            "|(22,[0,1,2,3,4,5,...| 539000.0| 615356.7869320726|\n",
            "|(22,[0,1,2,3,4,5,...| 495000.0|  619121.922512847|\n",
            "|(22,[0,1,2,3,4,5,...| 900000.0|  547121.720783703|\n",
            "|(22,[0,1,2,3,4,5,...|1595000.0|1521294.5548586668|\n",
            "|(22,[0,1,2,3,4,6,...|1190000.0|1160317.5694356402|\n",
            "|(22,[0,1,2,3,4,6,...| 349999.0|295089.92476928513|\n",
            "|(22,[0,1,2,3,5,6,...| 350000.0| 679707.2572603831|\n",
            "|(22,[0,1,2,3,5,6,...| 870000.0|1420399.4361185562|\n",
            "|(22,[0,1,2,3,5,6,...|1200000.0| 1039398.299641531|\n",
            "+--------------------+---------+------------------+\n",
            "only showing top 20 rows\n",
            "\n"
          ]
        }
      ]
    },
    {
      "cell_type": "code",
      "source": [
        "resumo_treino = modelo_lr.summary"
      ],
      "metadata": {
        "id": "b_NRMeG88EFD"
      },
      "execution_count": 81,
      "outputs": []
    },
    {
      "cell_type": "code",
      "source": [
        "resumo_treino.r2 "
      ],
      "metadata": {
        "colab": {
          "base_uri": "https://localhost:8080/"
        },
        "id": "6-cYb84L8dZv",
        "outputId": "da31c6ed-7531-42b7-b0bf-20bcaa1947ee"
      },
      "execution_count": 82,
      "outputs": [
        {
          "output_type": "execute_result",
          "data": {
            "text/plain": [
              "0.6780509260292227"
            ]
          },
          "metadata": {},
          "execution_count": 82
        }
      ]
    },
    {
      "cell_type": "code",
      "source": [
        "resumo_treino.rootMeanSquaredError "
      ],
      "metadata": {
        "colab": {
          "base_uri": "https://localhost:8080/"
        },
        "id": "o5MJq7_D8kIF",
        "outputId": "5148cf72-76c5-4870-f8e3-d77c7761aa4e"
      },
      "execution_count": 83,
      "outputs": [
        {
          "output_type": "execute_result",
          "data": {
            "text/plain": [
              "828209.736674596"
            ]
          },
          "metadata": {},
          "execution_count": 83
        }
      ]
    },
    {
      "cell_type": "code",
      "source": [
        "resumo_teste = modelo_lr.evaluate(teste)"
      ],
      "metadata": {
        "id": "Q5VYshT_8tSV"
      },
      "execution_count": 84,
      "outputs": []
    },
    {
      "cell_type": "code",
      "source": [
        "resumo_teste.r2"
      ],
      "metadata": {
        "colab": {
          "base_uri": "https://localhost:8080/"
        },
        "id": "zTjyEwlT88rI",
        "outputId": "0a4047b4-cdc6-4d1f-fc51-f1dcc560e8ff"
      },
      "execution_count": 85,
      "outputs": [
        {
          "output_type": "execute_result",
          "data": {
            "text/plain": [
              "0.6335103100848398"
            ]
          },
          "metadata": {},
          "execution_count": 85
        }
      ]
    },
    {
      "cell_type": "code",
      "source": [
        "resumo_teste.rootMeanSquaredError"
      ],
      "metadata": {
        "colab": {
          "base_uri": "https://localhost:8080/"
        },
        "id": "gFfS4bGQ8-5N",
        "outputId": "c4e33ef9-95e4-4d29-e9bf-7d53e7c91fcc"
      },
      "execution_count": 86,
      "outputs": [
        {
          "output_type": "execute_result",
          "data": {
            "text/plain": [
              "904073.3133319446"
            ]
          },
          "metadata": {},
          "execution_count": 86
        }
      ]
    },
    {
      "cell_type": "markdown",
      "source": [
        "## **Tabela de resumo da Regressão Linear (R² e RMSE)**"
      ],
      "metadata": {
        "id": "FP-R1oxM9TXT"
      }
    },
    {
      "cell_type": "code",
      "source": [
        "print('Linear Regression')\n",
        "print(\"=\"*30)\n",
        "print(\"Dados de Treino\")\n",
        "print(\"=\"*30)\n",
        "print(\"R²: %f\" % resumo_treino.r2)\n",
        "print(\"RMSE: %f\" % resumo_treino.rootMeanSquaredError)\n",
        "print(\"\")\n",
        "print(\"=\"*30)\n",
        "print(\"Dados de Teste\")\n",
        "print(\"=\"*30)\n",
        "print(\"R²: %f\" % resumo_teste.r2)\n",
        "print(\"RMSE: %f\" % resumo_teste.rootMeanSquaredError)"
      ],
      "metadata": {
        "colab": {
          "base_uri": "https://localhost:8080/"
        },
        "id": "2eBr3h9g9Xfr",
        "outputId": "18dbc39d-c192-4b8b-a578-abd35142891d"
      },
      "execution_count": 87,
      "outputs": [
        {
          "output_type": "stream",
          "name": "stdout",
          "text": [
            "Linear Regression\n",
            "==============================\n",
            "Dados de Treino\n",
            "==============================\n",
            "R²: 0.678051\n",
            "RMSE: 828209.736675\n",
            "\n",
            "==============================\n",
            "Dados de Teste\n",
            "==============================\n",
            "R²: 0.633510\n",
            "RMSE: 904073.313332\n"
          ]
        }
      ]
    },
    {
      "cell_type": "markdown",
      "source": [
        "## **Criação do modelo Decision Tree e métricas**"
      ],
      "metadata": {
        "id": "IDabnVzg7sNV"
      }
    },
    {
      "cell_type": "code",
      "source": [
        "# ajuste e previsão\n",
        "\n",
        "from pyspark.ml.regression import DecisionTreeRegressor"
      ],
      "metadata": {
        "id": "AKUdILqU7wdS"
      },
      "execution_count": 88,
      "outputs": []
    },
    {
      "cell_type": "code",
      "source": [
        "dtr = DecisionTreeRegressor(seed=101, maxDepth=7)"
      ],
      "metadata": {
        "id": "r1r3zsli71CM"
      },
      "execution_count": 89,
      "outputs": []
    },
    {
      "cell_type": "code",
      "source": [
        "modelo_dtr = dtr.fit(treino)"
      ],
      "metadata": {
        "id": "mP-9YUn673To"
      },
      "execution_count": 90,
      "outputs": []
    },
    {
      "cell_type": "code",
      "source": [
        "previsoes_dtr_treino = modelo_dtr.transform(treino)"
      ],
      "metadata": {
        "id": "HOv7vUoG74fu"
      },
      "execution_count": 91,
      "outputs": []
    },
    {
      "cell_type": "code",
      "source": [
        "previsoes_dtr_treino.show()"
      ],
      "metadata": {
        "colab": {
          "base_uri": "https://localhost:8080/"
        },
        "id": "stqFGcJp7565",
        "outputId": "c760427a-f02e-43ba-e489-ebe62f06b728"
      },
      "execution_count": 92,
      "outputs": [
        {
          "output_type": "stream",
          "name": "stdout",
          "text": [
            "+--------------------+---------+------------------+\n",
            "|            features|    label|        prediction|\n",
            "+--------------------+---------+------------------+\n",
            "|(22,[0,1,2,3,4,5,...|1824000.0| 1809259.337535014|\n",
            "|(22,[0,1,2,3,4,5,...|1100000.0|1388841.1782786886|\n",
            "|(22,[0,1,2,3,4,5,...| 950000.0| 1809259.337535014|\n",
            "|(22,[0,1,2,3,4,5,...| 790000.0|  696755.006993007|\n",
            "|(22,[0,1,2,3,4,5,...|1050000.0|1004920.0232758621|\n",
            "|(22,[0,1,2,3,4,5,...|3980000.0|         3871533.5|\n",
            "|(22,[0,1,2,3,4,5,...|4660625.0|3870372.2822580645|\n",
            "|(22,[0,1,2,3,4,5,...| 925000.0|1256709.0893947806|\n",
            "|(22,[0,1,2,3,4,5,...|2293400.0|1577468.6032258065|\n",
            "|(22,[0,1,2,3,4,5,...|5784000.0| 3666027.076923077|\n",
            "|(22,[0,1,2,3,4,5,...|2200000.0| 1159965.857142857|\n",
            "|(22,[0,1,2,3,4,5,...| 539000.0|376318.70344827586|\n",
            "|(22,[0,1,2,3,4,5,...| 495000.0| 671215.9751368257|\n",
            "|(22,[0,1,2,3,4,5,...| 900000.0| 671215.9751368257|\n",
            "|(22,[0,1,2,3,4,5,...|1595000.0| 1809259.337535014|\n",
            "|(22,[0,1,2,3,4,6,...|1190000.0| 856399.6977535739|\n",
            "|(22,[0,1,2,3,4,6,...| 349999.0|376318.70344827586|\n",
            "|(22,[0,1,2,3,5,6,...| 350000.0|  912062.578327444|\n",
            "|(22,[0,1,2,3,5,6,...| 870000.0|1129918.0405679513|\n",
            "|(22,[0,1,2,3,5,6,...|1200000.0|  912062.578327444|\n",
            "+--------------------+---------+------------------+\n",
            "only showing top 20 rows\n",
            "\n"
          ]
        }
      ]
    },
    {
      "cell_type": "code",
      "source": [
        "from pyspark.ml.evaluation import RegressionEvaluator"
      ],
      "metadata": {
        "id": "mdJXy1by8VRg"
      },
      "execution_count": 93,
      "outputs": []
    },
    {
      "cell_type": "code",
      "source": [
        "evaluator = RegressionEvaluator()\n",
        "\n",
        "print(evaluator.evaluate(previsoes_dtr_treino, {evaluator.metricName: \"r2\"}))\n",
        "print(evaluator.evaluate(previsoes_dtr_treino, {evaluator.metricName: \"rmse\"}))"
      ],
      "metadata": {
        "colab": {
          "base_uri": "https://localhost:8080/"
        },
        "id": "ENTmqnBH8gKF",
        "outputId": "ddbb4224-dc9b-4502-c634-735d9558363d"
      },
      "execution_count": 94,
      "outputs": [
        {
          "output_type": "stream",
          "name": "stdout",
          "text": [
            "0.7976370502070388\n",
            "656617.1812852314\n"
          ]
        }
      ]
    },
    {
      "cell_type": "code",
      "source": [
        "previsoes_dtr_teste = modelo_dtr.transform(teste)"
      ],
      "metadata": {
        "id": "bQyDmpYD8jS1"
      },
      "execution_count": 95,
      "outputs": []
    },
    {
      "cell_type": "code",
      "source": [
        "previsoes_dtr_teste.show()"
      ],
      "metadata": {
        "colab": {
          "base_uri": "https://localhost:8080/"
        },
        "id": "3b0aGkTU8kqA",
        "outputId": "9972d3ee-e179-4edf-e534-b0e12f2abed8"
      },
      "execution_count": 96,
      "outputs": [
        {
          "output_type": "stream",
          "name": "stdout",
          "text": [
            "+--------------------+---------+------------------+\n",
            "|            features|    label|        prediction|\n",
            "+--------------------+---------+------------------+\n",
            "|(22,[0,1,2,3,4,5,...| 845000.0|1004920.0232758621|\n",
            "|(22,[0,1,2,3,4,5,...|1450000.0|1111202.6233463036|\n",
            "|(22,[0,1,2,3,4,5,...| 335000.0| 671215.9751368257|\n",
            "|(22,[0,1,2,3,4,5,...| 489900.0| 671215.9751368257|\n",
            "|(22,[0,1,2,3,4,5,...|1922000.0|1111202.6233463036|\n",
            "|(22,[0,1,2,3,4,6,...| 735000.0| 856399.6977535739|\n",
            "|(22,[0,1,2,3,4,6,...|1450000.0| 856399.6977535739|\n",
            "|(22,[0,1,2,3,4,6,...| 535000.0| 856399.6977535739|\n",
            "|(22,[0,1,2,3,6,7,...| 600000.0| 552733.9381139489|\n",
            "|(22,[0,1,2,3,6,7,...| 290000.0|392630.60425531917|\n",
            "|(22,[0,1,2,3,6,7,...| 350000.0|392630.60425531917|\n",
            "|(22,[0,1,2,3,6,7,...| 260000.0|364041.06076975015|\n",
            "|(22,[0,1,2,3,11],...| 220000.0|250498.17036580353|\n",
            "|(22,[1,2,3,4,5,6,...| 629150.0| 671215.9751368257|\n",
            "|(22,[1,2,3,4,5,6,...| 440000.0|1004920.0232758621|\n",
            "|(22,[1,2,3,4,5,6,...| 847000.0|1004920.0232758621|\n",
            "|(22,[1,2,3,4,5,6,...|   1.08E7| 5772178.018292683|\n",
            "|(22,[1,2,3,4,5,6,...|3250000.0|1991117.9158163266|\n",
            "|(22,[1,2,3,4,5,6,...| 734000.0|1004920.0232758621|\n",
            "|(22,[1,2,3,4,5,6,...| 930000.0|  913665.618556701|\n",
            "+--------------------+---------+------------------+\n",
            "only showing top 20 rows\n",
            "\n"
          ]
        }
      ]
    },
    {
      "cell_type": "markdown",
      "source": [
        "# **Tabela de resumo do modelo Decision Tree (R² e RMSE)**"
      ],
      "metadata": {
        "id": "4ZAPidrz86MK"
      }
    },
    {
      "cell_type": "code",
      "source": [
        "print('Decision Tree Regression')\n",
        "print(\"=\"*30)\n",
        "print(\"Dados de Treino\")\n",
        "print(\"=\"*30)\n",
        "print(\"R²: %f\" % evaluator.evaluate(previsoes_dtr_treino, {evaluator.metricName: \"r2\"}))\n",
        "print(\"RMSE: %f\" % evaluator.evaluate(previsoes_dtr_treino, {evaluator.metricName: \"rmse\"}))\n",
        "print(\"\")\n",
        "print(\"=\"*30)\n",
        "print(\"Dados de Teste\")\n",
        "print(\"=\"*30)\n",
        "print(\"R²: %f\" % evaluator.evaluate(previsoes_dtr_teste, {evaluator.metricName: \"r2\"}))\n",
        "print(\"RMSE: %f\" % evaluator.evaluate(previsoes_dtr_teste, {evaluator.metricName: \"rmse\"}))"
      ],
      "metadata": {
        "colab": {
          "base_uri": "https://localhost:8080/"
        },
        "id": "U4zlEJii86uR",
        "outputId": "06246572-7bb1-4f39-ed18-9bfc6c527d63"
      },
      "execution_count": 97,
      "outputs": [
        {
          "output_type": "stream",
          "name": "stdout",
          "text": [
            "Decision Tree Regression\n",
            "==============================\n",
            "Dados de Treino\n",
            "==============================\n",
            "R²: 0.797637\n",
            "RMSE: 656617.181285\n",
            "\n",
            "==============================\n",
            "Dados de Teste\n",
            "==============================\n",
            "R²: 0.764727\n",
            "RMSE: 724366.921366\n"
          ]
        }
      ]
    },
    {
      "cell_type": "code",
      "source": [],
      "metadata": {
        "id": "zDUpUArx2MVX"
      },
      "execution_count": 97,
      "outputs": []
    },
    {
      "cell_type": "markdown",
      "source": [
        "# **Criação do modelo de Randon Forest e métricas**"
      ],
      "metadata": {
        "id": "kZV2IYK09TaB"
      }
    },
    {
      "cell_type": "code",
      "source": [
        "from pyspark.ml.regression import RandomForestRegressor"
      ],
      "metadata": {
        "id": "SnwYg2jX9XSb"
      },
      "execution_count": 98,
      "outputs": []
    },
    {
      "cell_type": "code",
      "source": [
        "rfr = RandomForestRegressor(seed=101, maxDepth=7, numTrees=10)"
      ],
      "metadata": {
        "id": "Hj8XN9XD90MI"
      },
      "execution_count": 99,
      "outputs": []
    },
    {
      "cell_type": "code",
      "source": [
        "modelo_rfr = rfr.fit(treino)"
      ],
      "metadata": {
        "id": "HZdjjxTC91rB"
      },
      "execution_count": 100,
      "outputs": []
    },
    {
      "cell_type": "code",
      "source": [
        "previsoes_rfr_treino = modelo_rfr.transform(treino)"
      ],
      "metadata": {
        "id": "4lkQ4P6793vJ"
      },
      "execution_count": 101,
      "outputs": []
    },
    {
      "cell_type": "code",
      "source": [
        "previsoes_rfr_treino.show()"
      ],
      "metadata": {
        "colab": {
          "base_uri": "https://localhost:8080/"
        },
        "id": "D-ifXwFX95RU",
        "outputId": "3a41732d-76c7-4232-e6bf-8a0cf1992f53"
      },
      "execution_count": 102,
      "outputs": [
        {
          "output_type": "stream",
          "name": "stdout",
          "text": [
            "+--------------------+---------+------------------+\n",
            "|            features|    label|        prediction|\n",
            "+--------------------+---------+------------------+\n",
            "|(22,[0,1,2,3,4,5,...|1824000.0|1537930.2444422257|\n",
            "|(22,[0,1,2,3,4,5,...|1100000.0|1720279.7300992007|\n",
            "|(22,[0,1,2,3,4,5,...| 950000.0|1537930.2444422257|\n",
            "|(22,[0,1,2,3,4,5,...| 790000.0| 714038.2124507872|\n",
            "|(22,[0,1,2,3,4,5,...|1050000.0|1429528.0919044914|\n",
            "|(22,[0,1,2,3,4,5,...|3980000.0|3502892.3160656593|\n",
            "|(22,[0,1,2,3,4,5,...|4660625.0| 3392059.901119873|\n",
            "|(22,[0,1,2,3,4,5,...| 925000.0|  950596.924297185|\n",
            "|(22,[0,1,2,3,4,5,...|2293400.0|1526524.1160639662|\n",
            "|(22,[0,1,2,3,4,5,...|5784000.0|2645893.8104096116|\n",
            "|(22,[0,1,2,3,4,5,...|2200000.0|1988928.3888766703|\n",
            "|(22,[0,1,2,3,4,5,...| 539000.0| 397935.5353101321|\n",
            "|(22,[0,1,2,3,4,5,...| 495000.0|  625498.192895736|\n",
            "|(22,[0,1,2,3,4,5,...| 900000.0|  625498.192895736|\n",
            "|(22,[0,1,2,3,4,5,...|1595000.0|1537930.2444422257|\n",
            "|(22,[0,1,2,3,4,6,...|1190000.0| 880425.7098710292|\n",
            "|(22,[0,1,2,3,4,6,...| 349999.0|  392107.521517011|\n",
            "|(22,[0,1,2,3,5,6,...| 350000.0| 680185.8370659107|\n",
            "|(22,[0,1,2,3,5,6,...| 870000.0|1267684.6934006845|\n",
            "|(22,[0,1,2,3,5,6,...|1200000.0| 912813.8552107979|\n",
            "+--------------------+---------+------------------+\n",
            "only showing top 20 rows\n",
            "\n"
          ]
        }
      ]
    },
    {
      "cell_type": "code",
      "source": [
        "print(evaluator.evaluate(previsoes_rfr_treino, {evaluator.metricName: \"r2\"}))\n",
        "print(evaluator.evaluate(previsoes_rfr_treino, {evaluator.metricName: \"rmse\"}))"
      ],
      "metadata": {
        "colab": {
          "base_uri": "https://localhost:8080/"
        },
        "id": "RNjLhTca-XIu",
        "outputId": "7b8757a3-872f-43e8-c3dd-e07e30f906e1"
      },
      "execution_count": 103,
      "outputs": [
        {
          "output_type": "stream",
          "name": "stdout",
          "text": [
            "0.8074114538278794\n",
            "640563.1764911914\n"
          ]
        }
      ]
    },
    {
      "cell_type": "code",
      "source": [
        "previsoes_rfr_teste = modelo_rfr.transform(teste)"
      ],
      "metadata": {
        "id": "bgL32zvj-a1-"
      },
      "execution_count": 104,
      "outputs": []
    },
    {
      "cell_type": "code",
      "source": [
        "previsoes_rfr_teste.show()"
      ],
      "metadata": {
        "colab": {
          "base_uri": "https://localhost:8080/"
        },
        "id": "ZeTHencC-c-r",
        "outputId": "d9166cbb-f6da-4abb-fc49-6cc81e9deb05"
      },
      "execution_count": 105,
      "outputs": [
        {
          "output_type": "stream",
          "name": "stdout",
          "text": [
            "+--------------------+---------+------------------+\n",
            "|            features|    label|        prediction|\n",
            "+--------------------+---------+------------------+\n",
            "|(22,[0,1,2,3,4,5,...| 845000.0| 805679.4079231288|\n",
            "|(22,[0,1,2,3,4,5,...|1450000.0|1438589.0114774678|\n",
            "|(22,[0,1,2,3,4,5,...| 335000.0| 601377.5317903373|\n",
            "|(22,[0,1,2,3,4,5,...| 489900.0|  572176.516285731|\n",
            "|(22,[0,1,2,3,4,5,...|1922000.0|1440735.2839453565|\n",
            "|(22,[0,1,2,3,4,6,...| 735000.0|1173441.0599398594|\n",
            "|(22,[0,1,2,3,4,6,...|1450000.0| 880425.7098710292|\n",
            "|(22,[0,1,2,3,4,6,...| 535000.0| 832383.8196310801|\n",
            "|(22,[0,1,2,3,6,7,...| 600000.0| 615273.2629794254|\n",
            "|(22,[0,1,2,3,6,7,...| 290000.0| 516948.4544244458|\n",
            "|(22,[0,1,2,3,6,7,...| 350000.0| 516948.4544244458|\n",
            "|(22,[0,1,2,3,6,7,...| 260000.0| 584619.2518573184|\n",
            "|(22,[0,1,2,3,11],...| 220000.0| 282963.5403830693|\n",
            "|(22,[1,2,3,4,5,6,...| 629150.0| 655468.5367153179|\n",
            "|(22,[1,2,3,4,5,6,...| 440000.0|  789726.410188355|\n",
            "|(22,[1,2,3,4,5,6,...| 847000.0|1056286.4866662733|\n",
            "|(22,[1,2,3,4,5,6,...|   1.08E7| 5549315.835663098|\n",
            "|(22,[1,2,3,4,5,6,...|3250000.0| 1912790.591558298|\n",
            "|(22,[1,2,3,4,5,6,...| 734000.0|1056286.4866662733|\n",
            "|(22,[1,2,3,4,5,6,...| 930000.0|1022318.8202678806|\n",
            "+--------------------+---------+------------------+\n",
            "only showing top 20 rows\n",
            "\n"
          ]
        }
      ]
    },
    {
      "cell_type": "markdown",
      "source": [
        "# **Tabela de resumo Randon Forest (R² e RMSE)**"
      ],
      "metadata": {
        "id": "U0s7-LlV-iew"
      }
    },
    {
      "cell_type": "code",
      "source": [
        "print('Random Forest Regression')\n",
        "print(\"=\"*30)\n",
        "print(\"Dados de Treino\")\n",
        "print(\"=\"*30)\n",
        "print(\"R²: %f\" % evaluator.evaluate(previsoes_rfr_treino, {evaluator.metricName: \"r2\"}))\n",
        "print(\"RMSE: %f\" % evaluator.evaluate(previsoes_rfr_treino, {evaluator.metricName: \"rmse\"}))\n",
        "print(\"\")\n",
        "print(\"=\"*30)\n",
        "print(\"Dados de Teste\")\n",
        "print(\"=\"*30)\n",
        "print(\"R²: %f\" % evaluator.evaluate(previsoes_rfr_teste, {evaluator.metricName: \"r2\"}))\n",
        "print(\"RMSE: %f\" % evaluator.evaluate(previsoes_rfr_teste, {evaluator.metricName: \"rmse\"}))"
      ],
      "metadata": {
        "colab": {
          "base_uri": "https://localhost:8080/"
        },
        "id": "akIcprH6-kvN",
        "outputId": "2b099461-65a5-4b2b-b19d-267072752043"
      },
      "execution_count": 107,
      "outputs": [
        {
          "output_type": "stream",
          "name": "stdout",
          "text": [
            "Random Forest Regression\n",
            "==============================\n",
            "Dados de Treino\n",
            "==============================\n",
            "R²: 0.807411\n",
            "RMSE: 640563.176491\n",
            "\n",
            "==============================\n",
            "Dados de Teste\n",
            "==============================\n",
            "R²: 0.785179\n",
            "RMSE: 692168.161403\n"
          ]
        }
      ]
    },
    {
      "cell_type": "markdown",
      "source": [
        "# **Árvore de decisão com Cross Validation**"
      ],
      "metadata": {
        "id": "neI9RvC1Bzl2"
      }
    },
    {
      "cell_type": "code",
      "source": [
        "from pyspark.ml.regression import DecisionTreeRegressor\n",
        "from pyspark.ml.tuning import CrossValidator, ParamGridBuilder\n",
        "from pyspark.ml.evaluation import RegressionEvaluator"
      ],
      "metadata": {
        "id": "d01EUJiCB8Xe"
      },
      "execution_count": 114,
      "outputs": []
    },
    {
      "cell_type": "code",
      "source": [
        "dtr = DecisionTreeRegressor()"
      ],
      "metadata": {
        "id": "WUkDzZDHCaAz"
      },
      "execution_count": 109,
      "outputs": []
    },
    {
      "cell_type": "code",
      "source": [
        "grid = ParamGridBuilder() \\\n",
        "    .addGrid(dtr.maxDepth, [2, 5, 10]) \\\n",
        "    .addGrid(dtr.maxBins, [10, 32, 45]) \\\n",
        "    .build()"
      ],
      "metadata": {
        "id": "xlIA_wQ5Cbt8"
      },
      "execution_count": 110,
      "outputs": []
    },
    {
      "cell_type": "code",
      "source": [
        "evaluator = RegressionEvaluator()"
      ],
      "metadata": {
        "id": "QFW3pjY4CdLt"
      },
      "execution_count": 111,
      "outputs": []
    },
    {
      "cell_type": "code",
      "source": [
        "dtr_cv = CrossValidator(\n",
        "    estimator=dtr,\n",
        "    estimatorParamMaps=grid,\n",
        "    evaluator=evaluator,\n",
        "    numFolds=3,\n",
        "    seed = 101\n",
        "    )"
      ],
      "metadata": {
        "id": "ZDUkn7QQCeV3"
      },
      "execution_count": 112,
      "outputs": []
    },
    {
      "cell_type": "code",
      "source": [
        "modelo_dtr_cv = dtr_cv.fit(treino)"
      ],
      "metadata": {
        "id": "H1exMm7KCfzc",
        "colab": {
          "base_uri": "https://localhost:8080/",
          "height": 1000
        },
        "outputId": "6bbe0f5b-c176-4203-c70d-da26474de36c"
      },
      "execution_count": 115,
      "outputs": [
        {
          "output_type": "error",
          "ename": "Py4JJavaError",
          "evalue": "ignored",
          "traceback": [
            "\u001b[0;31m---------------------------------------------------------------------------\u001b[0m",
            "\u001b[0;31mPy4JJavaError\u001b[0m                             Traceback (most recent call last)",
            "\u001b[0;32m<ipython-input-115-c22130dc380b>\u001b[0m in \u001b[0;36m<module>\u001b[0;34m\u001b[0m\n\u001b[0;32m----> 1\u001b[0;31m \u001b[0mmodelo_dtr_cv\u001b[0m \u001b[0;34m=\u001b[0m \u001b[0mdtr_cv\u001b[0m\u001b[0;34m.\u001b[0m\u001b[0mfit\u001b[0m\u001b[0;34m(\u001b[0m\u001b[0mtreino\u001b[0m\u001b[0;34m)\u001b[0m\u001b[0;34m\u001b[0m\u001b[0;34m\u001b[0m\u001b[0m\n\u001b[0m",
            "\u001b[0;32m/content/spark-3.1.2-bin-hadoop2.7/python/pyspark/ml/base.py\u001b[0m in \u001b[0;36mfit\u001b[0;34m(self, dataset, params)\u001b[0m\n\u001b[1;32m    159\u001b[0m                 \u001b[0;32mreturn\u001b[0m \u001b[0mself\u001b[0m\u001b[0;34m.\u001b[0m\u001b[0mcopy\u001b[0m\u001b[0;34m(\u001b[0m\u001b[0mparams\u001b[0m\u001b[0;34m)\u001b[0m\u001b[0;34m.\u001b[0m\u001b[0m_fit\u001b[0m\u001b[0;34m(\u001b[0m\u001b[0mdataset\u001b[0m\u001b[0;34m)\u001b[0m\u001b[0;34m\u001b[0m\u001b[0;34m\u001b[0m\u001b[0m\n\u001b[1;32m    160\u001b[0m             \u001b[0;32melse\u001b[0m\u001b[0;34m:\u001b[0m\u001b[0;34m\u001b[0m\u001b[0;34m\u001b[0m\u001b[0m\n\u001b[0;32m--> 161\u001b[0;31m                 \u001b[0;32mreturn\u001b[0m \u001b[0mself\u001b[0m\u001b[0;34m.\u001b[0m\u001b[0m_fit\u001b[0m\u001b[0;34m(\u001b[0m\u001b[0mdataset\u001b[0m\u001b[0;34m)\u001b[0m\u001b[0;34m\u001b[0m\u001b[0;34m\u001b[0m\u001b[0m\n\u001b[0m\u001b[1;32m    162\u001b[0m         \u001b[0;32melse\u001b[0m\u001b[0;34m:\u001b[0m\u001b[0;34m\u001b[0m\u001b[0;34m\u001b[0m\u001b[0m\n\u001b[1;32m    163\u001b[0m             raise ValueError(\"Params must be either a param map or a list/tuple of param maps, \"\n",
            "\u001b[0;32m/content/spark-3.1.2-bin-hadoop2.7/python/pyspark/ml/tuning.py\u001b[0m in \u001b[0;36m_fit\u001b[0;34m(self, dataset)\u001b[0m\n\u001b[1;32m    685\u001b[0m \u001b[0;34m\u001b[0m\u001b[0m\n\u001b[1;32m    686\u001b[0m             \u001b[0mtasks\u001b[0m \u001b[0;34m=\u001b[0m \u001b[0m_parallelFitTasks\u001b[0m\u001b[0;34m(\u001b[0m\u001b[0mest\u001b[0m\u001b[0;34m,\u001b[0m \u001b[0mtrain\u001b[0m\u001b[0;34m,\u001b[0m \u001b[0meva\u001b[0m\u001b[0;34m,\u001b[0m \u001b[0mvalidation\u001b[0m\u001b[0;34m,\u001b[0m \u001b[0mepm\u001b[0m\u001b[0;34m,\u001b[0m \u001b[0mcollectSubModelsParam\u001b[0m\u001b[0;34m)\u001b[0m\u001b[0;34m\u001b[0m\u001b[0;34m\u001b[0m\u001b[0m\n\u001b[0;32m--> 687\u001b[0;31m             \u001b[0;32mfor\u001b[0m \u001b[0mj\u001b[0m\u001b[0;34m,\u001b[0m \u001b[0mmetric\u001b[0m\u001b[0;34m,\u001b[0m \u001b[0msubModel\u001b[0m \u001b[0;32min\u001b[0m \u001b[0mpool\u001b[0m\u001b[0;34m.\u001b[0m\u001b[0mimap_unordered\u001b[0m\u001b[0;34m(\u001b[0m\u001b[0;32mlambda\u001b[0m \u001b[0mf\u001b[0m\u001b[0;34m:\u001b[0m \u001b[0mf\u001b[0m\u001b[0;34m(\u001b[0m\u001b[0;34m)\u001b[0m\u001b[0;34m,\u001b[0m \u001b[0mtasks\u001b[0m\u001b[0;34m)\u001b[0m\u001b[0;34m:\u001b[0m\u001b[0;34m\u001b[0m\u001b[0;34m\u001b[0m\u001b[0m\n\u001b[0m\u001b[1;32m    688\u001b[0m                 \u001b[0mmetrics\u001b[0m\u001b[0;34m[\u001b[0m\u001b[0mj\u001b[0m\u001b[0;34m]\u001b[0m \u001b[0;34m+=\u001b[0m \u001b[0;34m(\u001b[0m\u001b[0mmetric\u001b[0m \u001b[0;34m/\u001b[0m \u001b[0mnFolds\u001b[0m\u001b[0;34m)\u001b[0m\u001b[0;34m\u001b[0m\u001b[0;34m\u001b[0m\u001b[0m\n\u001b[1;32m    689\u001b[0m                 \u001b[0;32mif\u001b[0m \u001b[0mcollectSubModelsParam\u001b[0m\u001b[0;34m:\u001b[0m\u001b[0;34m\u001b[0m\u001b[0;34m\u001b[0m\u001b[0m\n",
            "\u001b[0;32m/usr/lib/python3.8/multiprocessing/pool.py\u001b[0m in \u001b[0;36mnext\u001b[0;34m(self, timeout)\u001b[0m\n\u001b[1;32m    866\u001b[0m         \u001b[0;32mif\u001b[0m \u001b[0msuccess\u001b[0m\u001b[0;34m:\u001b[0m\u001b[0;34m\u001b[0m\u001b[0;34m\u001b[0m\u001b[0m\n\u001b[1;32m    867\u001b[0m             \u001b[0;32mreturn\u001b[0m \u001b[0mvalue\u001b[0m\u001b[0;34m\u001b[0m\u001b[0;34m\u001b[0m\u001b[0m\n\u001b[0;32m--> 868\u001b[0;31m         \u001b[0;32mraise\u001b[0m \u001b[0mvalue\u001b[0m\u001b[0;34m\u001b[0m\u001b[0;34m\u001b[0m\u001b[0m\n\u001b[0m\u001b[1;32m    869\u001b[0m \u001b[0;34m\u001b[0m\u001b[0m\n\u001b[1;32m    870\u001b[0m     \u001b[0m__next__\u001b[0m \u001b[0;34m=\u001b[0m \u001b[0mnext\u001b[0m                    \u001b[0;31m# XXX\u001b[0m\u001b[0;34m\u001b[0m\u001b[0;34m\u001b[0m\u001b[0m\n",
            "\u001b[0;32m/usr/lib/python3.8/multiprocessing/pool.py\u001b[0m in \u001b[0;36mworker\u001b[0;34m(inqueue, outqueue, initializer, initargs, maxtasks, wrap_exception)\u001b[0m\n\u001b[1;32m    123\u001b[0m         \u001b[0mjob\u001b[0m\u001b[0;34m,\u001b[0m \u001b[0mi\u001b[0m\u001b[0;34m,\u001b[0m \u001b[0mfunc\u001b[0m\u001b[0;34m,\u001b[0m \u001b[0margs\u001b[0m\u001b[0;34m,\u001b[0m \u001b[0mkwds\u001b[0m \u001b[0;34m=\u001b[0m \u001b[0mtask\u001b[0m\u001b[0;34m\u001b[0m\u001b[0;34m\u001b[0m\u001b[0m\n\u001b[1;32m    124\u001b[0m         \u001b[0;32mtry\u001b[0m\u001b[0;34m:\u001b[0m\u001b[0;34m\u001b[0m\u001b[0;34m\u001b[0m\u001b[0m\n\u001b[0;32m--> 125\u001b[0;31m             \u001b[0mresult\u001b[0m \u001b[0;34m=\u001b[0m \u001b[0;34m(\u001b[0m\u001b[0;32mTrue\u001b[0m\u001b[0;34m,\u001b[0m \u001b[0mfunc\u001b[0m\u001b[0;34m(\u001b[0m\u001b[0;34m*\u001b[0m\u001b[0margs\u001b[0m\u001b[0;34m,\u001b[0m \u001b[0;34m**\u001b[0m\u001b[0mkwds\u001b[0m\u001b[0;34m)\u001b[0m\u001b[0;34m)\u001b[0m\u001b[0;34m\u001b[0m\u001b[0;34m\u001b[0m\u001b[0m\n\u001b[0m\u001b[1;32m    126\u001b[0m         \u001b[0;32mexcept\u001b[0m \u001b[0mException\u001b[0m \u001b[0;32mas\u001b[0m \u001b[0me\u001b[0m\u001b[0;34m:\u001b[0m\u001b[0;34m\u001b[0m\u001b[0;34m\u001b[0m\u001b[0m\n\u001b[1;32m    127\u001b[0m             \u001b[0;32mif\u001b[0m \u001b[0mwrap_exception\u001b[0m \u001b[0;32mand\u001b[0m \u001b[0mfunc\u001b[0m \u001b[0;32mis\u001b[0m \u001b[0;32mnot\u001b[0m \u001b[0m_helper_reraises_exception\u001b[0m\u001b[0;34m:\u001b[0m\u001b[0;34m\u001b[0m\u001b[0;34m\u001b[0m\u001b[0m\n",
            "\u001b[0;32m/content/spark-3.1.2-bin-hadoop2.7/python/pyspark/ml/tuning.py\u001b[0m in \u001b[0;36m<lambda>\u001b[0;34m(f)\u001b[0m\n\u001b[1;32m    685\u001b[0m \u001b[0;34m\u001b[0m\u001b[0m\n\u001b[1;32m    686\u001b[0m             \u001b[0mtasks\u001b[0m \u001b[0;34m=\u001b[0m \u001b[0m_parallelFitTasks\u001b[0m\u001b[0;34m(\u001b[0m\u001b[0mest\u001b[0m\u001b[0;34m,\u001b[0m \u001b[0mtrain\u001b[0m\u001b[0;34m,\u001b[0m \u001b[0meva\u001b[0m\u001b[0;34m,\u001b[0m \u001b[0mvalidation\u001b[0m\u001b[0;34m,\u001b[0m \u001b[0mepm\u001b[0m\u001b[0;34m,\u001b[0m \u001b[0mcollectSubModelsParam\u001b[0m\u001b[0;34m)\u001b[0m\u001b[0;34m\u001b[0m\u001b[0;34m\u001b[0m\u001b[0m\n\u001b[0;32m--> 687\u001b[0;31m             \u001b[0;32mfor\u001b[0m \u001b[0mj\u001b[0m\u001b[0;34m,\u001b[0m \u001b[0mmetric\u001b[0m\u001b[0;34m,\u001b[0m \u001b[0msubModel\u001b[0m \u001b[0;32min\u001b[0m \u001b[0mpool\u001b[0m\u001b[0;34m.\u001b[0m\u001b[0mimap_unordered\u001b[0m\u001b[0;34m(\u001b[0m\u001b[0;32mlambda\u001b[0m \u001b[0mf\u001b[0m\u001b[0;34m:\u001b[0m \u001b[0mf\u001b[0m\u001b[0;34m(\u001b[0m\u001b[0;34m)\u001b[0m\u001b[0;34m,\u001b[0m \u001b[0mtasks\u001b[0m\u001b[0;34m)\u001b[0m\u001b[0;34m:\u001b[0m\u001b[0;34m\u001b[0m\u001b[0;34m\u001b[0m\u001b[0m\n\u001b[0m\u001b[1;32m    688\u001b[0m                 \u001b[0mmetrics\u001b[0m\u001b[0;34m[\u001b[0m\u001b[0mj\u001b[0m\u001b[0;34m]\u001b[0m \u001b[0;34m+=\u001b[0m \u001b[0;34m(\u001b[0m\u001b[0mmetric\u001b[0m \u001b[0;34m/\u001b[0m \u001b[0mnFolds\u001b[0m\u001b[0;34m)\u001b[0m\u001b[0;34m\u001b[0m\u001b[0;34m\u001b[0m\u001b[0m\n\u001b[1;32m    689\u001b[0m                 \u001b[0;32mif\u001b[0m \u001b[0mcollectSubModelsParam\u001b[0m\u001b[0;34m:\u001b[0m\u001b[0;34m\u001b[0m\u001b[0;34m\u001b[0m\u001b[0m\n",
            "\u001b[0;32m/content/spark-3.1.2-bin-hadoop2.7/python/pyspark/ml/tuning.py\u001b[0m in \u001b[0;36msingleTask\u001b[0;34m()\u001b[0m\n\u001b[1;32m     67\u001b[0m \u001b[0;34m\u001b[0m\u001b[0m\n\u001b[1;32m     68\u001b[0m     \u001b[0;32mdef\u001b[0m \u001b[0msingleTask\u001b[0m\u001b[0;34m(\u001b[0m\u001b[0;34m)\u001b[0m\u001b[0;34m:\u001b[0m\u001b[0;34m\u001b[0m\u001b[0;34m\u001b[0m\u001b[0m\n\u001b[0;32m---> 69\u001b[0;31m         \u001b[0mindex\u001b[0m\u001b[0;34m,\u001b[0m \u001b[0mmodel\u001b[0m \u001b[0;34m=\u001b[0m \u001b[0mnext\u001b[0m\u001b[0;34m(\u001b[0m\u001b[0mmodelIter\u001b[0m\u001b[0;34m)\u001b[0m\u001b[0;34m\u001b[0m\u001b[0;34m\u001b[0m\u001b[0m\n\u001b[0m\u001b[1;32m     70\u001b[0m         \u001b[0;31m# TODO: duplicate evaluator to take extra params from input\u001b[0m\u001b[0;34m\u001b[0m\u001b[0;34m\u001b[0m\u001b[0;34m\u001b[0m\u001b[0m\n\u001b[1;32m     71\u001b[0m         \u001b[0;31m#  Note: Supporting tuning params in evaluator need update method\u001b[0m\u001b[0;34m\u001b[0m\u001b[0;34m\u001b[0m\u001b[0;34m\u001b[0m\u001b[0m\n",
            "\u001b[0;32m/content/spark-3.1.2-bin-hadoop2.7/python/pyspark/ml/base.py\u001b[0m in \u001b[0;36m__next__\u001b[0;34m(self)\u001b[0m\n\u001b[1;32m     67\u001b[0m                 \u001b[0;32mraise\u001b[0m \u001b[0mStopIteration\u001b[0m\u001b[0;34m(\u001b[0m\u001b[0;34m\"No models remaining.\"\u001b[0m\u001b[0;34m)\u001b[0m\u001b[0;34m\u001b[0m\u001b[0;34m\u001b[0m\u001b[0m\n\u001b[1;32m     68\u001b[0m             \u001b[0mself\u001b[0m\u001b[0;34m.\u001b[0m\u001b[0mcounter\u001b[0m \u001b[0;34m+=\u001b[0m \u001b[0;36m1\u001b[0m\u001b[0;34m\u001b[0m\u001b[0;34m\u001b[0m\u001b[0m\n\u001b[0;32m---> 69\u001b[0;31m         \u001b[0;32mreturn\u001b[0m \u001b[0mindex\u001b[0m\u001b[0;34m,\u001b[0m \u001b[0mself\u001b[0m\u001b[0;34m.\u001b[0m\u001b[0mfitSingleModel\u001b[0m\u001b[0;34m(\u001b[0m\u001b[0mindex\u001b[0m\u001b[0;34m)\u001b[0m\u001b[0;34m\u001b[0m\u001b[0;34m\u001b[0m\u001b[0m\n\u001b[0m\u001b[1;32m     70\u001b[0m \u001b[0;34m\u001b[0m\u001b[0m\n\u001b[1;32m     71\u001b[0m     \u001b[0;32mdef\u001b[0m \u001b[0mnext\u001b[0m\u001b[0;34m(\u001b[0m\u001b[0mself\u001b[0m\u001b[0;34m)\u001b[0m\u001b[0;34m:\u001b[0m\u001b[0;34m\u001b[0m\u001b[0;34m\u001b[0m\u001b[0m\n",
            "\u001b[0;32m/content/spark-3.1.2-bin-hadoop2.7/python/pyspark/ml/base.py\u001b[0m in \u001b[0;36mfitSingleModel\u001b[0;34m(index)\u001b[0m\n\u001b[1;32m    124\u001b[0m \u001b[0;34m\u001b[0m\u001b[0m\n\u001b[1;32m    125\u001b[0m         \u001b[0;32mdef\u001b[0m \u001b[0mfitSingleModel\u001b[0m\u001b[0;34m(\u001b[0m\u001b[0mindex\u001b[0m\u001b[0;34m)\u001b[0m\u001b[0;34m:\u001b[0m\u001b[0;34m\u001b[0m\u001b[0;34m\u001b[0m\u001b[0m\n\u001b[0;32m--> 126\u001b[0;31m             \u001b[0;32mreturn\u001b[0m \u001b[0mestimator\u001b[0m\u001b[0;34m.\u001b[0m\u001b[0mfit\u001b[0m\u001b[0;34m(\u001b[0m\u001b[0mdataset\u001b[0m\u001b[0;34m,\u001b[0m \u001b[0mparamMaps\u001b[0m\u001b[0;34m[\u001b[0m\u001b[0mindex\u001b[0m\u001b[0;34m]\u001b[0m\u001b[0;34m)\u001b[0m\u001b[0;34m\u001b[0m\u001b[0;34m\u001b[0m\u001b[0m\n\u001b[0m\u001b[1;32m    127\u001b[0m \u001b[0;34m\u001b[0m\u001b[0m\n\u001b[1;32m    128\u001b[0m         \u001b[0;32mreturn\u001b[0m \u001b[0m_FitMultipleIterator\u001b[0m\u001b[0;34m(\u001b[0m\u001b[0mfitSingleModel\u001b[0m\u001b[0;34m,\u001b[0m \u001b[0mlen\u001b[0m\u001b[0;34m(\u001b[0m\u001b[0mparamMaps\u001b[0m\u001b[0;34m)\u001b[0m\u001b[0;34m)\u001b[0m\u001b[0;34m\u001b[0m\u001b[0;34m\u001b[0m\u001b[0m\n",
            "\u001b[0;32m/content/spark-3.1.2-bin-hadoop2.7/python/pyspark/ml/base.py\u001b[0m in \u001b[0;36mfit\u001b[0;34m(self, dataset, params)\u001b[0m\n\u001b[1;32m    157\u001b[0m         \u001b[0;32melif\u001b[0m \u001b[0misinstance\u001b[0m\u001b[0;34m(\u001b[0m\u001b[0mparams\u001b[0m\u001b[0;34m,\u001b[0m \u001b[0mdict\u001b[0m\u001b[0;34m)\u001b[0m\u001b[0;34m:\u001b[0m\u001b[0;34m\u001b[0m\u001b[0;34m\u001b[0m\u001b[0m\n\u001b[1;32m    158\u001b[0m             \u001b[0;32mif\u001b[0m \u001b[0mparams\u001b[0m\u001b[0;34m:\u001b[0m\u001b[0;34m\u001b[0m\u001b[0;34m\u001b[0m\u001b[0m\n\u001b[0;32m--> 159\u001b[0;31m                 \u001b[0;32mreturn\u001b[0m \u001b[0mself\u001b[0m\u001b[0;34m.\u001b[0m\u001b[0mcopy\u001b[0m\u001b[0;34m(\u001b[0m\u001b[0mparams\u001b[0m\u001b[0;34m)\u001b[0m\u001b[0;34m.\u001b[0m\u001b[0m_fit\u001b[0m\u001b[0;34m(\u001b[0m\u001b[0mdataset\u001b[0m\u001b[0;34m)\u001b[0m\u001b[0;34m\u001b[0m\u001b[0;34m\u001b[0m\u001b[0m\n\u001b[0m\u001b[1;32m    160\u001b[0m             \u001b[0;32melse\u001b[0m\u001b[0;34m:\u001b[0m\u001b[0;34m\u001b[0m\u001b[0;34m\u001b[0m\u001b[0m\n\u001b[1;32m    161\u001b[0m                 \u001b[0;32mreturn\u001b[0m \u001b[0mself\u001b[0m\u001b[0;34m.\u001b[0m\u001b[0m_fit\u001b[0m\u001b[0;34m(\u001b[0m\u001b[0mdataset\u001b[0m\u001b[0;34m)\u001b[0m\u001b[0;34m\u001b[0m\u001b[0;34m\u001b[0m\u001b[0m\n",
            "\u001b[0;32m/content/spark-3.1.2-bin-hadoop2.7/python/pyspark/ml/wrapper.py\u001b[0m in \u001b[0;36m_fit\u001b[0;34m(self, dataset)\u001b[0m\n\u001b[1;32m    333\u001b[0m \u001b[0;34m\u001b[0m\u001b[0m\n\u001b[1;32m    334\u001b[0m     \u001b[0;32mdef\u001b[0m \u001b[0m_fit\u001b[0m\u001b[0;34m(\u001b[0m\u001b[0mself\u001b[0m\u001b[0;34m,\u001b[0m \u001b[0mdataset\u001b[0m\u001b[0;34m)\u001b[0m\u001b[0;34m:\u001b[0m\u001b[0;34m\u001b[0m\u001b[0;34m\u001b[0m\u001b[0m\n\u001b[0;32m--> 335\u001b[0;31m         \u001b[0mjava_model\u001b[0m \u001b[0;34m=\u001b[0m \u001b[0mself\u001b[0m\u001b[0;34m.\u001b[0m\u001b[0m_fit_java\u001b[0m\u001b[0;34m(\u001b[0m\u001b[0mdataset\u001b[0m\u001b[0;34m)\u001b[0m\u001b[0;34m\u001b[0m\u001b[0;34m\u001b[0m\u001b[0m\n\u001b[0m\u001b[1;32m    336\u001b[0m         \u001b[0mmodel\u001b[0m \u001b[0;34m=\u001b[0m \u001b[0mself\u001b[0m\u001b[0;34m.\u001b[0m\u001b[0m_create_model\u001b[0m\u001b[0;34m(\u001b[0m\u001b[0mjava_model\u001b[0m\u001b[0;34m)\u001b[0m\u001b[0;34m\u001b[0m\u001b[0;34m\u001b[0m\u001b[0m\n\u001b[1;32m    337\u001b[0m         \u001b[0;32mreturn\u001b[0m \u001b[0mself\u001b[0m\u001b[0;34m.\u001b[0m\u001b[0m_copyValues\u001b[0m\u001b[0;34m(\u001b[0m\u001b[0mmodel\u001b[0m\u001b[0;34m)\u001b[0m\u001b[0;34m\u001b[0m\u001b[0;34m\u001b[0m\u001b[0m\n",
            "\u001b[0;32m/content/spark-3.1.2-bin-hadoop2.7/python/pyspark/ml/wrapper.py\u001b[0m in \u001b[0;36m_fit_java\u001b[0;34m(self, dataset)\u001b[0m\n\u001b[1;32m    330\u001b[0m         \"\"\"\n\u001b[1;32m    331\u001b[0m         \u001b[0mself\u001b[0m\u001b[0;34m.\u001b[0m\u001b[0m_transfer_params_to_java\u001b[0m\u001b[0;34m(\u001b[0m\u001b[0;34m)\u001b[0m\u001b[0;34m\u001b[0m\u001b[0;34m\u001b[0m\u001b[0m\n\u001b[0;32m--> 332\u001b[0;31m         \u001b[0;32mreturn\u001b[0m \u001b[0mself\u001b[0m\u001b[0;34m.\u001b[0m\u001b[0m_java_obj\u001b[0m\u001b[0;34m.\u001b[0m\u001b[0mfit\u001b[0m\u001b[0;34m(\u001b[0m\u001b[0mdataset\u001b[0m\u001b[0;34m.\u001b[0m\u001b[0m_jdf\u001b[0m\u001b[0;34m)\u001b[0m\u001b[0;34m\u001b[0m\u001b[0;34m\u001b[0m\u001b[0m\n\u001b[0m\u001b[1;32m    333\u001b[0m \u001b[0;34m\u001b[0m\u001b[0m\n\u001b[1;32m    334\u001b[0m     \u001b[0;32mdef\u001b[0m \u001b[0m_fit\u001b[0m\u001b[0;34m(\u001b[0m\u001b[0mself\u001b[0m\u001b[0;34m,\u001b[0m \u001b[0mdataset\u001b[0m\u001b[0;34m)\u001b[0m\u001b[0;34m:\u001b[0m\u001b[0;34m\u001b[0m\u001b[0;34m\u001b[0m\u001b[0m\n",
            "\u001b[0;32m/content/spark-3.1.2-bin-hadoop2.7/python/lib/py4j-0.10.9-src.zip/py4j/java_gateway.py\u001b[0m in \u001b[0;36m__call__\u001b[0;34m(self, *args)\u001b[0m\n\u001b[1;32m   1302\u001b[0m \u001b[0;34m\u001b[0m\u001b[0m\n\u001b[1;32m   1303\u001b[0m         \u001b[0manswer\u001b[0m \u001b[0;34m=\u001b[0m \u001b[0mself\u001b[0m\u001b[0;34m.\u001b[0m\u001b[0mgateway_client\u001b[0m\u001b[0;34m.\u001b[0m\u001b[0msend_command\u001b[0m\u001b[0;34m(\u001b[0m\u001b[0mcommand\u001b[0m\u001b[0;34m)\u001b[0m\u001b[0;34m\u001b[0m\u001b[0;34m\u001b[0m\u001b[0m\n\u001b[0;32m-> 1304\u001b[0;31m         return_value = get_return_value(\n\u001b[0m\u001b[1;32m   1305\u001b[0m             answer, self.gateway_client, self.target_id, self.name)\n\u001b[1;32m   1306\u001b[0m \u001b[0;34m\u001b[0m\u001b[0m\n",
            "\u001b[0;32m/content/spark-3.1.2-bin-hadoop2.7/python/pyspark/sql/utils.py\u001b[0m in \u001b[0;36mdeco\u001b[0;34m(*a, **kw)\u001b[0m\n\u001b[1;32m    109\u001b[0m     \u001b[0;32mdef\u001b[0m \u001b[0mdeco\u001b[0m\u001b[0;34m(\u001b[0m\u001b[0;34m*\u001b[0m\u001b[0ma\u001b[0m\u001b[0;34m,\u001b[0m \u001b[0;34m**\u001b[0m\u001b[0mkw\u001b[0m\u001b[0;34m)\u001b[0m\u001b[0;34m:\u001b[0m\u001b[0;34m\u001b[0m\u001b[0;34m\u001b[0m\u001b[0m\n\u001b[1;32m    110\u001b[0m         \u001b[0;32mtry\u001b[0m\u001b[0;34m:\u001b[0m\u001b[0;34m\u001b[0m\u001b[0;34m\u001b[0m\u001b[0m\n\u001b[0;32m--> 111\u001b[0;31m             \u001b[0;32mreturn\u001b[0m \u001b[0mf\u001b[0m\u001b[0;34m(\u001b[0m\u001b[0;34m*\u001b[0m\u001b[0ma\u001b[0m\u001b[0;34m,\u001b[0m \u001b[0;34m**\u001b[0m\u001b[0mkw\u001b[0m\u001b[0;34m)\u001b[0m\u001b[0;34m\u001b[0m\u001b[0;34m\u001b[0m\u001b[0m\n\u001b[0m\u001b[1;32m    112\u001b[0m         \u001b[0;32mexcept\u001b[0m \u001b[0mpy4j\u001b[0m\u001b[0;34m.\u001b[0m\u001b[0mprotocol\u001b[0m\u001b[0;34m.\u001b[0m\u001b[0mPy4JJavaError\u001b[0m \u001b[0;32mas\u001b[0m \u001b[0me\u001b[0m\u001b[0;34m:\u001b[0m\u001b[0;34m\u001b[0m\u001b[0;34m\u001b[0m\u001b[0m\n\u001b[1;32m    113\u001b[0m             \u001b[0mconverted\u001b[0m \u001b[0;34m=\u001b[0m \u001b[0mconvert_exception\u001b[0m\u001b[0;34m(\u001b[0m\u001b[0me\u001b[0m\u001b[0;34m.\u001b[0m\u001b[0mjava_exception\u001b[0m\u001b[0;34m)\u001b[0m\u001b[0;34m\u001b[0m\u001b[0;34m\u001b[0m\u001b[0m\n",
            "\u001b[0;32m/content/spark-3.1.2-bin-hadoop2.7/python/lib/py4j-0.10.9-src.zip/py4j/protocol.py\u001b[0m in \u001b[0;36mget_return_value\u001b[0;34m(answer, gateway_client, target_id, name)\u001b[0m\n\u001b[1;32m    324\u001b[0m             \u001b[0mvalue\u001b[0m \u001b[0;34m=\u001b[0m \u001b[0mOUTPUT_CONVERTER\u001b[0m\u001b[0;34m[\u001b[0m\u001b[0mtype\u001b[0m\u001b[0;34m]\u001b[0m\u001b[0;34m(\u001b[0m\u001b[0manswer\u001b[0m\u001b[0;34m[\u001b[0m\u001b[0;36m2\u001b[0m\u001b[0;34m:\u001b[0m\u001b[0;34m]\u001b[0m\u001b[0;34m,\u001b[0m \u001b[0mgateway_client\u001b[0m\u001b[0;34m)\u001b[0m\u001b[0;34m\u001b[0m\u001b[0;34m\u001b[0m\u001b[0m\n\u001b[1;32m    325\u001b[0m             \u001b[0;32mif\u001b[0m \u001b[0manswer\u001b[0m\u001b[0;34m[\u001b[0m\u001b[0;36m1\u001b[0m\u001b[0;34m]\u001b[0m \u001b[0;34m==\u001b[0m \u001b[0mREFERENCE_TYPE\u001b[0m\u001b[0;34m:\u001b[0m\u001b[0;34m\u001b[0m\u001b[0;34m\u001b[0m\u001b[0m\n\u001b[0;32m--> 326\u001b[0;31m                 raise Py4JJavaError(\n\u001b[0m\u001b[1;32m    327\u001b[0m                     \u001b[0;34m\"An error occurred while calling {0}{1}{2}.\\n\"\u001b[0m\u001b[0;34m.\u001b[0m\u001b[0;34m\u001b[0m\u001b[0;34m\u001b[0m\u001b[0m\n\u001b[1;32m    328\u001b[0m                     format(target_id, \".\", name), value)\n",
            "\u001b[0;31mPy4JJavaError\u001b[0m: An error occurred while calling o6855.fit.\n: org.apache.spark.SparkException: Job aborted due to stage failure: Task 0 in stage 2397.0 failed 1 times, most recent failure: Lost task 0.0 in stage 2397.0 (TID 128654) (c7422bd056c5 executor driver): java.lang.OutOfMemoryError: GC overhead limit exceeded\n\tat net.jpountz.lz4.LZ4BlockOutputStream.<init>(LZ4BlockOutputStream.java:100)\n\tat org.apache.spark.io.LZ4CompressionCodec.compressedOutputStream(CompressionCodec.scala:144)\n\tat org.apache.spark.serializer.SerializerManager.wrapForCompression(SerializerManager.scala:158)\n\tat org.apache.spark.serializer.SerializerManager.wrapStream(SerializerManager.scala:133)\n\tat org.apache.spark.storage.DiskBlockObjectWriter.open(DiskBlockObjectWriter.scala:122)\n\tat org.apache.spark.storage.DiskBlockObjectWriter.write(DiskBlockObjectWriter.scala:245)\n\tat org.apache.spark.shuffle.sort.BypassMergeSortShuffleWriter.write(BypassMergeSortShuffleWriter.java:158)\n\tat org.apache.spark.shuffle.ShuffleWriteProcessor.write(ShuffleWriteProcessor.scala:59)\n\tat org.apache.spark.scheduler.ShuffleMapTask.runTask(ShuffleMapTask.scala:99)\n\tat org.apache.spark.scheduler.ShuffleMapTask.runTask(ShuffleMapTask.scala:52)\n\tat org.apache.spark.scheduler.Task.run(Task.scala:131)\n\tat org.apache.spark.executor.Executor$TaskRunner.$anonfun$run$3(Executor.scala:497)\n\tat org.apache.spark.executor.Executor$TaskRunner$$Lambda$2007/1170087644.apply(Unknown Source)\n\tat org.apache.spark.util.Utils$.tryWithSafeFinally(Utils.scala:1439)\n\tat org.apache.spark.executor.Executor$TaskRunner.run(Executor.scala:500)\n\tat java.util.concurrent.ThreadPoolExecutor.runWorker(ThreadPoolExecutor.java:1149)\n\tat java.util.concurrent.ThreadPoolExecutor$Worker.run(ThreadPoolExecutor.java:624)\n\tat java.lang.Thread.run(Thread.java:750)\n\nDriver stacktrace:\n\tat org.apache.spark.scheduler.DAGScheduler.failJobAndIndependentStages(DAGScheduler.scala:2258)\n\tat org.apache.spark.scheduler.DAGScheduler.$anonfun$abortStage$2(DAGScheduler.scala:2207)\n\tat org.apache.spark.scheduler.DAGScheduler.$anonfun$abortStage$2$adapted(DAGScheduler.scala:2206)\n\tat scala.collection.mutable.ResizableArray.foreach(ResizableArray.scala:62)\n\tat scala.collection.mutable.ResizableArray.foreach$(ResizableArray.scala:55)\n\tat scala.collection.mutable.ArrayBuffer.foreach(ArrayBuffer.scala:49)\n\tat org.apache.spark.scheduler.DAGScheduler.abortStage(DAGScheduler.scala:2206)\n\tat org.apache.spark.scheduler.DAGScheduler.$anonfun$handleTaskSetFailed$1(DAGScheduler.scala:1079)\n\tat org.apache.spark.scheduler.DAGScheduler.$anonfun$handleTaskSetFailed$1$adapted(DAGScheduler.scala:1079)\n\tat scala.Option.foreach(Option.scala:407)\n\tat org.apache.spark.scheduler.DAGScheduler.handleTaskSetFailed(DAGScheduler.scala:1079)\n\tat org.apache.spark.scheduler.DAGSchedulerEventProcessLoop.doOnReceive(DAGScheduler.scala:2445)\n\tat org.apache.spark.scheduler.DAGSchedulerEventProcessLoop.onReceive(DAGScheduler.scala:2387)\n\tat org.apache.spark.scheduler.DAGSchedulerEventProcessLoop.onReceive(DAGScheduler.scala:2376)\n\tat org.apache.spark.util.EventLoop$$anon$1.run(EventLoop.scala:49)\n\tat org.apache.spark.scheduler.DAGScheduler.runJob(DAGScheduler.scala:868)\n\tat org.apache.spark.SparkContext.runJob(SparkContext.scala:2196)\n\tat org.apache.spark.SparkContext.runJob(SparkContext.scala:2217)\n\tat org.apache.spark.SparkContext.runJob(SparkContext.scala:2236)\n\tat org.apache.spark.rdd.RDD.$anonfun$take$1(RDD.scala:1449)\n\tat org.apache.spark.rdd.RDDOperationScope$.withScope(RDDOperationScope.scala:151)\n\tat org.apache.spark.rdd.RDDOperationScope$.withScope(RDDOperationScope.scala:112)\n\tat org.apache.spark.rdd.RDD.withScope(RDD.scala:414)\n\tat org.apache.spark.rdd.RDD.take(RDD.scala:1422)\n\tat org.apache.spark.ml.tree.impl.DecisionTreeMetadata$.buildMetadata(DecisionTreeMetadata.scala:119)\n\tat org.apache.spark.ml.tree.impl.RandomForest$.run(RandomForest.scala:274)\n\tat org.apache.spark.ml.regression.DecisionTreeRegressor.$anonfun$train$1(DecisionTreeRegressor.scala:126)\n\tat org.apache.spark.ml.util.Instrumentation$.$anonfun$instrumented$1(Instrumentation.scala:191)\n\tat scala.util.Try$.apply(Try.scala:213)\n\tat org.apache.spark.ml.util.Instrumentation$.instrumented(Instrumentation.scala:191)\n\tat org.apache.spark.ml.regression.DecisionTreeRegressor.train(DecisionTreeRegressor.scala:114)\n\tat org.apache.spark.ml.regression.DecisionTreeRegressor.train(DecisionTreeRegressor.scala:44)\n\tat org.apache.spark.ml.Predictor.fit(Predictor.scala:151)\n\tat sun.reflect.GeneratedMethodAccessor223.invoke(Unknown Source)\n\tat sun.reflect.DelegatingMethodAccessorImpl.invoke(DelegatingMethodAccessorImpl.java:43)\n\tat java.lang.reflect.Method.invoke(Method.java:498)\n\tat py4j.reflection.MethodInvoker.invoke(MethodInvoker.java:244)\n\tat py4j.reflection.ReflectionEngine.invoke(ReflectionEngine.java:357)\n\tat py4j.Gateway.invoke(Gateway.java:282)\n\tat py4j.commands.AbstractCommand.invokeMethod(AbstractCommand.java:132)\n\tat py4j.commands.CallCommand.execute(CallCommand.java:79)\n\tat py4j.GatewayConnection.run(GatewayConnection.java:238)\n\tat java.lang.Thread.run(Thread.java:750)\nCaused by: java.lang.OutOfMemoryError: GC overhead limit exceeded\n\tat net.jpountz.lz4.LZ4BlockOutputStream.<init>(LZ4BlockOutputStream.java:100)\n\tat org.apache.spark.io.LZ4CompressionCodec.compressedOutputStream(CompressionCodec.scala:144)\n\tat org.apache.spark.serializer.SerializerManager.wrapForCompression(SerializerManager.scala:158)\n\tat org.apache.spark.serializer.SerializerManager.wrapStream(SerializerManager.scala:133)\n\tat org.apache.spark.storage.DiskBlockObjectWriter.open(DiskBlockObjectWriter.scala:122)\n\tat org.apache.spark.storage.DiskBlockObjectWriter.write(DiskBlockObjectWriter.scala:245)\n\tat org.apache.spark.shuffle.sort.BypassMergeSortShuffleWriter.write(BypassMergeSortShuffleWriter.java:158)\n\tat org.apache.spark.shuffle.ShuffleWriteProcessor.write(ShuffleWriteProcessor.scala:59)\n\tat org.apache.spark.scheduler.ShuffleMapTask.runTask(ShuffleMapTask.scala:99)\n\tat org.apache.spark.scheduler.ShuffleMapTask.runTask(ShuffleMapTask.scala:52)\n\tat org.apache.spark.scheduler.Task.run(Task.scala:131)\n\tat org.apache.spark.executor.Executor$TaskRunner.$anonfun$run$3(Executor.scala:497)\n\tat org.apache.spark.executor.Executor$TaskRunner$$Lambda$2007/1170087644.apply(Unknown Source)\n\tat org.apache.spark.util.Utils$.tryWithSafeFinally(Utils.scala:1439)\n\tat org.apache.spark.executor.Executor$TaskRunner.run(Executor.scala:500)\n\tat java.util.concurrent.ThreadPoolExecutor.runWorker(ThreadPoolExecutor.java:1149)\n\tat java.util.concurrent.ThreadPoolExecutor$Worker.run(ThreadPoolExecutor.java:624)\n\t... 1 more\n"
          ]
        }
      ]
    },
    {
      "cell_type": "code",
      "source": [
        "previsoes_dtr_cv_teste = modelo_dtr_cv.transform(teste)"
      ],
      "metadata": {
        "id": "hrjTdgQUChBH"
      },
      "execution_count": null,
      "outputs": []
    },
    {
      "cell_type": "code",
      "source": [
        "print('Árvore de Decisão')\n",
        "print(\"=\"*30)\n",
        "print(\"Sem Cross Validation\")\n",
        "print(\"=\"*30)\n",
        "print(\"R²: %f\" % evaluator.evaluate(previsoes_dtr_teste, {evaluator.metricName: \"r2\"}))\n",
        "print(\"RMSE: %f\" % evaluator.evaluate(previsoes_dtr_teste, {evaluator.metricName: \"rmse\"}))\n",
        "print(\"\")\n",
        "print(\"=\"*30)\n",
        "print(\"Com Cross Validation\")\n",
        "print(\"=\"*30)\n",
        "print(\"R²: %f\" % evaluator.evaluate(previsoes_dtr_cv_teste, {evaluator.metricName: \"r2\"}))\n",
        "print(\"RMSE: %f\" % evaluator.evaluate(previsoes_dtr_cv_teste, {evaluator.metricName: \"rmse\"}))"
      ],
      "metadata": {
        "colab": {
          "base_uri": "https://localhost:8080/"
        },
        "id": "LxAaY2E5CiVj",
        "outputId": "dd009d3c-c49f-453e-88e6-e00785e8c886"
      },
      "execution_count": 114,
      "outputs": [
        {
          "output_type": "stream",
          "name": "stdout",
          "text": [
            "Árvore de Decisão\n",
            "==============================\n",
            "Sem Cross Validation\n",
            "==============================\n",
            "R²: 0.764727\n",
            "RMSE: 724366.921366\n",
            "\n",
            "==============================\n",
            "Com Cross Validation\n",
            "==============================\n",
            "R²: 0.795303\n",
            "RMSE: 675660.469896\n"
          ]
        }
      ]
    },
    {
      "cell_type": "markdown",
      "source": [
        "# **Random Forest com Cross Validation**"
      ],
      "metadata": {
        "id": "NFPPFcq6DQ2s"
      }
    },
    {
      "cell_type": "code",
      "source": [
        "from pyspark.ml.regression import RandomForestRegressor"
      ],
      "metadata": {
        "id": "Vzqae7bXDVWF"
      },
      "execution_count": 115,
      "outputs": []
    },
    {
      "cell_type": "code",
      "source": [
        "rfr = RandomForestRegressor()"
      ],
      "metadata": {
        "id": "nlenIbPVDXVU"
      },
      "execution_count": 116,
      "outputs": []
    },
    {
      "cell_type": "code",
      "source": [
        "grid = ParamGridBuilder() \\\n",
        "    .addGrid(rfr.numTrees, [10, 20, 30]) \\\n",
        "    .addGrid(rfr.maxDepth, [5, 10]) \\\n",
        "    .addGrid(rfr.maxBins, [10, 32, 45]) \\\n",
        "    .build()"
      ],
      "metadata": {
        "id": "NwAKsEafDYW7"
      },
      "execution_count": 117,
      "outputs": []
    },
    {
      "cell_type": "code",
      "source": [
        "evaluator = RegressionEvaluator()"
      ],
      "metadata": {
        "id": "1KRJPlAsDZsh"
      },
      "execution_count": 118,
      "outputs": []
    },
    {
      "cell_type": "code",
      "source": [
        "rfr_cv = CrossValidator(\n",
        "    estimator=rfr,\n",
        "    estimatorParamMaps=grid,\n",
        "    evaluator=evaluator,\n",
        "    numFolds=3\n",
        ")"
      ],
      "metadata": {
        "id": "hgfuufcCDa_I"
      },
      "execution_count": 119,
      "outputs": []
    },
    {
      "cell_type": "code",
      "source": [
        "modelo_rfr_cv = rfr_cv.fit(treino)"
      ],
      "metadata": {
        "colab": {
          "base_uri": "https://localhost:8080/",
          "height": 727
        },
        "id": "VaZE95WfDcV4",
        "outputId": "7d29107f-ffac-49cc-ccb4-694c37f16284"
      },
      "execution_count": 125,
      "outputs": [
        {
          "output_type": "stream",
          "name": "stderr",
          "text": [
            "ERROR:py4j.java_gateway:An error occurred while trying to connect to the Java server (127.0.0.1:34879)\n",
            "Traceback (most recent call last):\n",
            "  File \"/content/spark-3.1.2-bin-hadoop2.7/python/lib/py4j-0.10.9-src.zip/py4j/java_gateway.py\", line 977, in _get_connection\n",
            "    connection = self.deque.pop()\n",
            "IndexError: pop from an empty deque\n",
            "\n",
            "During handling of the above exception, another exception occurred:\n",
            "\n",
            "Traceback (most recent call last):\n",
            "  File \"/content/spark-3.1.2-bin-hadoop2.7/python/lib/py4j-0.10.9-src.zip/py4j/java_gateway.py\", line 1115, in start\n",
            "    self.socket.connect((self.address, self.port))\n",
            "ConnectionRefusedError: [Errno 111] Connection refused\n"
          ]
        },
        {
          "output_type": "error",
          "ename": "Py4JNetworkError",
          "evalue": "ignored",
          "traceback": [
            "\u001b[0;31m---------------------------------------------------------------------------\u001b[0m",
            "\u001b[0;31mIndexError\u001b[0m                                Traceback (most recent call last)",
            "\u001b[0;32m/content/spark-3.1.2-bin-hadoop2.7/python/lib/py4j-0.10.9-src.zip/py4j/java_gateway.py\u001b[0m in \u001b[0;36m_get_connection\u001b[0;34m(self)\u001b[0m\n\u001b[1;32m    976\u001b[0m         \u001b[0;32mtry\u001b[0m\u001b[0;34m:\u001b[0m\u001b[0;34m\u001b[0m\u001b[0;34m\u001b[0m\u001b[0m\n\u001b[0;32m--> 977\u001b[0;31m             \u001b[0mconnection\u001b[0m \u001b[0;34m=\u001b[0m \u001b[0mself\u001b[0m\u001b[0;34m.\u001b[0m\u001b[0mdeque\u001b[0m\u001b[0;34m.\u001b[0m\u001b[0mpop\u001b[0m\u001b[0;34m(\u001b[0m\u001b[0;34m)\u001b[0m\u001b[0;34m\u001b[0m\u001b[0;34m\u001b[0m\u001b[0m\n\u001b[0m\u001b[1;32m    978\u001b[0m         \u001b[0;32mexcept\u001b[0m \u001b[0mIndexError\u001b[0m\u001b[0;34m:\u001b[0m\u001b[0;34m\u001b[0m\u001b[0;34m\u001b[0m\u001b[0m\n",
            "\u001b[0;31mIndexError\u001b[0m: pop from an empty deque",
            "\nDuring handling of the above exception, another exception occurred:\n",
            "\u001b[0;31mConnectionRefusedError\u001b[0m                    Traceback (most recent call last)",
            "\u001b[0;32m/content/spark-3.1.2-bin-hadoop2.7/python/lib/py4j-0.10.9-src.zip/py4j/java_gateway.py\u001b[0m in \u001b[0;36mstart\u001b[0;34m(self)\u001b[0m\n\u001b[1;32m   1114\u001b[0m         \u001b[0;32mtry\u001b[0m\u001b[0;34m:\u001b[0m\u001b[0;34m\u001b[0m\u001b[0;34m\u001b[0m\u001b[0m\n\u001b[0;32m-> 1115\u001b[0;31m             \u001b[0mself\u001b[0m\u001b[0;34m.\u001b[0m\u001b[0msocket\u001b[0m\u001b[0;34m.\u001b[0m\u001b[0mconnect\u001b[0m\u001b[0;34m(\u001b[0m\u001b[0;34m(\u001b[0m\u001b[0mself\u001b[0m\u001b[0;34m.\u001b[0m\u001b[0maddress\u001b[0m\u001b[0;34m,\u001b[0m \u001b[0mself\u001b[0m\u001b[0;34m.\u001b[0m\u001b[0mport\u001b[0m\u001b[0;34m)\u001b[0m\u001b[0;34m)\u001b[0m\u001b[0;34m\u001b[0m\u001b[0;34m\u001b[0m\u001b[0m\n\u001b[0m\u001b[1;32m   1116\u001b[0m             \u001b[0mself\u001b[0m\u001b[0;34m.\u001b[0m\u001b[0mstream\u001b[0m \u001b[0;34m=\u001b[0m \u001b[0mself\u001b[0m\u001b[0;34m.\u001b[0m\u001b[0msocket\u001b[0m\u001b[0;34m.\u001b[0m\u001b[0mmakefile\u001b[0m\u001b[0;34m(\u001b[0m\u001b[0;34m\"rb\"\u001b[0m\u001b[0;34m)\u001b[0m\u001b[0;34m\u001b[0m\u001b[0;34m\u001b[0m\u001b[0m\n",
            "\u001b[0;31mConnectionRefusedError\u001b[0m: [Errno 111] Connection refused",
            "\nDuring handling of the above exception, another exception occurred:\n",
            "\u001b[0;31mPy4JNetworkError\u001b[0m                          Traceback (most recent call last)",
            "\u001b[0;32m<ipython-input-125-b1a6b3187302>\u001b[0m in \u001b[0;36m<module>\u001b[0;34m\u001b[0m\n\u001b[0;32m----> 1\u001b[0;31m \u001b[0mmodelo_rfr_cv\u001b[0m \u001b[0;34m=\u001b[0m \u001b[0mrfr_cv\u001b[0m\u001b[0;34m.\u001b[0m\u001b[0mfit\u001b[0m\u001b[0;34m(\u001b[0m\u001b[0mtreino\u001b[0m\u001b[0;34m)\u001b[0m\u001b[0;34m\u001b[0m\u001b[0;34m\u001b[0m\u001b[0m\n\u001b[0m",
            "\u001b[0;32m/content/spark-3.1.2-bin-hadoop2.7/python/pyspark/ml/base.py\u001b[0m in \u001b[0;36mfit\u001b[0;34m(self, dataset, params)\u001b[0m\n\u001b[1;32m    159\u001b[0m                 \u001b[0;32mreturn\u001b[0m \u001b[0mself\u001b[0m\u001b[0;34m.\u001b[0m\u001b[0mcopy\u001b[0m\u001b[0;34m(\u001b[0m\u001b[0mparams\u001b[0m\u001b[0;34m)\u001b[0m\u001b[0;34m.\u001b[0m\u001b[0m_fit\u001b[0m\u001b[0;34m(\u001b[0m\u001b[0mdataset\u001b[0m\u001b[0;34m)\u001b[0m\u001b[0;34m\u001b[0m\u001b[0;34m\u001b[0m\u001b[0m\n\u001b[1;32m    160\u001b[0m             \u001b[0;32melse\u001b[0m\u001b[0;34m:\u001b[0m\u001b[0;34m\u001b[0m\u001b[0;34m\u001b[0m\u001b[0m\n\u001b[0;32m--> 161\u001b[0;31m                 \u001b[0;32mreturn\u001b[0m \u001b[0mself\u001b[0m\u001b[0;34m.\u001b[0m\u001b[0m_fit\u001b[0m\u001b[0;34m(\u001b[0m\u001b[0mdataset\u001b[0m\u001b[0;34m)\u001b[0m\u001b[0;34m\u001b[0m\u001b[0;34m\u001b[0m\u001b[0m\n\u001b[0m\u001b[1;32m    162\u001b[0m         \u001b[0;32melse\u001b[0m\u001b[0;34m:\u001b[0m\u001b[0;34m\u001b[0m\u001b[0;34m\u001b[0m\u001b[0m\n\u001b[1;32m    163\u001b[0m             raise ValueError(\"Params must be either a param map or a list/tuple of param maps, \"\n",
            "\u001b[0;32m/content/spark-3.1.2-bin-hadoop2.7/python/pyspark/ml/tuning.py\u001b[0m in \u001b[0;36m_fit\u001b[0;34m(self, dataset)\u001b[0m\n\u001b[1;32m    679\u001b[0m             \u001b[0msubModels\u001b[0m \u001b[0;34m=\u001b[0m \u001b[0;34m[\u001b[0m\u001b[0;34m[\u001b[0m\u001b[0;32mNone\u001b[0m \u001b[0;32mfor\u001b[0m \u001b[0mj\u001b[0m \u001b[0;32min\u001b[0m \u001b[0mrange\u001b[0m\u001b[0;34m(\u001b[0m\u001b[0mnumModels\u001b[0m\u001b[0;34m)\u001b[0m\u001b[0;34m]\u001b[0m \u001b[0;32mfor\u001b[0m \u001b[0mi\u001b[0m \u001b[0;32min\u001b[0m \u001b[0mrange\u001b[0m\u001b[0;34m(\u001b[0m\u001b[0mnFolds\u001b[0m\u001b[0;34m)\u001b[0m\u001b[0;34m]\u001b[0m\u001b[0;34m\u001b[0m\u001b[0;34m\u001b[0m\u001b[0m\n\u001b[1;32m    680\u001b[0m \u001b[0;34m\u001b[0m\u001b[0m\n\u001b[0;32m--> 681\u001b[0;31m         \u001b[0mdatasets\u001b[0m \u001b[0;34m=\u001b[0m \u001b[0mself\u001b[0m\u001b[0;34m.\u001b[0m\u001b[0m_kFold\u001b[0m\u001b[0;34m(\u001b[0m\u001b[0mdataset\u001b[0m\u001b[0;34m)\u001b[0m\u001b[0;34m\u001b[0m\u001b[0;34m\u001b[0m\u001b[0m\n\u001b[0m\u001b[1;32m    682\u001b[0m         \u001b[0;32mfor\u001b[0m \u001b[0mi\u001b[0m \u001b[0;32min\u001b[0m \u001b[0mrange\u001b[0m\u001b[0;34m(\u001b[0m\u001b[0mnFolds\u001b[0m\u001b[0;34m)\u001b[0m\u001b[0;34m:\u001b[0m\u001b[0;34m\u001b[0m\u001b[0;34m\u001b[0m\u001b[0m\n\u001b[1;32m    683\u001b[0m             \u001b[0mvalidation\u001b[0m \u001b[0;34m=\u001b[0m \u001b[0mdatasets\u001b[0m\u001b[0;34m[\u001b[0m\u001b[0mi\u001b[0m\u001b[0;34m]\u001b[0m\u001b[0;34m[\u001b[0m\u001b[0;36m1\u001b[0m\u001b[0;34m]\u001b[0m\u001b[0;34m.\u001b[0m\u001b[0mcache\u001b[0m\u001b[0;34m(\u001b[0m\u001b[0;34m)\u001b[0m\u001b[0;34m\u001b[0m\u001b[0;34m\u001b[0m\u001b[0m\n",
            "\u001b[0;32m/content/spark-3.1.2-bin-hadoop2.7/python/pyspark/ml/tuning.py\u001b[0m in \u001b[0;36m_kFold\u001b[0;34m(self, dataset)\u001b[0m\n\u001b[1;32m    710\u001b[0m             \u001b[0mh\u001b[0m \u001b[0;34m=\u001b[0m \u001b[0;36m1.0\u001b[0m \u001b[0;34m/\u001b[0m \u001b[0mnFolds\u001b[0m\u001b[0;34m\u001b[0m\u001b[0;34m\u001b[0m\u001b[0m\n\u001b[1;32m    711\u001b[0m             \u001b[0mrandCol\u001b[0m \u001b[0;34m=\u001b[0m \u001b[0mself\u001b[0m\u001b[0;34m.\u001b[0m\u001b[0muid\u001b[0m \u001b[0;34m+\u001b[0m \u001b[0;34m\"_rand\"\u001b[0m\u001b[0;34m\u001b[0m\u001b[0;34m\u001b[0m\u001b[0m\n\u001b[0;32m--> 712\u001b[0;31m             \u001b[0mdf\u001b[0m \u001b[0;34m=\u001b[0m \u001b[0mdataset\u001b[0m\u001b[0;34m.\u001b[0m\u001b[0mselect\u001b[0m\u001b[0;34m(\u001b[0m\u001b[0;34m\"*\"\u001b[0m\u001b[0;34m,\u001b[0m \u001b[0mrand\u001b[0m\u001b[0;34m(\u001b[0m\u001b[0mseed\u001b[0m\u001b[0;34m)\u001b[0m\u001b[0;34m.\u001b[0m\u001b[0malias\u001b[0m\u001b[0;34m(\u001b[0m\u001b[0mrandCol\u001b[0m\u001b[0;34m)\u001b[0m\u001b[0;34m)\u001b[0m\u001b[0;34m\u001b[0m\u001b[0;34m\u001b[0m\u001b[0m\n\u001b[0m\u001b[1;32m    713\u001b[0m             \u001b[0;32mfor\u001b[0m \u001b[0mi\u001b[0m \u001b[0;32min\u001b[0m \u001b[0mrange\u001b[0m\u001b[0;34m(\u001b[0m\u001b[0mnFolds\u001b[0m\u001b[0;34m)\u001b[0m\u001b[0;34m:\u001b[0m\u001b[0;34m\u001b[0m\u001b[0;34m\u001b[0m\u001b[0m\n\u001b[1;32m    714\u001b[0m                 \u001b[0mvalidateLB\u001b[0m \u001b[0;34m=\u001b[0m \u001b[0mi\u001b[0m \u001b[0;34m*\u001b[0m \u001b[0mh\u001b[0m\u001b[0;34m\u001b[0m\u001b[0;34m\u001b[0m\u001b[0m\n",
            "\u001b[0;32m/content/spark-3.1.2-bin-hadoop2.7/python/pyspark/sql/functions.py\u001b[0m in \u001b[0;36mrand\u001b[0;34m(seed)\u001b[0m\n\u001b[1;32m   1189\u001b[0m     \u001b[0msc\u001b[0m \u001b[0;34m=\u001b[0m \u001b[0mSparkContext\u001b[0m\u001b[0;34m.\u001b[0m\u001b[0m_active_spark_context\u001b[0m\u001b[0;34m\u001b[0m\u001b[0;34m\u001b[0m\u001b[0m\n\u001b[1;32m   1190\u001b[0m     \u001b[0;32mif\u001b[0m \u001b[0mseed\u001b[0m \u001b[0;32mis\u001b[0m \u001b[0;32mnot\u001b[0m \u001b[0;32mNone\u001b[0m\u001b[0;34m:\u001b[0m\u001b[0;34m\u001b[0m\u001b[0;34m\u001b[0m\u001b[0m\n\u001b[0;32m-> 1191\u001b[0;31m         \u001b[0mjc\u001b[0m \u001b[0;34m=\u001b[0m \u001b[0msc\u001b[0m\u001b[0;34m.\u001b[0m\u001b[0m_jvm\u001b[0m\u001b[0;34m.\u001b[0m\u001b[0mfunctions\u001b[0m\u001b[0;34m.\u001b[0m\u001b[0mrand\u001b[0m\u001b[0;34m(\u001b[0m\u001b[0mseed\u001b[0m\u001b[0;34m)\u001b[0m\u001b[0;34m\u001b[0m\u001b[0;34m\u001b[0m\u001b[0m\n\u001b[0m\u001b[1;32m   1192\u001b[0m     \u001b[0;32melse\u001b[0m\u001b[0;34m:\u001b[0m\u001b[0;34m\u001b[0m\u001b[0;34m\u001b[0m\u001b[0m\n\u001b[1;32m   1193\u001b[0m         \u001b[0mjc\u001b[0m \u001b[0;34m=\u001b[0m \u001b[0msc\u001b[0m\u001b[0;34m.\u001b[0m\u001b[0m_jvm\u001b[0m\u001b[0;34m.\u001b[0m\u001b[0mfunctions\u001b[0m\u001b[0;34m.\u001b[0m\u001b[0mrand\u001b[0m\u001b[0;34m(\u001b[0m\u001b[0;34m)\u001b[0m\u001b[0;34m\u001b[0m\u001b[0;34m\u001b[0m\u001b[0m\n",
            "\u001b[0;32m/content/spark-3.1.2-bin-hadoop2.7/python/lib/py4j-0.10.9-src.zip/py4j/java_gateway.py\u001b[0m in \u001b[0;36m__getattr__\u001b[0;34m(self, name)\u001b[0m\n\u001b[1;32m   1690\u001b[0m             \u001b[0;32mreturn\u001b[0m \u001b[0mUserHelpAutoCompletion\u001b[0m\u001b[0;34m(\u001b[0m\u001b[0;34m)\u001b[0m\u001b[0;34m\u001b[0m\u001b[0;34m\u001b[0m\u001b[0m\n\u001b[1;32m   1691\u001b[0m \u001b[0;34m\u001b[0m\u001b[0m\n\u001b[0;32m-> 1692\u001b[0;31m         answer = self._gateway_client.send_command(\n\u001b[0m\u001b[1;32m   1693\u001b[0m             \u001b[0mproto\u001b[0m\u001b[0;34m.\u001b[0m\u001b[0mREFLECTION_COMMAND_NAME\u001b[0m \u001b[0;34m+\u001b[0m\u001b[0;34m\u001b[0m\u001b[0;34m\u001b[0m\u001b[0m\n\u001b[1;32m   1694\u001b[0m             \u001b[0mproto\u001b[0m\u001b[0;34m.\u001b[0m\u001b[0mREFL_GET_UNKNOWN_SUB_COMMAND_NAME\u001b[0m \u001b[0;34m+\u001b[0m \u001b[0mname\u001b[0m \u001b[0;34m+\u001b[0m \u001b[0;34m\"\\n\"\u001b[0m \u001b[0;34m+\u001b[0m \u001b[0mself\u001b[0m\u001b[0;34m.\u001b[0m\u001b[0m_id\u001b[0m \u001b[0;34m+\u001b[0m\u001b[0;34m\u001b[0m\u001b[0;34m\u001b[0m\u001b[0m\n",
            "\u001b[0;32m/content/spark-3.1.2-bin-hadoop2.7/python/lib/py4j-0.10.9-src.zip/py4j/java_gateway.py\u001b[0m in \u001b[0;36msend_command\u001b[0;34m(self, command, retry, binary)\u001b[0m\n\u001b[1;32m   1029\u001b[0m          \u001b[0;32mif\u001b[0m\u001b[0;31m \u001b[0m\u001b[0;31m`\u001b[0m\u001b[0mbinary\u001b[0m\u001b[0;31m`\u001b[0m \u001b[0;32mis\u001b[0m\u001b[0;31m \u001b[0m\u001b[0;31m`\u001b[0m\u001b[0;32mTrue\u001b[0m\u001b[0;31m`\u001b[0m\u001b[0;34m.\u001b[0m\u001b[0;34m\u001b[0m\u001b[0;34m\u001b[0m\u001b[0m\n\u001b[1;32m   1030\u001b[0m         \"\"\"\n\u001b[0;32m-> 1031\u001b[0;31m         \u001b[0mconnection\u001b[0m \u001b[0;34m=\u001b[0m \u001b[0mself\u001b[0m\u001b[0;34m.\u001b[0m\u001b[0m_get_connection\u001b[0m\u001b[0;34m(\u001b[0m\u001b[0;34m)\u001b[0m\u001b[0;34m\u001b[0m\u001b[0;34m\u001b[0m\u001b[0m\n\u001b[0m\u001b[1;32m   1032\u001b[0m         \u001b[0;32mtry\u001b[0m\u001b[0;34m:\u001b[0m\u001b[0;34m\u001b[0m\u001b[0;34m\u001b[0m\u001b[0m\n\u001b[1;32m   1033\u001b[0m             \u001b[0mresponse\u001b[0m \u001b[0;34m=\u001b[0m \u001b[0mconnection\u001b[0m\u001b[0;34m.\u001b[0m\u001b[0msend_command\u001b[0m\u001b[0;34m(\u001b[0m\u001b[0mcommand\u001b[0m\u001b[0;34m)\u001b[0m\u001b[0;34m\u001b[0m\u001b[0;34m\u001b[0m\u001b[0m\n",
            "\u001b[0;32m/content/spark-3.1.2-bin-hadoop2.7/python/lib/py4j-0.10.9-src.zip/py4j/java_gateway.py\u001b[0m in \u001b[0;36m_get_connection\u001b[0;34m(self)\u001b[0m\n\u001b[1;32m    977\u001b[0m             \u001b[0mconnection\u001b[0m \u001b[0;34m=\u001b[0m \u001b[0mself\u001b[0m\u001b[0;34m.\u001b[0m\u001b[0mdeque\u001b[0m\u001b[0;34m.\u001b[0m\u001b[0mpop\u001b[0m\u001b[0;34m(\u001b[0m\u001b[0;34m)\u001b[0m\u001b[0;34m\u001b[0m\u001b[0;34m\u001b[0m\u001b[0m\n\u001b[1;32m    978\u001b[0m         \u001b[0;32mexcept\u001b[0m \u001b[0mIndexError\u001b[0m\u001b[0;34m:\u001b[0m\u001b[0;34m\u001b[0m\u001b[0;34m\u001b[0m\u001b[0m\n\u001b[0;32m--> 979\u001b[0;31m             \u001b[0mconnection\u001b[0m \u001b[0;34m=\u001b[0m \u001b[0mself\u001b[0m\u001b[0;34m.\u001b[0m\u001b[0m_create_connection\u001b[0m\u001b[0;34m(\u001b[0m\u001b[0;34m)\u001b[0m\u001b[0;34m\u001b[0m\u001b[0;34m\u001b[0m\u001b[0m\n\u001b[0m\u001b[1;32m    980\u001b[0m         \u001b[0;32mreturn\u001b[0m \u001b[0mconnection\u001b[0m\u001b[0;34m\u001b[0m\u001b[0;34m\u001b[0m\u001b[0m\n\u001b[1;32m    981\u001b[0m \u001b[0;34m\u001b[0m\u001b[0m\n",
            "\u001b[0;32m/content/spark-3.1.2-bin-hadoop2.7/python/lib/py4j-0.10.9-src.zip/py4j/java_gateway.py\u001b[0m in \u001b[0;36m_create_connection\u001b[0;34m(self)\u001b[0m\n\u001b[1;32m    983\u001b[0m         connection = GatewayConnection(\n\u001b[1;32m    984\u001b[0m             self.gateway_parameters, self.gateway_property)\n\u001b[0;32m--> 985\u001b[0;31m         \u001b[0mconnection\u001b[0m\u001b[0;34m.\u001b[0m\u001b[0mstart\u001b[0m\u001b[0;34m(\u001b[0m\u001b[0;34m)\u001b[0m\u001b[0;34m\u001b[0m\u001b[0;34m\u001b[0m\u001b[0m\n\u001b[0m\u001b[1;32m    986\u001b[0m         \u001b[0;32mreturn\u001b[0m \u001b[0mconnection\u001b[0m\u001b[0;34m\u001b[0m\u001b[0;34m\u001b[0m\u001b[0m\n\u001b[1;32m    987\u001b[0m \u001b[0;34m\u001b[0m\u001b[0m\n",
            "\u001b[0;32m/content/spark-3.1.2-bin-hadoop2.7/python/lib/py4j-0.10.9-src.zip/py4j/java_gateway.py\u001b[0m in \u001b[0;36mstart\u001b[0;34m(self)\u001b[0m\n\u001b[1;32m   1125\u001b[0m                 \u001b[0;34m\"server ({0}:{1})\"\u001b[0m\u001b[0;34m.\u001b[0m\u001b[0mformat\u001b[0m\u001b[0;34m(\u001b[0m\u001b[0mself\u001b[0m\u001b[0;34m.\u001b[0m\u001b[0maddress\u001b[0m\u001b[0;34m,\u001b[0m \u001b[0mself\u001b[0m\u001b[0;34m.\u001b[0m\u001b[0mport\u001b[0m\u001b[0;34m)\u001b[0m\u001b[0;34m\u001b[0m\u001b[0;34m\u001b[0m\u001b[0m\n\u001b[1;32m   1126\u001b[0m             \u001b[0mlogger\u001b[0m\u001b[0;34m.\u001b[0m\u001b[0mexception\u001b[0m\u001b[0;34m(\u001b[0m\u001b[0mmsg\u001b[0m\u001b[0;34m)\u001b[0m\u001b[0;34m\u001b[0m\u001b[0;34m\u001b[0m\u001b[0m\n\u001b[0;32m-> 1127\u001b[0;31m             \u001b[0;32mraise\u001b[0m \u001b[0mPy4JNetworkError\u001b[0m\u001b[0;34m(\u001b[0m\u001b[0mmsg\u001b[0m\u001b[0;34m,\u001b[0m \u001b[0me\u001b[0m\u001b[0;34m)\u001b[0m\u001b[0;34m\u001b[0m\u001b[0;34m\u001b[0m\u001b[0m\n\u001b[0m\u001b[1;32m   1128\u001b[0m \u001b[0;34m\u001b[0m\u001b[0m\n\u001b[1;32m   1129\u001b[0m     \u001b[0;32mdef\u001b[0m \u001b[0m_authenticate_connection\u001b[0m\u001b[0;34m(\u001b[0m\u001b[0mself\u001b[0m\u001b[0;34m)\u001b[0m\u001b[0;34m:\u001b[0m\u001b[0;34m\u001b[0m\u001b[0;34m\u001b[0m\u001b[0m\n",
            "\u001b[0;31mPy4JNetworkError\u001b[0m: An error occurred while trying to connect to the Java server (127.0.0.1:34879)"
          ]
        }
      ]
    },
    {
      "cell_type": "code",
      "source": [
        "previsoes_rfr_cv_teste = modelo_rfr_cv.transform(teste)"
      ],
      "metadata": {
        "id": "GnqPVwlYDdur",
        "colab": {
          "base_uri": "https://localhost:8080/",
          "height": 165
        },
        "outputId": "65989177-b03c-4400-a868-3b33a303f4d5"
      },
      "execution_count": 126,
      "outputs": [
        {
          "output_type": "error",
          "ename": "NameError",
          "evalue": "ignored",
          "traceback": [
            "\u001b[0;31m---------------------------------------------------------------------------\u001b[0m",
            "\u001b[0;31mNameError\u001b[0m                                 Traceback (most recent call last)",
            "\u001b[0;32m<ipython-input-126-835805b44b60>\u001b[0m in \u001b[0;36m<module>\u001b[0;34m\u001b[0m\n\u001b[0;32m----> 1\u001b[0;31m \u001b[0mprevisoes_rfr_cv_teste\u001b[0m \u001b[0;34m=\u001b[0m \u001b[0mmodelo_rfr_cv\u001b[0m\u001b[0;34m.\u001b[0m\u001b[0mtransform\u001b[0m\u001b[0;34m(\u001b[0m\u001b[0mteste\u001b[0m\u001b[0;34m)\u001b[0m\u001b[0;34m\u001b[0m\u001b[0;34m\u001b[0m\u001b[0m\n\u001b[0m",
            "\u001b[0;31mNameError\u001b[0m: name 'modelo_rfr_cv' is not defined"
          ]
        }
      ]
    },
    {
      "cell_type": "code",
      "source": [
        "print('Random Forest')\n",
        "print(\"=\"*30)\n",
        "print(\"Sem Cross Validation\")\n",
        "print(\"=\"*30)\n",
        "print(\"R²: %f\" % evaluator.evaluate(previsoes_rfr_teste, {evaluator.metricName: \"r2\"}))\n",
        "print(\"RMSE: %f\" % evaluator.evaluate(previsoes_rfr_teste, {evaluator.metricName: \"rmse\"}))\n",
        "print(\"\")\n",
        "print(\"=\"*30)\n",
        "print(\"Com Cross Validation\")\n",
        "print(\"=\"*30)\n",
        "print(\"R²: %f\" % evaluator.evaluate(previsoes_rfr_cv_teste, {evaluator.metricName: \"r2\"}))\n",
        "print(\"RMSE: %f\" % evaluator.evaluate(previsoes_rfr_cv_teste, {evaluator.metricName: \"rmse\"}))"
      ],
      "metadata": {
        "colab": {
          "base_uri": "https://localhost:8080/",
          "height": 796
        },
        "id": "2CCtE41VDe8w",
        "outputId": "67a33984-22e8-4fc5-85b2-f5d5fe84157e"
      },
      "execution_count": 121,
      "outputs": [
        {
          "output_type": "stream",
          "name": "stderr",
          "text": [
            "ERROR:py4j.java_gateway:An error occurred while trying to connect to the Java server (127.0.0.1:45647)\n",
            "Traceback (most recent call last):\n",
            "  File \"/content/spark-3.1.2-bin-hadoop2.7/python/lib/py4j-0.10.9-src.zip/py4j/java_gateway.py\", line 977, in _get_connection\n",
            "    connection = self.deque.pop()\n",
            "IndexError: pop from an empty deque\n",
            "\n",
            "During handling of the above exception, another exception occurred:\n",
            "\n",
            "Traceback (most recent call last):\n",
            "  File \"/content/spark-3.1.2-bin-hadoop2.7/python/lib/py4j-0.10.9-src.zip/py4j/java_gateway.py\", line 1115, in start\n",
            "    self.socket.connect((self.address, self.port))\n",
            "ConnectionRefusedError: [Errno 111] Connection refused\n"
          ]
        },
        {
          "output_type": "stream",
          "name": "stdout",
          "text": [
            "Random Forest\n",
            "==============================\n",
            "Sem Cross Validation\n",
            "==============================\n"
          ]
        },
        {
          "output_type": "error",
          "ename": "Py4JNetworkError",
          "evalue": "ignored",
          "traceback": [
            "\u001b[0;31m---------------------------------------------------------------------------\u001b[0m",
            "\u001b[0;31mIndexError\u001b[0m                                Traceback (most recent call last)",
            "\u001b[0;32m/content/spark-3.1.2-bin-hadoop2.7/python/lib/py4j-0.10.9-src.zip/py4j/java_gateway.py\u001b[0m in \u001b[0;36m_get_connection\u001b[0;34m(self)\u001b[0m\n\u001b[1;32m    976\u001b[0m         \u001b[0;32mtry\u001b[0m\u001b[0;34m:\u001b[0m\u001b[0;34m\u001b[0m\u001b[0;34m\u001b[0m\u001b[0m\n\u001b[0;32m--> 977\u001b[0;31m             \u001b[0mconnection\u001b[0m \u001b[0;34m=\u001b[0m \u001b[0mself\u001b[0m\u001b[0;34m.\u001b[0m\u001b[0mdeque\u001b[0m\u001b[0;34m.\u001b[0m\u001b[0mpop\u001b[0m\u001b[0;34m(\u001b[0m\u001b[0;34m)\u001b[0m\u001b[0;34m\u001b[0m\u001b[0;34m\u001b[0m\u001b[0m\n\u001b[0m\u001b[1;32m    978\u001b[0m         \u001b[0;32mexcept\u001b[0m \u001b[0mIndexError\u001b[0m\u001b[0;34m:\u001b[0m\u001b[0;34m\u001b[0m\u001b[0;34m\u001b[0m\u001b[0m\n",
            "\u001b[0;31mIndexError\u001b[0m: pop from an empty deque",
            "\nDuring handling of the above exception, another exception occurred:\n",
            "\u001b[0;31mConnectionRefusedError\u001b[0m                    Traceback (most recent call last)",
            "\u001b[0;32m/content/spark-3.1.2-bin-hadoop2.7/python/lib/py4j-0.10.9-src.zip/py4j/java_gateway.py\u001b[0m in \u001b[0;36mstart\u001b[0;34m(self)\u001b[0m\n\u001b[1;32m   1114\u001b[0m         \u001b[0;32mtry\u001b[0m\u001b[0;34m:\u001b[0m\u001b[0;34m\u001b[0m\u001b[0;34m\u001b[0m\u001b[0m\n\u001b[0;32m-> 1115\u001b[0;31m             \u001b[0mself\u001b[0m\u001b[0;34m.\u001b[0m\u001b[0msocket\u001b[0m\u001b[0;34m.\u001b[0m\u001b[0mconnect\u001b[0m\u001b[0;34m(\u001b[0m\u001b[0;34m(\u001b[0m\u001b[0mself\u001b[0m\u001b[0;34m.\u001b[0m\u001b[0maddress\u001b[0m\u001b[0;34m,\u001b[0m \u001b[0mself\u001b[0m\u001b[0;34m.\u001b[0m\u001b[0mport\u001b[0m\u001b[0;34m)\u001b[0m\u001b[0;34m)\u001b[0m\u001b[0;34m\u001b[0m\u001b[0;34m\u001b[0m\u001b[0m\n\u001b[0m\u001b[1;32m   1116\u001b[0m             \u001b[0mself\u001b[0m\u001b[0;34m.\u001b[0m\u001b[0mstream\u001b[0m \u001b[0;34m=\u001b[0m \u001b[0mself\u001b[0m\u001b[0;34m.\u001b[0m\u001b[0msocket\u001b[0m\u001b[0;34m.\u001b[0m\u001b[0mmakefile\u001b[0m\u001b[0;34m(\u001b[0m\u001b[0;34m\"rb\"\u001b[0m\u001b[0;34m)\u001b[0m\u001b[0;34m\u001b[0m\u001b[0;34m\u001b[0m\u001b[0m\n",
            "\u001b[0;31mConnectionRefusedError\u001b[0m: [Errno 111] Connection refused",
            "\nDuring handling of the above exception, another exception occurred:\n",
            "\u001b[0;31mPy4JNetworkError\u001b[0m                          Traceback (most recent call last)",
            "\u001b[0;32m<ipython-input-121-fcd05156ebb4>\u001b[0m in \u001b[0;36m<module>\u001b[0;34m\u001b[0m\n\u001b[1;32m      3\u001b[0m \u001b[0mprint\u001b[0m\u001b[0;34m(\u001b[0m\u001b[0;34m\"Sem Cross Validation\"\u001b[0m\u001b[0;34m)\u001b[0m\u001b[0;34m\u001b[0m\u001b[0;34m\u001b[0m\u001b[0m\n\u001b[1;32m      4\u001b[0m \u001b[0mprint\u001b[0m\u001b[0;34m(\u001b[0m\u001b[0;34m\"=\"\u001b[0m\u001b[0;34m*\u001b[0m\u001b[0;36m30\u001b[0m\u001b[0;34m)\u001b[0m\u001b[0;34m\u001b[0m\u001b[0;34m\u001b[0m\u001b[0m\n\u001b[0;32m----> 5\u001b[0;31m \u001b[0mprint\u001b[0m\u001b[0;34m(\u001b[0m\u001b[0;34m\"R²: %f\"\u001b[0m \u001b[0;34m%\u001b[0m \u001b[0mevaluator\u001b[0m\u001b[0;34m.\u001b[0m\u001b[0mevaluate\u001b[0m\u001b[0;34m(\u001b[0m\u001b[0mprevisoes_rfr_teste\u001b[0m\u001b[0;34m,\u001b[0m \u001b[0;34m{\u001b[0m\u001b[0mevaluator\u001b[0m\u001b[0;34m.\u001b[0m\u001b[0mmetricName\u001b[0m\u001b[0;34m:\u001b[0m \u001b[0;34m\"r2\"\u001b[0m\u001b[0;34m}\u001b[0m\u001b[0;34m)\u001b[0m\u001b[0;34m)\u001b[0m\u001b[0;34m\u001b[0m\u001b[0;34m\u001b[0m\u001b[0m\n\u001b[0m\u001b[1;32m      6\u001b[0m \u001b[0mprint\u001b[0m\u001b[0;34m(\u001b[0m\u001b[0;34m\"RMSE: %f\"\u001b[0m \u001b[0;34m%\u001b[0m \u001b[0mevaluator\u001b[0m\u001b[0;34m.\u001b[0m\u001b[0mevaluate\u001b[0m\u001b[0;34m(\u001b[0m\u001b[0mprevisoes_rfr_teste\u001b[0m\u001b[0;34m,\u001b[0m \u001b[0;34m{\u001b[0m\u001b[0mevaluator\u001b[0m\u001b[0;34m.\u001b[0m\u001b[0mmetricName\u001b[0m\u001b[0;34m:\u001b[0m \u001b[0;34m\"rmse\"\u001b[0m\u001b[0;34m}\u001b[0m\u001b[0;34m)\u001b[0m\u001b[0;34m)\u001b[0m\u001b[0;34m\u001b[0m\u001b[0;34m\u001b[0m\u001b[0m\n\u001b[1;32m      7\u001b[0m \u001b[0mprint\u001b[0m\u001b[0;34m(\u001b[0m\u001b[0;34m\"\"\u001b[0m\u001b[0;34m)\u001b[0m\u001b[0;34m\u001b[0m\u001b[0;34m\u001b[0m\u001b[0m\n",
            "\u001b[0;32m/content/spark-3.1.2-bin-hadoop2.7/python/pyspark/ml/evaluation.py\u001b[0m in \u001b[0;36mevaluate\u001b[0;34m(self, dataset, params)\u001b[0m\n\u001b[1;32m     80\u001b[0m         \u001b[0;32mif\u001b[0m \u001b[0misinstance\u001b[0m\u001b[0;34m(\u001b[0m\u001b[0mparams\u001b[0m\u001b[0;34m,\u001b[0m \u001b[0mdict\u001b[0m\u001b[0;34m)\u001b[0m\u001b[0;34m:\u001b[0m\u001b[0;34m\u001b[0m\u001b[0;34m\u001b[0m\u001b[0m\n\u001b[1;32m     81\u001b[0m             \u001b[0;32mif\u001b[0m \u001b[0mparams\u001b[0m\u001b[0;34m:\u001b[0m\u001b[0;34m\u001b[0m\u001b[0;34m\u001b[0m\u001b[0m\n\u001b[0;32m---> 82\u001b[0;31m                 \u001b[0;32mreturn\u001b[0m \u001b[0mself\u001b[0m\u001b[0;34m.\u001b[0m\u001b[0mcopy\u001b[0m\u001b[0;34m(\u001b[0m\u001b[0mparams\u001b[0m\u001b[0;34m)\u001b[0m\u001b[0;34m.\u001b[0m\u001b[0m_evaluate\u001b[0m\u001b[0;34m(\u001b[0m\u001b[0mdataset\u001b[0m\u001b[0;34m)\u001b[0m\u001b[0;34m\u001b[0m\u001b[0;34m\u001b[0m\u001b[0m\n\u001b[0m\u001b[1;32m     83\u001b[0m             \u001b[0;32melse\u001b[0m\u001b[0;34m:\u001b[0m\u001b[0;34m\u001b[0m\u001b[0;34m\u001b[0m\u001b[0m\n\u001b[1;32m     84\u001b[0m                 \u001b[0;32mreturn\u001b[0m \u001b[0mself\u001b[0m\u001b[0;34m.\u001b[0m\u001b[0m_evaluate\u001b[0m\u001b[0;34m(\u001b[0m\u001b[0mdataset\u001b[0m\u001b[0;34m)\u001b[0m\u001b[0;34m\u001b[0m\u001b[0;34m\u001b[0m\u001b[0m\n",
            "\u001b[0;32m/content/spark-3.1.2-bin-hadoop2.7/python/pyspark/ml/wrapper.py\u001b[0m in \u001b[0;36mcopy\u001b[0;34m(self, extra)\u001b[0m\n\u001b[1;32m    288\u001b[0m         \u001b[0mthat\u001b[0m \u001b[0;34m=\u001b[0m \u001b[0msuper\u001b[0m\u001b[0;34m(\u001b[0m\u001b[0mJavaParams\u001b[0m\u001b[0;34m,\u001b[0m \u001b[0mself\u001b[0m\u001b[0;34m)\u001b[0m\u001b[0;34m.\u001b[0m\u001b[0mcopy\u001b[0m\u001b[0;34m(\u001b[0m\u001b[0mextra\u001b[0m\u001b[0;34m)\u001b[0m\u001b[0;34m\u001b[0m\u001b[0;34m\u001b[0m\u001b[0m\n\u001b[1;32m    289\u001b[0m         \u001b[0;32mif\u001b[0m \u001b[0mself\u001b[0m\u001b[0;34m.\u001b[0m\u001b[0m_java_obj\u001b[0m \u001b[0;32mis\u001b[0m \u001b[0;32mnot\u001b[0m \u001b[0;32mNone\u001b[0m\u001b[0;34m:\u001b[0m\u001b[0;34m\u001b[0m\u001b[0;34m\u001b[0m\u001b[0m\n\u001b[0;32m--> 290\u001b[0;31m             \u001b[0mthat\u001b[0m\u001b[0;34m.\u001b[0m\u001b[0m_java_obj\u001b[0m \u001b[0;34m=\u001b[0m \u001b[0mself\u001b[0m\u001b[0;34m.\u001b[0m\u001b[0m_java_obj\u001b[0m\u001b[0;34m.\u001b[0m\u001b[0mcopy\u001b[0m\u001b[0;34m(\u001b[0m\u001b[0mself\u001b[0m\u001b[0;34m.\u001b[0m\u001b[0m_empty_java_param_map\u001b[0m\u001b[0;34m(\u001b[0m\u001b[0;34m)\u001b[0m\u001b[0;34m)\u001b[0m\u001b[0;34m\u001b[0m\u001b[0;34m\u001b[0m\u001b[0m\n\u001b[0m\u001b[1;32m    291\u001b[0m             \u001b[0mthat\u001b[0m\u001b[0;34m.\u001b[0m\u001b[0m_transfer_params_to_java\u001b[0m\u001b[0;34m(\u001b[0m\u001b[0;34m)\u001b[0m\u001b[0;34m\u001b[0m\u001b[0;34m\u001b[0m\u001b[0m\n\u001b[1;32m    292\u001b[0m         \u001b[0;32mreturn\u001b[0m \u001b[0mthat\u001b[0m\u001b[0;34m\u001b[0m\u001b[0;34m\u001b[0m\u001b[0m\n",
            "\u001b[0;32m/content/spark-3.1.2-bin-hadoop2.7/python/pyspark/ml/wrapper.py\u001b[0m in \u001b[0;36m_empty_java_param_map\u001b[0;34m()\u001b[0m\n\u001b[1;32m    210\u001b[0m         \u001b[0mReturns\u001b[0m \u001b[0man\u001b[0m \u001b[0mempty\u001b[0m \u001b[0mJava\u001b[0m \u001b[0mParamMap\u001b[0m \u001b[0mreference\u001b[0m\u001b[0;34m.\u001b[0m\u001b[0;34m\u001b[0m\u001b[0;34m\u001b[0m\u001b[0m\n\u001b[1;32m    211\u001b[0m         \"\"\"\n\u001b[0;32m--> 212\u001b[0;31m         \u001b[0;32mreturn\u001b[0m \u001b[0m_jvm\u001b[0m\u001b[0;34m(\u001b[0m\u001b[0;34m)\u001b[0m\u001b[0;34m.\u001b[0m\u001b[0morg\u001b[0m\u001b[0;34m.\u001b[0m\u001b[0mapache\u001b[0m\u001b[0;34m.\u001b[0m\u001b[0mspark\u001b[0m\u001b[0;34m.\u001b[0m\u001b[0mml\u001b[0m\u001b[0;34m.\u001b[0m\u001b[0mparam\u001b[0m\u001b[0;34m.\u001b[0m\u001b[0mParamMap\u001b[0m\u001b[0;34m(\u001b[0m\u001b[0;34m)\u001b[0m\u001b[0;34m\u001b[0m\u001b[0;34m\u001b[0m\u001b[0m\n\u001b[0m\u001b[1;32m    213\u001b[0m \u001b[0;34m\u001b[0m\u001b[0m\n\u001b[1;32m    214\u001b[0m     \u001b[0;32mdef\u001b[0m \u001b[0m_to_java\u001b[0m\u001b[0;34m(\u001b[0m\u001b[0mself\u001b[0m\u001b[0;34m)\u001b[0m\u001b[0;34m:\u001b[0m\u001b[0;34m\u001b[0m\u001b[0;34m\u001b[0m\u001b[0m\n",
            "\u001b[0;32m/content/spark-3.1.2-bin-hadoop2.7/python/lib/py4j-0.10.9-src.zip/py4j/java_gateway.py\u001b[0m in \u001b[0;36m__getattr__\u001b[0;34m(self, name)\u001b[0m\n\u001b[1;32m   1690\u001b[0m             \u001b[0;32mreturn\u001b[0m \u001b[0mUserHelpAutoCompletion\u001b[0m\u001b[0;34m(\u001b[0m\u001b[0;34m)\u001b[0m\u001b[0;34m\u001b[0m\u001b[0;34m\u001b[0m\u001b[0m\n\u001b[1;32m   1691\u001b[0m \u001b[0;34m\u001b[0m\u001b[0m\n\u001b[0;32m-> 1692\u001b[0;31m         answer = self._gateway_client.send_command(\n\u001b[0m\u001b[1;32m   1693\u001b[0m             \u001b[0mproto\u001b[0m\u001b[0;34m.\u001b[0m\u001b[0mREFLECTION_COMMAND_NAME\u001b[0m \u001b[0;34m+\u001b[0m\u001b[0;34m\u001b[0m\u001b[0;34m\u001b[0m\u001b[0m\n\u001b[1;32m   1694\u001b[0m             \u001b[0mproto\u001b[0m\u001b[0;34m.\u001b[0m\u001b[0mREFL_GET_UNKNOWN_SUB_COMMAND_NAME\u001b[0m \u001b[0;34m+\u001b[0m \u001b[0mname\u001b[0m \u001b[0;34m+\u001b[0m \u001b[0;34m\"\\n\"\u001b[0m \u001b[0;34m+\u001b[0m \u001b[0mself\u001b[0m\u001b[0;34m.\u001b[0m\u001b[0m_id\u001b[0m \u001b[0;34m+\u001b[0m\u001b[0;34m\u001b[0m\u001b[0;34m\u001b[0m\u001b[0m\n",
            "\u001b[0;32m/content/spark-3.1.2-bin-hadoop2.7/python/lib/py4j-0.10.9-src.zip/py4j/java_gateway.py\u001b[0m in \u001b[0;36msend_command\u001b[0;34m(self, command, retry, binary)\u001b[0m\n\u001b[1;32m   1029\u001b[0m          \u001b[0;32mif\u001b[0m\u001b[0;31m \u001b[0m\u001b[0;31m`\u001b[0m\u001b[0mbinary\u001b[0m\u001b[0;31m`\u001b[0m \u001b[0;32mis\u001b[0m\u001b[0;31m \u001b[0m\u001b[0;31m`\u001b[0m\u001b[0;32mTrue\u001b[0m\u001b[0;31m`\u001b[0m\u001b[0;34m.\u001b[0m\u001b[0;34m\u001b[0m\u001b[0;34m\u001b[0m\u001b[0m\n\u001b[1;32m   1030\u001b[0m         \"\"\"\n\u001b[0;32m-> 1031\u001b[0;31m         \u001b[0mconnection\u001b[0m \u001b[0;34m=\u001b[0m \u001b[0mself\u001b[0m\u001b[0;34m.\u001b[0m\u001b[0m_get_connection\u001b[0m\u001b[0;34m(\u001b[0m\u001b[0;34m)\u001b[0m\u001b[0;34m\u001b[0m\u001b[0;34m\u001b[0m\u001b[0m\n\u001b[0m\u001b[1;32m   1032\u001b[0m         \u001b[0;32mtry\u001b[0m\u001b[0;34m:\u001b[0m\u001b[0;34m\u001b[0m\u001b[0;34m\u001b[0m\u001b[0m\n\u001b[1;32m   1033\u001b[0m             \u001b[0mresponse\u001b[0m \u001b[0;34m=\u001b[0m \u001b[0mconnection\u001b[0m\u001b[0;34m.\u001b[0m\u001b[0msend_command\u001b[0m\u001b[0;34m(\u001b[0m\u001b[0mcommand\u001b[0m\u001b[0;34m)\u001b[0m\u001b[0;34m\u001b[0m\u001b[0;34m\u001b[0m\u001b[0m\n",
            "\u001b[0;32m/content/spark-3.1.2-bin-hadoop2.7/python/lib/py4j-0.10.9-src.zip/py4j/java_gateway.py\u001b[0m in \u001b[0;36m_get_connection\u001b[0;34m(self)\u001b[0m\n\u001b[1;32m    977\u001b[0m             \u001b[0mconnection\u001b[0m \u001b[0;34m=\u001b[0m \u001b[0mself\u001b[0m\u001b[0;34m.\u001b[0m\u001b[0mdeque\u001b[0m\u001b[0;34m.\u001b[0m\u001b[0mpop\u001b[0m\u001b[0;34m(\u001b[0m\u001b[0;34m)\u001b[0m\u001b[0;34m\u001b[0m\u001b[0;34m\u001b[0m\u001b[0m\n\u001b[1;32m    978\u001b[0m         \u001b[0;32mexcept\u001b[0m \u001b[0mIndexError\u001b[0m\u001b[0;34m:\u001b[0m\u001b[0;34m\u001b[0m\u001b[0;34m\u001b[0m\u001b[0m\n\u001b[0;32m--> 979\u001b[0;31m             \u001b[0mconnection\u001b[0m \u001b[0;34m=\u001b[0m \u001b[0mself\u001b[0m\u001b[0;34m.\u001b[0m\u001b[0m_create_connection\u001b[0m\u001b[0;34m(\u001b[0m\u001b[0;34m)\u001b[0m\u001b[0;34m\u001b[0m\u001b[0;34m\u001b[0m\u001b[0m\n\u001b[0m\u001b[1;32m    980\u001b[0m         \u001b[0;32mreturn\u001b[0m \u001b[0mconnection\u001b[0m\u001b[0;34m\u001b[0m\u001b[0;34m\u001b[0m\u001b[0m\n\u001b[1;32m    981\u001b[0m \u001b[0;34m\u001b[0m\u001b[0m\n",
            "\u001b[0;32m/content/spark-3.1.2-bin-hadoop2.7/python/lib/py4j-0.10.9-src.zip/py4j/java_gateway.py\u001b[0m in \u001b[0;36m_create_connection\u001b[0;34m(self)\u001b[0m\n\u001b[1;32m    983\u001b[0m         connection = GatewayConnection(\n\u001b[1;32m    984\u001b[0m             self.gateway_parameters, self.gateway_property)\n\u001b[0;32m--> 985\u001b[0;31m         \u001b[0mconnection\u001b[0m\u001b[0;34m.\u001b[0m\u001b[0mstart\u001b[0m\u001b[0;34m(\u001b[0m\u001b[0;34m)\u001b[0m\u001b[0;34m\u001b[0m\u001b[0;34m\u001b[0m\u001b[0m\n\u001b[0m\u001b[1;32m    986\u001b[0m         \u001b[0;32mreturn\u001b[0m \u001b[0mconnection\u001b[0m\u001b[0;34m\u001b[0m\u001b[0;34m\u001b[0m\u001b[0m\n\u001b[1;32m    987\u001b[0m \u001b[0;34m\u001b[0m\u001b[0m\n",
            "\u001b[0;32m/content/spark-3.1.2-bin-hadoop2.7/python/lib/py4j-0.10.9-src.zip/py4j/java_gateway.py\u001b[0m in \u001b[0;36mstart\u001b[0;34m(self)\u001b[0m\n\u001b[1;32m   1125\u001b[0m                 \u001b[0;34m\"server ({0}:{1})\"\u001b[0m\u001b[0;34m.\u001b[0m\u001b[0mformat\u001b[0m\u001b[0;34m(\u001b[0m\u001b[0mself\u001b[0m\u001b[0;34m.\u001b[0m\u001b[0maddress\u001b[0m\u001b[0;34m,\u001b[0m \u001b[0mself\u001b[0m\u001b[0;34m.\u001b[0m\u001b[0mport\u001b[0m\u001b[0;34m)\u001b[0m\u001b[0;34m\u001b[0m\u001b[0;34m\u001b[0m\u001b[0m\n\u001b[1;32m   1126\u001b[0m             \u001b[0mlogger\u001b[0m\u001b[0;34m.\u001b[0m\u001b[0mexception\u001b[0m\u001b[0;34m(\u001b[0m\u001b[0mmsg\u001b[0m\u001b[0;34m)\u001b[0m\u001b[0;34m\u001b[0m\u001b[0;34m\u001b[0m\u001b[0m\n\u001b[0;32m-> 1127\u001b[0;31m             \u001b[0;32mraise\u001b[0m \u001b[0mPy4JNetworkError\u001b[0m\u001b[0;34m(\u001b[0m\u001b[0mmsg\u001b[0m\u001b[0;34m,\u001b[0m \u001b[0me\u001b[0m\u001b[0;34m)\u001b[0m\u001b[0;34m\u001b[0m\u001b[0;34m\u001b[0m\u001b[0m\n\u001b[0m\u001b[1;32m   1128\u001b[0m \u001b[0;34m\u001b[0m\u001b[0m\n\u001b[1;32m   1129\u001b[0m     \u001b[0;32mdef\u001b[0m \u001b[0m_authenticate_connection\u001b[0m\u001b[0;34m(\u001b[0m\u001b[0mself\u001b[0m\u001b[0;34m)\u001b[0m\u001b[0;34m:\u001b[0m\u001b[0;34m\u001b[0m\u001b[0;34m\u001b[0m\u001b[0m\n",
            "\u001b[0;31mPy4JNetworkError\u001b[0m: An error occurred while trying to connect to the Java server (127.0.0.1:45647)"
          ]
        }
      ]
    },
    {
      "cell_type": "markdown",
      "source": [
        "# **Fazendo previsões**"
      ],
      "metadata": {
        "id": "atgiIn5aHw-W"
      }
    },
    {
      "cell_type": "code",
      "source": [
        "x"
      ],
      "metadata": {
        "id": "qQc2s4CIb0jn"
      },
      "execution_count": null,
      "outputs": []
    },
    {
      "cell_type": "code",
      "source": [
        "novo_imovel = [{\n",
        " 'andar': 1,\n",
        " 'label': 0,\n",
        " 'area_util': 400,\n",
        " 'banheiros': 25,\n",
        " 'quartos': 5,\n",
        " 'suites': 2,\n",
        " 'vaga': 2,\n",
        " 'condominio': 1,\n",
        " 'iptu': 0,\n",
        " 'Zona Oeste': 0,\n",
        " 'Zona Sul': 0,\n",
        " 'Zona Central': 0,\n",
        " 'Zona Norte': 1,\n",
        " 'Condomínio fechado': 0,\n",
        " 'Playground': 1,\n",
        " 'Portão eletrônico': 1,\n",
        " 'Piscina': 1,\n",
        " 'Animais permitidos': 1,\n",
        " 'Portaria 24h': 1,\n",
        " 'Elevador': 1,\n",
        " 'Academia': 1,\n",
        " 'Salão de festas': 1,\n",
        " 'Churrasqueira': 1}]"
      ],
      "metadata": {
        "id": "_OhlLrEnb1LR"
      },
      "execution_count": null,
      "outputs": []
    },
    {
      "cell_type": "code",
      "source": [
        "meu_imovel = spark.createDataFrame(novo_imovel)"
      ],
      "metadata": {
        "id": "DK9BMrhhb80a"
      },
      "execution_count": null,
      "outputs": []
    },
    {
      "cell_type": "code",
      "source": [
        "meu_imovel.show()"
      ],
      "metadata": {
        "id": "TdGl2SOyb_br"
      },
      "execution_count": null,
      "outputs": []
    },
    {
      "cell_type": "code",
      "source": [
        "assembler = VectorAssembler(inputCols = x, outputCol = 'features')"
      ],
      "metadata": {
        "id": "i9ZrW5LccBvt"
      },
      "execution_count": null,
      "outputs": []
    },
    {
      "cell_type": "code",
      "source": [
        "meu_lar_vetorizado = assembler.transform(meu_imovel).select('features', 'label')"
      ],
      "metadata": {
        "id": "7KqRARNAcDta"
      },
      "execution_count": null,
      "outputs": []
    },
    {
      "cell_type": "code",
      "source": [
        "meu_lar_vetorizado.show()"
      ],
      "metadata": {
        "id": "Hfl98gcwcE70"
      },
      "execution_count": null,
      "outputs": []
    },
    {
      "cell_type": "code",
      "source": [
        "modelo_rfr_cv.transform(meu_lar_vetorizado).show()"
      ],
      "metadata": {
        "id": "9n2YI5KkcGRm"
      },
      "execution_count": null,
      "outputs": []
    }
  ]
}